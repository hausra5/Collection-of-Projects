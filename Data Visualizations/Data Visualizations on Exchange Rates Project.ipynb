{
 "cells": [
  {
   "cell_type": "markdown",
   "metadata": {},
   "source": [
    "# Visualizing Exchange Rates\n",
    "For this project, we'll be presenting different ways to visualize data.  We'll be focusing on data exchange rates for the Euro and American Dollar between 1999 and 2021.\n",
    "\n",
    "We'll begin by reading in the data, inspecting a sample of the dataset, and learning some basic facts about the data."
   ]
  },
  {
   "cell_type": "code",
   "execution_count": 1,
   "metadata": {},
   "outputs": [],
   "source": [
    "import pandas as pd\n",
    "import matplotlib.pyplot as plt\n",
    "%matplotlib inline\n",
    "import datetime as dt"
   ]
  },
  {
   "cell_type": "code",
   "execution_count": 2,
   "metadata": {},
   "outputs": [
    {
     "data": {
      "text/html": [
       "<div>\n",
       "<style scoped>\n",
       "    .dataframe tbody tr th:only-of-type {\n",
       "        vertical-align: middle;\n",
       "    }\n",
       "\n",
       "    .dataframe tbody tr th {\n",
       "        vertical-align: top;\n",
       "    }\n",
       "\n",
       "    .dataframe thead th {\n",
       "        text-align: right;\n",
       "    }\n",
       "</style>\n",
       "<table border=\"1\" class=\"dataframe\">\n",
       "  <thead>\n",
       "    <tr style=\"text-align: right;\">\n",
       "      <th></th>\n",
       "      <th>Period\\Unit:</th>\n",
       "      <th>[Australian dollar ]</th>\n",
       "      <th>[Bulgarian lev ]</th>\n",
       "      <th>[Brazilian real ]</th>\n",
       "      <th>[Canadian dollar ]</th>\n",
       "      <th>[Swiss franc ]</th>\n",
       "      <th>[Chinese yuan renminbi ]</th>\n",
       "      <th>[Cypriot pound ]</th>\n",
       "      <th>[Czech koruna ]</th>\n",
       "      <th>[Danish krone ]</th>\n",
       "      <th>...</th>\n",
       "      <th>[Romanian leu ]</th>\n",
       "      <th>[Russian rouble ]</th>\n",
       "      <th>[Swedish krona ]</th>\n",
       "      <th>[Singapore dollar ]</th>\n",
       "      <th>[Slovenian tolar ]</th>\n",
       "      <th>[Slovak koruna ]</th>\n",
       "      <th>[Thai baht ]</th>\n",
       "      <th>[Turkish lira ]</th>\n",
       "      <th>[US dollar ]</th>\n",
       "      <th>[South African rand ]</th>\n",
       "    </tr>\n",
       "  </thead>\n",
       "  <tbody>\n",
       "    <tr>\n",
       "      <th>5618</th>\n",
       "      <td>1999-04-26</td>\n",
       "      <td>1.6349</td>\n",
       "      <td>NaN</td>\n",
       "      <td>NaN</td>\n",
       "      <td>1.5692</td>\n",
       "      <td>1.6027</td>\n",
       "      <td>NaN</td>\n",
       "      <td>0.57870</td>\n",
       "      <td>37.710</td>\n",
       "      <td>7.4335</td>\n",
       "      <td>...</td>\n",
       "      <td>1.5703</td>\n",
       "      <td>26.0381</td>\n",
       "      <td>8.8945</td>\n",
       "      <td>1.8046</td>\n",
       "      <td>192.9845</td>\n",
       "      <td>44.799</td>\n",
       "      <td>40.0069</td>\n",
       "      <td>0.4122</td>\n",
       "      <td>1.0614</td>\n",
       "      <td>6.4480</td>\n",
       "    </tr>\n",
       "    <tr>\n",
       "      <th>4330</th>\n",
       "      <td>2004-04-01</td>\n",
       "      <td>1.6125</td>\n",
       "      <td>1.9466</td>\n",
       "      <td>3.5401</td>\n",
       "      <td>1.6150</td>\n",
       "      <td>1.5595</td>\n",
       "      <td>10.1973</td>\n",
       "      <td>0.58617</td>\n",
       "      <td>32.885</td>\n",
       "      <td>7.4458</td>\n",
       "      <td>...</td>\n",
       "      <td>4.1125</td>\n",
       "      <td>35.1154</td>\n",
       "      <td>9.2340</td>\n",
       "      <td>2.0600</td>\n",
       "      <td>238.4300</td>\n",
       "      <td>40.085</td>\n",
       "      <td>48.2172</td>\n",
       "      <td>1.6146</td>\n",
       "      <td>1.2320</td>\n",
       "      <td>7.8278</td>\n",
       "    </tr>\n",
       "    <tr>\n",
       "      <th>3672</th>\n",
       "      <td>2006-10-10</td>\n",
       "      <td>1.6853</td>\n",
       "      <td>1.9558</td>\n",
       "      <td>2.7134</td>\n",
       "      <td>1.4154</td>\n",
       "      <td>1.5909</td>\n",
       "      <td>9.9191</td>\n",
       "      <td>0.57670</td>\n",
       "      <td>28.195</td>\n",
       "      <td>7.4556</td>\n",
       "      <td>...</td>\n",
       "      <td>3.5072</td>\n",
       "      <td>33.7930</td>\n",
       "      <td>9.2740</td>\n",
       "      <td>1.9944</td>\n",
       "      <td>239.6000</td>\n",
       "      <td>37.023</td>\n",
       "      <td>47.0490</td>\n",
       "      <td>1.8800</td>\n",
       "      <td>1.2538</td>\n",
       "      <td>9.7824</td>\n",
       "    </tr>\n",
       "    <tr>\n",
       "      <th>5697</th>\n",
       "      <td>1999-01-05</td>\n",
       "      <td>1.8944</td>\n",
       "      <td>NaN</td>\n",
       "      <td>NaN</td>\n",
       "      <td>1.7965</td>\n",
       "      <td>1.6123</td>\n",
       "      <td>NaN</td>\n",
       "      <td>0.58230</td>\n",
       "      <td>34.917</td>\n",
       "      <td>7.4495</td>\n",
       "      <td>...</td>\n",
       "      <td>1.3168</td>\n",
       "      <td>26.5876</td>\n",
       "      <td>9.4025</td>\n",
       "      <td>1.9655</td>\n",
       "      <td>188.7750</td>\n",
       "      <td>42.848</td>\n",
       "      <td>42.5048</td>\n",
       "      <td>0.3728</td>\n",
       "      <td>1.1790</td>\n",
       "      <td>6.7975</td>\n",
       "    </tr>\n",
       "    <tr>\n",
       "      <th>702</th>\n",
       "      <td>2018-04-11</td>\n",
       "      <td>1.5980</td>\n",
       "      <td>1.9558</td>\n",
       "      <td>4.2333</td>\n",
       "      <td>1.5625</td>\n",
       "      <td>1.1855</td>\n",
       "      <td>7.7815</td>\n",
       "      <td>NaN</td>\n",
       "      <td>25.323</td>\n",
       "      <td>7.4449</td>\n",
       "      <td>...</td>\n",
       "      <td>4.6627</td>\n",
       "      <td>80.0075</td>\n",
       "      <td>10.2863</td>\n",
       "      <td>1.6204</td>\n",
       "      <td>NaN</td>\n",
       "      <td>NaN</td>\n",
       "      <td>38.6010</td>\n",
       "      <td>5.1832</td>\n",
       "      <td>1.2384</td>\n",
       "      <td>14.9678</td>\n",
       "    </tr>\n",
       "    <tr>\n",
       "      <th>4128</th>\n",
       "      <td>2005-01-10</td>\n",
       "      <td>1.7256</td>\n",
       "      <td>1.9559</td>\n",
       "      <td>3.5383</td>\n",
       "      <td>1.6041</td>\n",
       "      <td>1.5469</td>\n",
       "      <td>10.8454</td>\n",
       "      <td>0.58090</td>\n",
       "      <td>30.245</td>\n",
       "      <td>7.4403</td>\n",
       "      <td>...</td>\n",
       "      <td>3.8671</td>\n",
       "      <td>36.3559</td>\n",
       "      <td>9.0430</td>\n",
       "      <td>2.1573</td>\n",
       "      <td>239.7800</td>\n",
       "      <td>38.528</td>\n",
       "      <td>51.2530</td>\n",
       "      <td>1.8155</td>\n",
       "      <td>1.3103</td>\n",
       "      <td>7.8438</td>\n",
       "    </tr>\n",
       "    <tr>\n",
       "      <th>3250</th>\n",
       "      <td>2008-05-22</td>\n",
       "      <td>1.6400</td>\n",
       "      <td>1.9558</td>\n",
       "      <td>2.6111</td>\n",
       "      <td>1.5494</td>\n",
       "      <td>1.6194</td>\n",
       "      <td>10.9387</td>\n",
       "      <td>NaN</td>\n",
       "      <td>25.147</td>\n",
       "      <td>7.4599</td>\n",
       "      <td>...</td>\n",
       "      <td>3.6846</td>\n",
       "      <td>37.1575</td>\n",
       "      <td>9.3045</td>\n",
       "      <td>2.1391</td>\n",
       "      <td>NaN</td>\n",
       "      <td>31.147</td>\n",
       "      <td>50.2940</td>\n",
       "      <td>1.9705</td>\n",
       "      <td>1.5755</td>\n",
       "      <td>12.1458</td>\n",
       "    </tr>\n",
       "    <tr>\n",
       "      <th>2595</th>\n",
       "      <td>2010-11-25</td>\n",
       "      <td>1.3595</td>\n",
       "      <td>1.9558</td>\n",
       "      <td>2.2902</td>\n",
       "      <td>1.3454</td>\n",
       "      <td>1.3326</td>\n",
       "      <td>8.8595</td>\n",
       "      <td>NaN</td>\n",
       "      <td>24.720</td>\n",
       "      <td>7.4558</td>\n",
       "      <td>...</td>\n",
       "      <td>4.2995</td>\n",
       "      <td>41.6510</td>\n",
       "      <td>9.2705</td>\n",
       "      <td>1.7428</td>\n",
       "      <td>NaN</td>\n",
       "      <td>NaN</td>\n",
       "      <td>40.0360</td>\n",
       "      <td>1.9660</td>\n",
       "      <td>1.3321</td>\n",
       "      <td>9.3897</td>\n",
       "    </tr>\n",
       "    <tr>\n",
       "      <th>573</th>\n",
       "      <td>2018-10-10</td>\n",
       "      <td>1.6206</td>\n",
       "      <td>1.9558</td>\n",
       "      <td>4.2893</td>\n",
       "      <td>1.4907</td>\n",
       "      <td>1.1412</td>\n",
       "      <td>7.9621</td>\n",
       "      <td>NaN</td>\n",
       "      <td>25.807</td>\n",
       "      <td>7.4601</td>\n",
       "      <td>...</td>\n",
       "      <td>4.6640</td>\n",
       "      <td>76.1830</td>\n",
       "      <td>10.4800</td>\n",
       "      <td>1.5904</td>\n",
       "      <td>NaN</td>\n",
       "      <td>NaN</td>\n",
       "      <td>37.8640</td>\n",
       "      <td>6.9886</td>\n",
       "      <td>1.1500</td>\n",
       "      <td>16.8243</td>\n",
       "    </tr>\n",
       "    <tr>\n",
       "      <th>687</th>\n",
       "      <td>2018-05-03</td>\n",
       "      <td>1.5926</td>\n",
       "      <td>1.9558</td>\n",
       "      <td>4.2367</td>\n",
       "      <td>1.5404</td>\n",
       "      <td>1.1958</td>\n",
       "      <td>7.6135</td>\n",
       "      <td>NaN</td>\n",
       "      <td>25.585</td>\n",
       "      <td>7.4497</td>\n",
       "      <td>...</td>\n",
       "      <td>4.6658</td>\n",
       "      <td>76.0875</td>\n",
       "      <td>10.6045</td>\n",
       "      <td>1.5962</td>\n",
       "      <td>NaN</td>\n",
       "      <td>NaN</td>\n",
       "      <td>37.9310</td>\n",
       "      <td>5.0360</td>\n",
       "      <td>1.1992</td>\n",
       "      <td>15.1399</td>\n",
       "    </tr>\n",
       "  </tbody>\n",
       "</table>\n",
       "<p>10 rows × 41 columns</p>\n",
       "</div>"
      ],
      "text/plain": [
       "     Period\\Unit: [Australian dollar ] [Bulgarian lev ] [Brazilian real ]  \\\n",
       "5618   1999-04-26               1.6349              NaN               NaN   \n",
       "4330   2004-04-01               1.6125           1.9466            3.5401   \n",
       "3672   2006-10-10               1.6853           1.9558            2.7134   \n",
       "5697   1999-01-05               1.8944              NaN               NaN   \n",
       "702    2018-04-11               1.5980           1.9558            4.2333   \n",
       "4128   2005-01-10               1.7256           1.9559            3.5383   \n",
       "3250   2008-05-22               1.6400           1.9558            2.6111   \n",
       "2595   2010-11-25               1.3595           1.9558            2.2902   \n",
       "573    2018-10-10               1.6206           1.9558            4.2893   \n",
       "687    2018-05-03               1.5926           1.9558            4.2367   \n",
       "\n",
       "     [Canadian dollar ] [Swiss franc ] [Chinese yuan renminbi ]  \\\n",
       "5618             1.5692         1.6027                      NaN   \n",
       "4330             1.6150         1.5595                  10.1973   \n",
       "3672             1.4154         1.5909                   9.9191   \n",
       "5697             1.7965         1.6123                      NaN   \n",
       "702              1.5625         1.1855                   7.7815   \n",
       "4128             1.6041         1.5469                  10.8454   \n",
       "3250             1.5494         1.6194                  10.9387   \n",
       "2595             1.3454         1.3326                   8.8595   \n",
       "573              1.4907         1.1412                   7.9621   \n",
       "687              1.5404         1.1958                   7.6135   \n",
       "\n",
       "     [Cypriot pound ] [Czech koruna ] [Danish krone ]  ... [Romanian leu ]  \\\n",
       "5618          0.57870          37.710          7.4335  ...          1.5703   \n",
       "4330          0.58617          32.885          7.4458  ...          4.1125   \n",
       "3672          0.57670          28.195          7.4556  ...          3.5072   \n",
       "5697          0.58230          34.917          7.4495  ...          1.3168   \n",
       "702               NaN          25.323          7.4449  ...          4.6627   \n",
       "4128          0.58090          30.245          7.4403  ...          3.8671   \n",
       "3250              NaN          25.147          7.4599  ...          3.6846   \n",
       "2595              NaN          24.720          7.4558  ...          4.2995   \n",
       "573               NaN          25.807          7.4601  ...          4.6640   \n",
       "687               NaN          25.585          7.4497  ...          4.6658   \n",
       "\n",
       "     [Russian rouble ] [Swedish krona ] [Singapore dollar ]  \\\n",
       "5618           26.0381           8.8945              1.8046   \n",
       "4330           35.1154           9.2340              2.0600   \n",
       "3672           33.7930           9.2740              1.9944   \n",
       "5697           26.5876           9.4025              1.9655   \n",
       "702            80.0075          10.2863              1.6204   \n",
       "4128           36.3559           9.0430              2.1573   \n",
       "3250           37.1575           9.3045              2.1391   \n",
       "2595           41.6510           9.2705              1.7428   \n",
       "573            76.1830          10.4800              1.5904   \n",
       "687            76.0875          10.6045              1.5962   \n",
       "\n",
       "     [Slovenian tolar ] [Slovak koruna ] [Thai baht ] [Turkish lira ]  \\\n",
       "5618           192.9845           44.799      40.0069          0.4122   \n",
       "4330           238.4300           40.085      48.2172          1.6146   \n",
       "3672           239.6000           37.023      47.0490          1.8800   \n",
       "5697           188.7750           42.848      42.5048          0.3728   \n",
       "702                 NaN              NaN      38.6010          5.1832   \n",
       "4128           239.7800           38.528      51.2530          1.8155   \n",
       "3250                NaN           31.147      50.2940          1.9705   \n",
       "2595                NaN              NaN      40.0360          1.9660   \n",
       "573                 NaN              NaN      37.8640          6.9886   \n",
       "687                 NaN              NaN      37.9310          5.0360   \n",
       "\n",
       "     [US dollar ]  [South African rand ]  \n",
       "5618       1.0614                 6.4480  \n",
       "4330       1.2320                 7.8278  \n",
       "3672       1.2538                 9.7824  \n",
       "5697       1.1790                 6.7975  \n",
       "702        1.2384                14.9678  \n",
       "4128       1.3103                 7.8438  \n",
       "3250       1.5755                12.1458  \n",
       "2595       1.3321                 9.3897  \n",
       "573        1.1500                16.8243  \n",
       "687        1.1992                15.1399  \n",
       "\n",
       "[10 rows x 41 columns]"
      ]
     },
     "execution_count": 2,
     "metadata": {},
     "output_type": "execute_result"
    }
   ],
   "source": [
    "exchange_rates = pd.read_csv('euro-daily-hist_1999_2020.csv')\n",
    "exchange_rates.sample(10)"
   ]
  },
  {
   "cell_type": "code",
   "execution_count": 3,
   "metadata": {},
   "outputs": [
    {
     "name": "stdout",
     "output_type": "stream",
     "text": [
      "<class 'pandas.core.frame.DataFrame'>\n",
      "RangeIndex: 5699 entries, 0 to 5698\n",
      "Data columns (total 41 columns):\n",
      " #   Column                    Non-Null Count  Dtype  \n",
      "---  ------                    --------------  -----  \n",
      " 0   Period\\Unit:              5699 non-null   object \n",
      " 1   [Australian dollar ]      5699 non-null   object \n",
      " 2   [Bulgarian lev ]          5297 non-null   object \n",
      " 3   [Brazilian real ]         5431 non-null   object \n",
      " 4   [Canadian dollar ]        5699 non-null   object \n",
      " 5   [Swiss franc ]            5699 non-null   object \n",
      " 6   [Chinese yuan renminbi ]  5431 non-null   object \n",
      " 7   [Cypriot pound ]          2346 non-null   object \n",
      " 8   [Czech koruna ]           5699 non-null   object \n",
      " 9   [Danish krone ]           5699 non-null   object \n",
      " 10  [Estonian kroon ]         3130 non-null   object \n",
      " 11  [UK pound sterling ]      5699 non-null   object \n",
      " 12  [Greek drachma ]          520 non-null    object \n",
      " 13  [Hong Kong dollar ]       5699 non-null   object \n",
      " 14  [Croatian kuna ]          5431 non-null   object \n",
      " 15  [Hungarian forint ]       5699 non-null   object \n",
      " 16  [Indonesian rupiah ]      5699 non-null   object \n",
      " 17  [Israeli shekel ]         5431 non-null   object \n",
      " 18  [Indian rupee ]           5431 non-null   object \n",
      " 19  [Iceland krona ]          3292 non-null   float64\n",
      " 20  [Japanese yen ]           5699 non-null   object \n",
      " 21  [Korean won ]             5699 non-null   object \n",
      " 22  [Lithuanian litas ]       4159 non-null   object \n",
      " 23  [Latvian lats ]           3904 non-null   object \n",
      " 24  [Maltese lira ]           2346 non-null   object \n",
      " 25  [Mexican peso ]           5699 non-null   object \n",
      " 26  [Malaysian ringgit ]      5699 non-null   object \n",
      " 27  [Norwegian krone ]        5699 non-null   object \n",
      " 28  [New Zealand dollar ]     5699 non-null   object \n",
      " 29  [Philippine peso ]        5699 non-null   object \n",
      " 30  [Polish zloty ]           5699 non-null   object \n",
      " 31  [Romanian leu ]           5637 non-null   float64\n",
      " 32  [Russian rouble ]         5699 non-null   object \n",
      " 33  [Swedish krona ]          5699 non-null   object \n",
      " 34  [Singapore dollar ]       5699 non-null   object \n",
      " 35  [Slovenian tolar ]        2085 non-null   object \n",
      " 36  [Slovak koruna ]          2608 non-null   object \n",
      " 37  [Thai baht ]              5699 non-null   object \n",
      " 38  [Turkish lira ]           5637 non-null   float64\n",
      " 39  [US dollar ]              5699 non-null   object \n",
      " 40  [South African rand ]     5699 non-null   object \n",
      "dtypes: float64(3), object(38)\n",
      "memory usage: 1.8+ MB\n"
     ]
    }
   ],
   "source": [
    "exchange_rates.info()"
   ]
  },
  {
   "cell_type": "markdown",
   "metadata": {},
   "source": [
    "Quickly looking at the dataset info, we can see that there are 40 different currencies.  However, we can see that some of the columns have null values and most are objects.  We'll need to do some cleaning to convert these to numbers and the period to a datetime data type.  It will be helpful to rename the column names for ease of typing.\n",
    "\n",
    "Since we'll be focusing only on the the exchange rate between the Euro and the American Dollar.  We only need to focus on these columns."
   ]
  },
  {
   "cell_type": "markdown",
   "metadata": {},
   "source": [
    "## Data Cleaning"
   ]
  },
  {
   "cell_type": "code",
   "execution_count": 4,
   "metadata": {},
   "outputs": [],
   "source": [
    "exchange_rates.rename(columns= {'[US dollar ]':'US_dollar',\n",
    "                                'Period\\\\Unit:':'Time'},\n",
    "                      inplace = True)\n",
    "exchange_rates['Time'] = pd.to_datetime(exchange_rates['Time'])\n",
    "exchange_rates.sort_values('Time', inplace = True)\n",
    "exchange_rates.reset_index(drop=True,inplace= True)"
   ]
  },
  {
   "cell_type": "markdown",
   "metadata": {},
   "source": [
    "Now that we did some basic data cleaning, let's separate out the US Dollar and time and create a new dataset with just that."
   ]
  },
  {
   "cell_type": "code",
   "execution_count": 5,
   "metadata": {},
   "outputs": [
    {
     "data": {
      "text/plain": [
       "-         62\n",
       "1.2276     9\n",
       "1.1215     8\n",
       "1.1305     7\n",
       "1.0888     6\n",
       "          ..\n",
       "1.2437     1\n",
       "0.9800     1\n",
       "1.2130     1\n",
       "1.2978     1\n",
       "1.0541     1\n",
       "Name: US_dollar, Length: 3528, dtype: int64"
      ]
     },
     "execution_count": 5,
     "metadata": {},
     "output_type": "execute_result"
    }
   ],
   "source": [
    "euro_to_dollar = exchange_rates[['Time','US_dollar']]\n",
    "euro_to_dollar['US_dollar'].value_counts()"
   ]
  },
  {
   "cell_type": "markdown",
   "metadata": {},
   "source": [
    "It looks like there are a lot of rows that have '-'.  We'll need to drop those for our visualization to work effectively."
   ]
  },
  {
   "cell_type": "code",
   "execution_count": 6,
   "metadata": {},
   "outputs": [],
   "source": [
    "euro_to_dollar = euro_to_dollar[euro_to_dollar['US_dollar'] != '-']\n",
    "euro_to_dollar['US_dollar'] = euro_to_dollar['US_dollar'].astype(float)"
   ]
  },
  {
   "cell_type": "code",
   "execution_count": 7,
   "metadata": {},
   "outputs": [
    {
     "name": "stdout",
     "output_type": "stream",
     "text": [
      "<class 'pandas.core.frame.DataFrame'>\n",
      "Int64Index: 5637 entries, 0 to 5698\n",
      "Data columns (total 2 columns):\n",
      " #   Column     Non-Null Count  Dtype         \n",
      "---  ------     --------------  -----         \n",
      " 0   Time       5637 non-null   datetime64[ns]\n",
      " 1   US_dollar  5637 non-null   float64       \n",
      "dtypes: datetime64[ns](1), float64(1)\n",
      "memory usage: 132.1 KB\n"
     ]
    }
   ],
   "source": [
    "euro_to_dollar.info()"
   ]
  },
  {
   "cell_type": "markdown",
   "metadata": {},
   "source": [
    "Looks like our data is cleaned and good to go.  Let's begin visualizing it with a simple line plot for exploratory purposes."
   ]
  },
  {
   "cell_type": "markdown",
   "metadata": {},
   "source": [
    "## Exploratory Graph"
   ]
  },
  {
   "cell_type": "code",
   "execution_count": 8,
   "metadata": {},
   "outputs": [
    {
     "data": {
      "text/plain": [
       "[<matplotlib.lines.Line2D at 0x11975bb50>]"
      ]
     },
     "execution_count": 8,
     "metadata": {},
     "output_type": "execute_result"
    },
    {
     "data": {
      "image/png": "[encoded data removed]",
      "text/plain": [
       "<Figure size 432x288 with 1 Axes>"
      ]
     },
     "metadata": {
      "needs_background": "light"
     },
     "output_type": "display_data"
    }
   ],
   "source": [
    "plt.plot(euro_to_dollar['Time'],euro_to_dollar['US_dollar'])"
   ]
  },
  {
   "cell_type": "markdown",
   "metadata": {},
   "source": [
    "This quick graph is a bit messy due to the daily variations in value.  We can instead take the rolling mean of the data to smooth out the lines while still conveying the same trends.  We can have the rolling window be 30 days to signify months."
   ]
  },
  {
   "cell_type": "code",
   "execution_count": 9,
   "metadata": {},
   "outputs": [
    {
     "data": {
      "image/png": "[encoded data removed]",
      "text/plain": [
       "<Figure size 432x288 with 1 Axes>"
      ]
     },
     "metadata": {
      "needs_background": "light"
     },
     "output_type": "display_data"
    }
   ],
   "source": [
    "euro_to_dollar['rolling_mean'] = euro_to_dollar['US_dollar'].rolling(30).mean()\n",
    "plt.plot(euro_to_dollar['Time'],euro_to_dollar['rolling_mean'])\n",
    "plt.title('Euro to Dollar Exchange Rate')\n",
    "plt.xlabel('Year')\n",
    "plt.ylabel('Exchange Rate')\n",
    "plt.show()"
   ]
  },
  {
   "cell_type": "markdown",
   "metadata": {},
   "source": [
    "Taking a brief look at the graph, the exchange rate peaked in 2008 and then dropped pretty dramatically.  One explanation for this would be the 2007-2008 financial crisis.  This would be an interesting angle to explore further and provide a more explanatory graph."
   ]
  },
  {
   "cell_type": "markdown",
   "metadata": {},
   "source": [
    "## Storytelling Data Visualization\n",
    "### 2007-2008's Financial Crisis\n",
    "The financial crisis of 2007–2008 was a worldwide economic crisis. Prior to 2020's COVID-19 crisis, the financial crisis of 2007-2008 was considered one of the worst economic catastrophe since the Great Depression.  \n",
    "\n",
    "We can zoom in the years surrounding this event to help an audience easily visualize the impact.\n",
    "\n",
    "We'll begin by separating the data into two datasets.  One with the years 2006-2009 and one with just 2007 and 2008."
   ]
  },
  {
   "cell_type": "code",
   "execution_count": 10,
   "metadata": {},
   "outputs": [],
   "source": [
    "financial_crisis = euro_to_dollar.copy(\n",
    "                   )[(euro_to_dollar['Time'].dt.year >= 2006\n",
    "                   ) & (euro_to_dollar['Time'].dt.year <= 2009)]\n",
    "financial_crisis_07_08 = euro_to_dollar.copy(\n",
    "                   )[(euro_to_dollar['Time'].dt.year >= 2007\n",
    "                   ) & (euro_to_dollar['Time'].dt.year <= 2008)]"
   ]
  },
  {
   "cell_type": "markdown",
   "metadata": {},
   "source": [
    "Now that we have the two datasets, we can create our visualzation."
   ]
  },
  {
   "cell_type": "code",
   "execution_count": 11,
   "metadata": {},
   "outputs": [],
   "source": [
    "import matplotlib.style as style\n",
    "from matplotlib.dates import date2num\n",
    "style.use('fivethirtyeight')"
   ]
  },
  {
   "cell_type": "code",
   "execution_count": 12,
   "metadata": {},
   "outputs": [
    {
     "data": {
      "image/png": "[encoded data removed]",
      "text/plain": [
       "<Figure size 864x360 with 1 Axes>"
      ]
     },
     "metadata": {},
     "output_type": "display_data"
    }
   ],
   "source": [
    "#Creating the plot and adding the 2006-2009 line\n",
    "fig, ax = plt.subplots(figsize = (12,5))\n",
    "ax.plot(financial_crisis['Time'],financial_crisis['rolling_mean'],\n",
    "       linewidth = 1)\n",
    "\n",
    "#adding the 2007-2008 line and making it thicker and red\n",
    "ax.plot(financial_crisis_07_08['Time'], financial_crisis_07_08['rolling_mean'],\n",
    "       linewidth = 3, color = '#e23d28')\n",
    "\n",
    "#highlighting the area of the crisis\n",
    "ax.axvspan(date2num(dt.datetime(2008,3,1)),date2num(dt.datetime(2008,9,15)),\n",
    "           alpha=0.3, color='grey')\n",
    "\n",
    "### Creating new tick labels\n",
    "ax.set_yticks([[1.2],[1.3],[1.4],[1.5]])\n",
    "ax.set_yticklabels([1.2,1.3,1.4,1.5],alpha = 0.5, fontsize = 15)\n",
    "ax.set_xticklabels([2006,'',2007,'',2008,'',2009,'',2010], alpha = 0.5, fontsize = 15)\n",
    "\n",
    "#adding some transparency to grid\n",
    "ax.grid(alpha = 0.5)\n",
    "\n",
    "plt.title('Euro to USD Rate Peaked at 1.59 During 2007-2008 Financial Crisis', \n",
    "          weight = 'bold',\n",
    "         fontsize = 19, loc = 'left', pad = 35)\n",
    "plt.suptitle('EURO to USD exchange rates between 2006 and 2010',x =  .3091, y = .95, fontsize = 'x-large')\n",
    "\n",
    "plt.show()"
   ]
  },
  {
   "cell_type": "markdown",
   "metadata": {},
   "source": [
    "# Conclusion\n",
    "With utilizing some exploratory graphs, we were able to choose a direction to analyze and help the audience visualize our findings.  Using explanatory graphs and the <code>'fivethirtyeight'</code> style we were able to display a user friendly graph.\n"
   ]
  },
  {
   "cell_type": "code",
   "execution_count": null,
   "metadata": {},
   "outputs": [],
   "source": []
  }
 ],
 "metadata": {
  "kernelspec": {
   "display_name": "Python 3",
   "language": "python",
   "name": "python3"
  },
  "language_info": {
   "codemirror_mode": {
    "name": "ipython",
    "version": 3
   },
   "file_extension": ".py",
   "mimetype": "text/x-python",
   "name": "python",
   "nbconvert_exporter": "python",
   "pygments_lexer": "ipython3",
   "version": "3.8.3"
  }
 },
 "nbformat": 4,
 "nbformat_minor": 4
}
