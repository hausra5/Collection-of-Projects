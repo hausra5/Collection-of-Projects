{
 "cells": [
  {
   "cell_type": "markdown",
   "metadata": {
    "collapsed": true
   },
   "source": [
    "# Titanic Competition\n",
    "In this project, we will be using the Kaggle Titanic Competition dataset, and we will showcase the workflow necessary to compete in this and other Kaggle competitions. \n",
    "\n",
    "We will develop a pipeline where we can quickly utilize different features and models to use on the train data while hopefully gaining increasing accuracy on the given test data.\n",
    "\n",
    "When we automate the process of training these algorithms, we can quickly increase our accuracy and submit our predictions to Kaggle easily for validation.\n",
    "\n",
    "We will begin by importing in the given train and test data, as well as, the libraries we'll be using, and inspect the first few lines of the data."
   ]
  },
  {
   "cell_type": "code",
   "execution_count": 1,
   "metadata": {},
   "outputs": [],
   "source": [
    "import pandas as pd\n",
    "import numpy as np\n",
    "from sklearn.ensemble import RandomForestClassifier\n",
    "from sklearn.feature_selection import RFECV\n",
    "from sklearn.linear_model import LogisticRegression\n",
    "from sklearn.neighbors import KNeighborsClassifier\n",
    "from sklearn.model_selection import GridSearchCV\n",
    "import matplotlib.pyplot as plt\n",
    "%matplotlib inline"
   ]
  },
  {
   "cell_type": "code",
   "execution_count": 2,
   "metadata": {},
   "outputs": [
    {
     "data": {
      "text/html": [
       "<div>\n",
       "<style scoped>\n",
       "    .dataframe tbody tr th:only-of-type {\n",
       "        vertical-align: middle;\n",
       "    }\n",
       "\n",
       "    .dataframe tbody tr th {\n",
       "        vertical-align: top;\n",
       "    }\n",
       "\n",
       "    .dataframe thead th {\n",
       "        text-align: right;\n",
       "    }\n",
       "</style>\n",
       "<table border=\"1\" class=\"dataframe\">\n",
       "  <thead>\n",
       "    <tr style=\"text-align: right;\">\n",
       "      <th></th>\n",
       "      <th>PassengerId</th>\n",
       "      <th>Pclass</th>\n",
       "      <th>Name</th>\n",
       "      <th>Sex</th>\n",
       "      <th>Age</th>\n",
       "      <th>SibSp</th>\n",
       "      <th>Parch</th>\n",
       "      <th>Ticket</th>\n",
       "      <th>Fare</th>\n",
       "      <th>Cabin</th>\n",
       "      <th>Embarked</th>\n",
       "    </tr>\n",
       "  </thead>\n",
       "  <tbody>\n",
       "    <tr>\n",
       "      <th>0</th>\n",
       "      <td>892</td>\n",
       "      <td>3</td>\n",
       "      <td>Kelly, Mr. James</td>\n",
       "      <td>male</td>\n",
       "      <td>34.5</td>\n",
       "      <td>0</td>\n",
       "      <td>0</td>\n",
       "      <td>330911</td>\n",
       "      <td>7.8292</td>\n",
       "      <td>NaN</td>\n",
       "      <td>Q</td>\n",
       "    </tr>\n",
       "    <tr>\n",
       "      <th>1</th>\n",
       "      <td>893</td>\n",
       "      <td>3</td>\n",
       "      <td>Wilkes, Mrs. James (Ellen Needs)</td>\n",
       "      <td>female</td>\n",
       "      <td>47.0</td>\n",
       "      <td>1</td>\n",
       "      <td>0</td>\n",
       "      <td>363272</td>\n",
       "      <td>7.0000</td>\n",
       "      <td>NaN</td>\n",
       "      <td>S</td>\n",
       "    </tr>\n",
       "    <tr>\n",
       "      <th>2</th>\n",
       "      <td>894</td>\n",
       "      <td>2</td>\n",
       "      <td>Myles, Mr. Thomas Francis</td>\n",
       "      <td>male</td>\n",
       "      <td>62.0</td>\n",
       "      <td>0</td>\n",
       "      <td>0</td>\n",
       "      <td>240276</td>\n",
       "      <td>9.6875</td>\n",
       "      <td>NaN</td>\n",
       "      <td>Q</td>\n",
       "    </tr>\n",
       "  </tbody>\n",
       "</table>\n",
       "</div>"
      ],
      "text/plain": [
       "   PassengerId  Pclass                              Name     Sex   Age  SibSp  \\\n",
       "0          892       3                  Kelly, Mr. James    male  34.5      0   \n",
       "1          893       3  Wilkes, Mrs. James (Ellen Needs)  female  47.0      1   \n",
       "2          894       2         Myles, Mr. Thomas Francis    male  62.0      0   \n",
       "\n",
       "   Parch  Ticket    Fare Cabin Embarked  \n",
       "0      0  330911  7.8292   NaN        Q  \n",
       "1      0  363272  7.0000   NaN        S  \n",
       "2      0  240276  9.6875   NaN        Q  "
      ]
     },
     "execution_count": 2,
     "metadata": {},
     "output_type": "execute_result"
    }
   ],
   "source": [
    "train = pd.read_csv('train.csv')\n",
    "holdout = pd.read_csv('test.csv')\n",
    "holdout.head(3)"
   ]
  },
  {
   "cell_type": "markdown",
   "metadata": {},
   "source": [
    "## Feature Engineering\n",
    "We will begin by creating a handful of functions that will help expedite our pipeline. They were all ways to clean and engineer the features that we will be using by creating bins for the categories and then creating dummie values (1's and 0's)."
   ]
  },
  {
   "cell_type": "code",
   "execution_count": 3,
   "metadata": {},
   "outputs": [],
   "source": [
    "def process_missing(df):\n",
    "    df[\"Fare\"] = df[\"Fare\"].fillna(train[\"Fare\"].mean())\n",
    "    df[\"Embarked\"] = df[\"Embarked\"].fillna(\"S\")\n",
    "    return df\n",
    "\n",
    "def process_age(df):\n",
    "    df[\"Age\"] = df[\"Age\"].fillna(-0.5)\n",
    "    cut_points = [-1,0,5,12,18,35,60,100]\n",
    "    label_names = [\"Missing\",\"Infant\",\"Child\",\"Teenager\",\"Young Adult\",\"Adult\",\"Senior\"]\n",
    "    df[\"Age_categories\"] = pd.cut(df[\"Age\"],cut_points,labels=label_names)\n",
    "    return df\n",
    "\n",
    "def process_fare(df):\n",
    "    cut_points = [-1,12,50,100,1000]\n",
    "    label_names = [\"0-12\",\"12-50\",\"50-100\",\"100+\"]\n",
    "    df[\"Fare_categories\"] = pd.cut(df[\"Fare\"],cut_points,labels=label_names)\n",
    "    return df\n",
    "\n",
    "def process_cabin(df):\n",
    "    df[\"Cabin_type\"] = df[\"Cabin\"].str[0]\n",
    "    df[\"Cabin_type\"] = df[\"Cabin_type\"].fillna(\"Unknown\")\n",
    "    df = df.drop('Cabin',axis=1)\n",
    "    return df\n",
    "\n",
    "def process_titles(df):\n",
    "    titles = {\n",
    "        \"Mr\" :         \"Mr\",\n",
    "        \"Mme\":         \"Mrs\",\n",
    "        \"Ms\":          \"Mrs\",\n",
    "        \"Mrs\" :        \"Mrs\",\n",
    "        \"Master\" :     \"Master\",\n",
    "        \"Mlle\":        \"Miss\",\n",
    "        \"Miss\" :       \"Miss\",\n",
    "        \"Capt\":        \"Officer\",\n",
    "        \"Col\":         \"Officer\",\n",
    "        \"Major\":       \"Officer\",\n",
    "        \"Dr\":          \"Officer\",\n",
    "        \"Rev\":         \"Officer\",\n",
    "        \"Jonkheer\":    \"Royalty\",\n",
    "        \"Don\":         \"Royalty\",\n",
    "        \"Sir\" :        \"Royalty\",\n",
    "        \"Countess\":    \"Royalty\",\n",
    "        \"Dona\":        \"Royalty\",\n",
    "        \"Lady\" :       \"Royalty\"\n",
    "    }\n",
    "    extracted_titles = df[\"Name\"].str.extract(' ([A-Za-z]+)\\.',expand=False)\n",
    "    df[\"Title\"] = extracted_titles.map(titles)\n",
    "    return df\n",
    "\n",
    "def create_dummies(df,column_name):\n",
    "    dummies = pd.get_dummies(df[column_name],prefix=column_name)\n",
    "    df = pd.concat([df,dummies],axis=1)\n",
    "    return df"
   ]
  },
  {
   "cell_type": "markdown",
   "metadata": {},
   "source": [
    "Now that we have the feature engineering functions created, we can create another function that we will use to run them all at once and return our new dataframe."
   ]
  },
  {
   "cell_type": "code",
   "execution_count": 4,
   "metadata": {},
   "outputs": [],
   "source": [
    "def pre_process(df):\n",
    "    df = process_missing(df)\n",
    "    df = process_age(df)\n",
    "    df = process_fare(df)\n",
    "    df = process_titles(df)\n",
    "    df = process_cabin(df)\n",
    "    \n",
    "    for column in ['Age_categories','Fare_categories','Title',\n",
    "                  'Cabin_type','Sex']:\n",
    "        df = create_dummies(df,column)\n",
    "    return df"
   ]
  },
  {
   "cell_type": "code",
   "execution_count": 5,
   "metadata": {},
   "outputs": [],
   "source": [
    "train = pre_process(train)\n",
    "holdout = pre_process(holdout)"
   ]
  },
  {
   "cell_type": "markdown",
   "metadata": {},
   "source": [
    "### Kaggle Workflow\n",
    "\n",
    "When working with Kaggle, developing a efficient workflow is paramount. Ultimately, we want to optimize our predictions and we can have a continous cycle that will help us reach our end goal of the highest accuracy possible when submitting to Kaggle.\n",
    "\n",
    "Typically this workflow will follow a cyclical pattern of:\n",
    "- <b>Data exploration:</b> Finding patterns or useful features in the data\n",
    "- <b>Feature engineering:</b> Creating new features from those patterns\n",
    "- <b>Feature selection:</b> Selecting the best subset of our current set of features to use with our model\n",
    "- <b>Model selection and tuning:</b> Training multiple models with different hyperparameters to find the best performing model\n",
    "\n",
    "Once we feel like we have optimized our predicitons, we can then use our model on the holdout set that does not have given target lables and submit our predictions to Kaggle. Here we will then see our accuracy score and be placed on the leaderboard.\n",
    "\n",
    "Let's begin this workflow by exploring some more columns that we haven't already preprocessed. We'll start with <code>'SibSp'</code> and <code>'Parch'</code>. The <code>'SibSp'</code> column shows the number of siblings and/or spouses each passenger had on board. The <code>'Parch'</code> columns shows the number of parents or children each passenger had onboard."
   ]
  },
  {
   "cell_type": "code",
   "execution_count": 6,
   "metadata": {},
   "outputs": [
    {
     "data": {
      "text/plain": [
       "<matplotlib.axes._subplots.AxesSubplot at 0x128598bb0>"
      ]
     },
     "execution_count": 6,
     "metadata": {},
     "output_type": "execute_result"
    },
    {
     "data": {
      "image/png": "[encoded data removed]",
      "text/plain": [
       "<Figure size 432x288 with 1 Axes>"
      ]
     },
     "metadata": {
      "needs_background": "light"
     },
     "output_type": "display_data"
    }
   ],
   "source": [
    "train[['SibSp','Parch']].plot.hist(alpha=.5)"
   ]
  },
  {
   "cell_type": "markdown",
   "metadata": {},
   "source": [
    "Both columns have very similar distributions and both are right skewed. More importantly, it seems the majority of the values are 0. Since they are so similar, it may be advantageous to group them together to create one column. Let's take a look."
   ]
  },
  {
   "cell_type": "code",
   "execution_count": 7,
   "metadata": {},
   "outputs": [
    {
     "data": {
      "image/png": "[encoded data removed]",
      "text/plain": [
       "<Figure size 432x288 with 1 Axes>"
      ]
     },
     "metadata": {
      "needs_background": "light"
     },
     "output_type": "display_data"
    }
   ],
   "source": [
    "exploration = train.loc[:,('SibSp','Parch','Survived')]\n",
    "exploration['Family_Size'] = exploration[['SibSp','Parch']].sum(axis=1)\n",
    "exploration.drop('Survived',axis=1).plot.hist(alpha=.5)\n",
    "plt.show()"
   ]
  },
  {
   "cell_type": "markdown",
   "metadata": {},
   "source": [
    "When creating the <code>'Family_Size</code> column, we still have a very similar distribution, however, there are less 0 values now. This should help provide values for our models to learn more and correlate with more efficiently.\n",
    "\n",
    "Now that we have these three different columns, we can visualize how the relate to chances of survival."
   ]
  },
  {
   "cell_type": "code",
   "execution_count": 8,
   "metadata": {},
   "outputs": [
    {
     "data": {
      "image/png": "[encoded data removed]",
      "text/plain": [
       "<Figure size 432x288 with 1 Axes>"
      ]
     },
     "metadata": {
      "needs_background": "light"
     },
     "output_type": "display_data"
    },
    {
     "data": {
      "image/png": "[encoded data removed]",
      "text/plain": [
       "<Figure size 432x288 with 1 Axes>"
      ]
     },
     "metadata": {
      "needs_background": "light"
     },
     "output_type": "display_data"
    },
    {
     "data": {
      "image/png": "[encoded data removed]",
      "text/plain": [
       "<Figure size 432x288 with 1 Axes>"
      ]
     },
     "metadata": {
      "needs_background": "light"
     },
     "output_type": "display_data"
    }
   ],
   "source": [
    "for column in exploration.drop('Survived',axis=1).columns:\n",
    "    exploration.pivot_table('Survived',column).plot.bar(ylim=(0,1),\n",
    "                                                        yticks=np.arange(0,1,.1))\n",
    "    plt.axhspan(.3, .6, alpha=0.2, color='red')\n",
    "    \n",
    "    plt.show()"
   ]
  },
  {
   "cell_type": "markdown",
   "metadata": {},
   "source": [
    "Looking at the surivival rate of families, those traveling alone had a significantly lower chance of survival compared to familes of ranging sizes. If you were traveling alone, you had only a 30% chance of survival vs those with a family of 3 members that had over a 70% chance of survival. This is pretty significant.\n",
    "\n",
    "An efficient way to engineer a new column would be to utilize the family size to create a binary column that contains:\n",
    "- 1 if the passenger has zero family members onboard\n",
    "- 0 if the passenger has 1 or more family members onboard\n",
    "\n",
    "Let's create a function that will process this for us that we can add to our pipeline of functions."
   ]
  },
  {
   "cell_type": "code",
   "execution_count": 9,
   "metadata": {},
   "outputs": [],
   "source": [
    "def process_family(df):\n",
    "    df['Family_Size'] = df[['SibSp','Parch']].sum(axis=1)\n",
    "    df['isalone'] = 0\n",
    "    df.loc[(df[\"Family_Size\"] == 0),\"isalone\"] = 1\n",
    "    df.drop('Family_Size',axis=1,inplace=True)\n",
    "    return df"
   ]
  },
  {
   "cell_type": "code",
   "execution_count": 10,
   "metadata": {},
   "outputs": [],
   "source": [
    "train = process_family(train)\n",
    "holdout = process_family(holdout)"
   ]
  },
  {
   "cell_type": "markdown",
   "metadata": {},
   "source": [
    "### Feature Selection\n",
    "Choosing which features to use when training our models is a bit of an art form and sometimes requires a lot of trial and error. For the purpose of this project, we can utilize scikit-learn's <code>feature_selection.RFECV</code> class to automate this process by selecting the best performing features using recursive feature elimination.\n",
    "\n",
    "Using this class, we can create a function that will perform this step for us so we can create and explore more in the data to engineer new features.\n",
    "\n",
    "Since Random Forests typically perform very well and are less prone to overfitting, let's experiment with some feature selection utilizing Random Forests and the <code>RFECV()</code> object."
   ]
  },
  {
   "cell_type": "code",
   "execution_count": 11,
   "metadata": {},
   "outputs": [],
   "source": [
    "def select_features(df):\n",
    "    df = df.select_dtypes([np.number]).dropna(axis=1)\n",
    "    all_X = df.drop(['PassengerId','Survived'],axis=1)\n",
    "    all_y = df['Survived']\n",
    "    \n",
    "    rf = RandomForestClassifier(random_state = 1)\n",
    "    selector = RFECV(rf, cv = 10)\n",
    "    selector.fit(all_X,all_y)\n",
    "    \n",
    "    best_columns = list(all_X.columns[selector.support_])\n",
    "    print('The Best Columns are: \\n','-'*10,best_columns)\n",
    "    \n",
    "    return best_columns"
   ]
  },
  {
   "cell_type": "code",
   "execution_count": 12,
   "metadata": {},
   "outputs": [
    {
     "name": "stdout",
     "output_type": "stream",
     "text": [
      "The Best Columns are: \n",
      " ---------- ['Pclass', 'Age', 'SibSp', 'Parch', 'Fare', 'Age_categories_Missing', 'Age_categories_Infant', 'Age_categories_Child', 'Age_categories_Teenager', 'Age_categories_Young Adult', 'Age_categories_Adult', 'Age_categories_Senior', 'Fare_categories_0-12', 'Fare_categories_12-50', 'Fare_categories_50-100', 'Fare_categories_100+', 'Title_Master', 'Title_Miss', 'Title_Mr', 'Title_Mrs', 'Title_Officer', 'Cabin_type_A', 'Cabin_type_B', 'Cabin_type_C', 'Cabin_type_D', 'Cabin_type_E', 'Cabin_type_Unknown', 'Sex_female', 'Sex_male', 'isalone']\n"
     ]
    }
   ],
   "source": [
    "columns = select_features(train)"
   ]
  },
  {
   "cell_type": "markdown",
   "metadata": {},
   "source": [
    "Now that we have a list of the best columns, we can use them when during our model selection process."
   ]
  },
  {
   "cell_type": "markdown",
   "metadata": {},
   "source": [
    "### Model Selection\n",
    "\n",
    "There are hundreds of machine learning algorithms and within each of these models, there are countless combinations of hyperparameters that we can tweak to help the models perform better. Again, this process can be time consuming and contain a lot of trial and error. Luckily, scikit-learn has another class that will help us with this process.\n",
    "\n",
    "We can use scikit-learn's <code>model_selection.GridSearchCV</code> to iterate over a list of dictionaries that we can create with different models and hyperparameter options. After the grid search is complete, we will have a new dictionary with all of the results and we can see which model and hyperparameters options performed the best.\n",
    "\n",
    "Let's create a function to automate this process for us."
   ]
  },
  {
   "cell_type": "code",
   "execution_count": 13,
   "metadata": {},
   "outputs": [
    {
     "name": "stdout",
     "output_type": "stream",
     "text": [
      "KNeighborsClassifier\n",
      "--------------------\n",
      "Best Parameters:  {'algorithm': 'brute', 'n_neighbors': 5, 'p': 1, 'weights': 'uniform'}\n",
      "Best Score:  0.7767041198501874\n",
      "LogisticRegression\n",
      "--------------------\n",
      "Best Parameters:  {'solver': 'newton-cg'}\n",
      "Best Score:  0.8204619225967541\n",
      "RandomForestClassifier\n",
      "--------------------\n",
      "Best Parameters:  {'criterion': 'entropy', 'max_depth': 10, 'max_features': 'log2', 'min_samples_leaf': 1, 'min_samples_split': 5, 'n_estimators': 9}\n",
      "Best Score:  0.8462546816479399\n"
     ]
    }
   ],
   "source": [
    "def select_model(df,features):\n",
    "    all_X = df[features]\n",
    "    all_y = df['Survived']\n",
    "    \n",
    "    models = [{\n",
    "        'name':'KNeighborsClassifier',\n",
    "        'estimator': KNeighborsClassifier(),\n",
    "        'hyperparameters':\n",
    "        {\n",
    "            'n_neighbors': range(1,20,2),\n",
    "            'weights':['distance','uniform'],\n",
    "            'algorithm':['ball_tree','kd_tree','brute'],\n",
    "            'p':[1,2]\n",
    "         }\n",
    "    },\n",
    "    {\n",
    "        'name':'LogisticRegression',\n",
    "        'estimator': LogisticRegression(max_iter=1000),\n",
    "        'hyperparameters':\n",
    "        {\n",
    "         'solver':['newton-cg','lbfgs','liblinear']   \n",
    "        }\n",
    "    },\n",
    "    {\n",
    "        'name':'RandomForestClassifier',\n",
    "        'estimator':RandomForestClassifier(),\n",
    "        'hyperparameters':\n",
    "        {\n",
    "            'n_estimators': [4, 6, 9],\n",
    "            'criterion': ['entropy','gini'],\n",
    "            'max_depth': [2, 5, 10],\n",
    "            'max_features': ['log2','sqrt'],\n",
    "            'min_samples_leaf': [1, 5, 8],\n",
    "            'min_samples_split': [2, 3, 5]\n",
    "        }\n",
    "    }]\n",
    "    \n",
    "    for model in models:\n",
    "        print(model['name'])\n",
    "        print('-'*20)\n",
    "        grid = GridSearchCV(model['estimator'],\n",
    "                           param_grid = model['hyperparameters'],\n",
    "                           cv = 10)\n",
    "        grid.fit(all_X, all_y)\n",
    "        model['best_parameters'] = grid.best_params_\n",
    "        model['best_score'] = grid.best_score_\n",
    "        model['best_model'] = grid.best_estimator_\n",
    "        \n",
    "        print('Best Parameters: ',model['best_parameters'])\n",
    "        print('Best Score: ',model['best_score'])\n",
    "        \n",
    "    return models\n",
    "\n",
    "results = select_model(train,columns)"
   ]
  },
  {
   "cell_type": "markdown",
   "metadata": {},
   "source": [
    "### Submitting to Kaggle\n",
    "\n",
    "Looking at our 3 scores, Random Forest performed the best with an 84.6% accuracy rate. Now that we have what we think is our best performing model, we can create our final function to run the model on the holdout (test). The function will then save the file so we can submit it to Kaggle."
   ]
  },
  {
   "cell_type": "code",
   "execution_count": 15,
   "metadata": {},
   "outputs": [],
   "source": [
    "def save_submission_file(model,columns,filename='submission.csv'):\n",
    "    holdout_data = holdout[columns]\n",
    "    predictions = model.predict(holdout_data)\n",
    "    \n",
    "    submission = pd.DataFrame({'PassengerId':holdout['PassengerId'],\n",
    "                                 'Survived':predictions})\n",
    "    submission.to_csv(filename,index=False)\n",
    "    \n",
    "best_model = results[2]['best_model']\n",
    "save_submission_file(best_model,columns)"
   ]
  },
  {
   "cell_type": "markdown",
   "metadata": {},
   "source": [
    "## Conclusion\n",
    "Once we submitted our predictions to Kaggle we achieved a 75.598% score. Not too bad. Unfortunately this is lower than our cross validated test score of 84.6%. There are still plenty of opportunities to achieve higher accuracy rates by exporing the data and creating new features. We can also implement different models or even stack models to see if we can gain a higher accuracy rate."
   ]
  }
 ],
 "metadata": {
  "kernelspec": {
   "display_name": "Python 3",
   "language": "python",
   "name": "python3"
  },
  "language_info": {
   "codemirror_mode": {
    "name": "ipython",
    "version": 3
   },
   "file_extension": ".py",
   "mimetype": "text/x-python",
   "name": "python",
   "nbconvert_exporter": "python",
   "pygments_lexer": "ipython3",
   "version": "3.8.3"
  }
 },
 "nbformat": 4,
 "nbformat_minor": 2
}
