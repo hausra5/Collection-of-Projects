{
 "cells": [
  {
   "cell_type": "markdown",
   "metadata": {
    "collapsed": true
   },
   "source": [
    "# Predicting Bike Rentals\n",
    "\n",
    "Many citites across the United States have communal bike sharing stations and for those who are interested, can rent bicycles by the hour or day. Washington, D.C. collects data on the number of bicycles that are being rented by the hour and day.\n",
    "\n",
    "For this project, we'll be analyzing a dataset that contains 17,380 rows representing the number of bike rentals for a single hour of a single day. In the dataset, there are columns such as the season, month, weekday vs workday, weather, temperature, etc. We'll implement a few different Machine Learning algorithms to help make predictions as to how many bikes will be rented in any given hour.\n",
    "\n",
    "We'll begin by importing in the necessary libraries and taking a quick look at the dataset."
   ]
  },
  {
   "cell_type": "code",
   "execution_count": 1,
   "metadata": {},
   "outputs": [],
   "source": [
    "import pandas as pd\n",
    "import numpy as np\n",
    "import matplotlib.pyplot as plt\n",
    "%matplotlib inline\n",
    "import seaborn as sns\n",
    "from sklearn.metrics import mean_squared_error, r2_score\n",
    "from sklearn.linear_model import LinearRegression\n",
    "from sklearn.tree import DecisionTreeRegressor\n",
    "from sklearn.ensemble import RandomForestRegressor\n",
    "from sklearn.model_selection import KFold, cross_val_score"
   ]
  },
  {
   "cell_type": "code",
   "execution_count": 2,
   "metadata": {},
   "outputs": [
    {
     "data": {
      "text/html": [
       "<div>\n",
       "<style scoped>\n",
       "    .dataframe tbody tr th:only-of-type {\n",
       "        vertical-align: middle;\n",
       "    }\n",
       "\n",
       "    .dataframe tbody tr th {\n",
       "        vertical-align: top;\n",
       "    }\n",
       "\n",
       "    .dataframe thead th {\n",
       "        text-align: right;\n",
       "    }\n",
       "</style>\n",
       "<table border=\"1\" class=\"dataframe\">\n",
       "  <thead>\n",
       "    <tr style=\"text-align: right;\">\n",
       "      <th></th>\n",
       "      <th>instant</th>\n",
       "      <th>dteday</th>\n",
       "      <th>season</th>\n",
       "      <th>yr</th>\n",
       "      <th>mnth</th>\n",
       "      <th>hr</th>\n",
       "      <th>holiday</th>\n",
       "      <th>weekday</th>\n",
       "      <th>workingday</th>\n",
       "      <th>weathersit</th>\n",
       "      <th>temp</th>\n",
       "      <th>atemp</th>\n",
       "      <th>hum</th>\n",
       "      <th>windspeed</th>\n",
       "      <th>casual</th>\n",
       "      <th>registered</th>\n",
       "      <th>cnt</th>\n",
       "    </tr>\n",
       "  </thead>\n",
       "  <tbody>\n",
       "    <tr>\n",
       "      <th>1626</th>\n",
       "      <td>1627</td>\n",
       "      <td>2011-03-13</td>\n",
       "      <td>1</td>\n",
       "      <td>0</td>\n",
       "      <td>3</td>\n",
       "      <td>7</td>\n",
       "      <td>0</td>\n",
       "      <td>0</td>\n",
       "      <td>0</td>\n",
       "      <td>1</td>\n",
       "      <td>0.36</td>\n",
       "      <td>0.3485</td>\n",
       "      <td>0.62</td>\n",
       "      <td>0.1940</td>\n",
       "      <td>2</td>\n",
       "      <td>8</td>\n",
       "      <td>10</td>\n",
       "    </tr>\n",
       "    <tr>\n",
       "      <th>9881</th>\n",
       "      <td>9882</td>\n",
       "      <td>2012-02-21</td>\n",
       "      <td>1</td>\n",
       "      <td>1</td>\n",
       "      <td>2</td>\n",
       "      <td>18</td>\n",
       "      <td>0</td>\n",
       "      <td>2</td>\n",
       "      <td>1</td>\n",
       "      <td>1</td>\n",
       "      <td>0.38</td>\n",
       "      <td>0.3939</td>\n",
       "      <td>0.40</td>\n",
       "      <td>0.4478</td>\n",
       "      <td>11</td>\n",
       "      <td>414</td>\n",
       "      <td>425</td>\n",
       "    </tr>\n",
       "    <tr>\n",
       "      <th>11990</th>\n",
       "      <td>11991</td>\n",
       "      <td>2012-05-19</td>\n",
       "      <td>2</td>\n",
       "      <td>1</td>\n",
       "      <td>5</td>\n",
       "      <td>19</td>\n",
       "      <td>0</td>\n",
       "      <td>6</td>\n",
       "      <td>0</td>\n",
       "      <td>1</td>\n",
       "      <td>0.70</td>\n",
       "      <td>0.6364</td>\n",
       "      <td>0.39</td>\n",
       "      <td>0.1343</td>\n",
       "      <td>203</td>\n",
       "      <td>229</td>\n",
       "      <td>432</td>\n",
       "    </tr>\n",
       "    <tr>\n",
       "      <th>2115</th>\n",
       "      <td>2116</td>\n",
       "      <td>2011-04-03</td>\n",
       "      <td>2</td>\n",
       "      <td>0</td>\n",
       "      <td>4</td>\n",
       "      <td>0</td>\n",
       "      <td>0</td>\n",
       "      <td>0</td>\n",
       "      <td>0</td>\n",
       "      <td>1</td>\n",
       "      <td>0.30</td>\n",
       "      <td>0.2879</td>\n",
       "      <td>0.65</td>\n",
       "      <td>0.1940</td>\n",
       "      <td>8</td>\n",
       "      <td>31</td>\n",
       "      <td>39</td>\n",
       "    </tr>\n",
       "    <tr>\n",
       "      <th>11948</th>\n",
       "      <td>11949</td>\n",
       "      <td>2012-05-18</td>\n",
       "      <td>2</td>\n",
       "      <td>1</td>\n",
       "      <td>5</td>\n",
       "      <td>1</td>\n",
       "      <td>0</td>\n",
       "      <td>5</td>\n",
       "      <td>1</td>\n",
       "      <td>1</td>\n",
       "      <td>0.50</td>\n",
       "      <td>0.4848</td>\n",
       "      <td>0.59</td>\n",
       "      <td>0.0896</td>\n",
       "      <td>16</td>\n",
       "      <td>33</td>\n",
       "      <td>49</td>\n",
       "    </tr>\n",
       "    <tr>\n",
       "      <th>15711</th>\n",
       "      <td>15712</td>\n",
       "      <td>2012-10-21</td>\n",
       "      <td>4</td>\n",
       "      <td>1</td>\n",
       "      <td>10</td>\n",
       "      <td>20</td>\n",
       "      <td>0</td>\n",
       "      <td>0</td>\n",
       "      <td>0</td>\n",
       "      <td>1</td>\n",
       "      <td>0.48</td>\n",
       "      <td>0.4697</td>\n",
       "      <td>0.44</td>\n",
       "      <td>0.1940</td>\n",
       "      <td>35</td>\n",
       "      <td>160</td>\n",
       "      <td>195</td>\n",
       "    </tr>\n",
       "    <tr>\n",
       "      <th>2829</th>\n",
       "      <td>2830</td>\n",
       "      <td>2011-05-02</td>\n",
       "      <td>2</td>\n",
       "      <td>0</td>\n",
       "      <td>5</td>\n",
       "      <td>19</td>\n",
       "      <td>0</td>\n",
       "      <td>1</td>\n",
       "      <td>1</td>\n",
       "      <td>2</td>\n",
       "      <td>0.62</td>\n",
       "      <td>0.6061</td>\n",
       "      <td>0.69</td>\n",
       "      <td>0.1343</td>\n",
       "      <td>46</td>\n",
       "      <td>268</td>\n",
       "      <td>314</td>\n",
       "    </tr>\n",
       "    <tr>\n",
       "      <th>980</th>\n",
       "      <td>981</td>\n",
       "      <td>2011-02-13</td>\n",
       "      <td>1</td>\n",
       "      <td>0</td>\n",
       "      <td>2</td>\n",
       "      <td>12</td>\n",
       "      <td>0</td>\n",
       "      <td>0</td>\n",
       "      <td>0</td>\n",
       "      <td>1</td>\n",
       "      <td>0.36</td>\n",
       "      <td>0.3182</td>\n",
       "      <td>0.32</td>\n",
       "      <td>0.4627</td>\n",
       "      <td>58</td>\n",
       "      <td>94</td>\n",
       "      <td>152</td>\n",
       "    </tr>\n",
       "    <tr>\n",
       "      <th>1713</th>\n",
       "      <td>1714</td>\n",
       "      <td>2011-03-17</td>\n",
       "      <td>1</td>\n",
       "      <td>0</td>\n",
       "      <td>3</td>\n",
       "      <td>1</td>\n",
       "      <td>0</td>\n",
       "      <td>4</td>\n",
       "      <td>1</td>\n",
       "      <td>1</td>\n",
       "      <td>0.36</td>\n",
       "      <td>0.3485</td>\n",
       "      <td>0.71</td>\n",
       "      <td>0.2239</td>\n",
       "      <td>1</td>\n",
       "      <td>11</td>\n",
       "      <td>12</td>\n",
       "    </tr>\n",
       "    <tr>\n",
       "      <th>17126</th>\n",
       "      <td>17127</td>\n",
       "      <td>2012-12-21</td>\n",
       "      <td>1</td>\n",
       "      <td>1</td>\n",
       "      <td>12</td>\n",
       "      <td>9</td>\n",
       "      <td>0</td>\n",
       "      <td>5</td>\n",
       "      <td>1</td>\n",
       "      <td>2</td>\n",
       "      <td>0.32</td>\n",
       "      <td>0.2727</td>\n",
       "      <td>0.45</td>\n",
       "      <td>0.5522</td>\n",
       "      <td>2</td>\n",
       "      <td>265</td>\n",
       "      <td>267</td>\n",
       "    </tr>\n",
       "  </tbody>\n",
       "</table>\n",
       "</div>"
      ],
      "text/plain": [
       "       instant      dteday  season  yr  mnth  hr  holiday  weekday  \\\n",
       "1626      1627  2011-03-13       1   0     3   7        0        0   \n",
       "9881      9882  2012-02-21       1   1     2  18        0        2   \n",
       "11990    11991  2012-05-19       2   1     5  19        0        6   \n",
       "2115      2116  2011-04-03       2   0     4   0        0        0   \n",
       "11948    11949  2012-05-18       2   1     5   1        0        5   \n",
       "15711    15712  2012-10-21       4   1    10  20        0        0   \n",
       "2829      2830  2011-05-02       2   0     5  19        0        1   \n",
       "980        981  2011-02-13       1   0     2  12        0        0   \n",
       "1713      1714  2011-03-17       1   0     3   1        0        4   \n",
       "17126    17127  2012-12-21       1   1    12   9        0        5   \n",
       "\n",
       "       workingday  weathersit  temp   atemp   hum  windspeed  casual  \\\n",
       "1626            0           1  0.36  0.3485  0.62     0.1940       2   \n",
       "9881            1           1  0.38  0.3939  0.40     0.4478      11   \n",
       "11990           0           1  0.70  0.6364  0.39     0.1343     203   \n",
       "2115            0           1  0.30  0.2879  0.65     0.1940       8   \n",
       "11948           1           1  0.50  0.4848  0.59     0.0896      16   \n",
       "15711           0           1  0.48  0.4697  0.44     0.1940      35   \n",
       "2829            1           2  0.62  0.6061  0.69     0.1343      46   \n",
       "980             0           1  0.36  0.3182  0.32     0.4627      58   \n",
       "1713            1           1  0.36  0.3485  0.71     0.2239       1   \n",
       "17126           1           2  0.32  0.2727  0.45     0.5522       2   \n",
       "\n",
       "       registered  cnt  \n",
       "1626            8   10  \n",
       "9881          414  425  \n",
       "11990         229  432  \n",
       "2115           31   39  \n",
       "11948          33   49  \n",
       "15711         160  195  \n",
       "2829          268  314  \n",
       "980            94  152  \n",
       "1713           11   12  \n",
       "17126         265  267  "
      ]
     },
     "execution_count": 2,
     "metadata": {},
     "output_type": "execute_result"
    }
   ],
   "source": [
    "bike_rentals = pd.read_csv('bike_rental_hour.csv')\n",
    "bike_rentals.sample(10)"
   ]
  },
  {
   "cell_type": "code",
   "execution_count": 3,
   "metadata": {},
   "outputs": [
    {
     "data": {
      "text/plain": [
       "<matplotlib.axes._subplots.AxesSubplot at 0x10a248430>"
      ]
     },
     "execution_count": 3,
     "metadata": {},
     "output_type": "execute_result"
    },
    {
     "data": {
      "image/png": "[encoded data removed]",
      "text/plain": [
       "<Figure size 432x288 with 1 Axes>"
      ]
     },
     "metadata": {
      "needs_background": "light"
     },
     "output_type": "display_data"
    }
   ],
   "source": [
    "bike_rentals['cnt'].hist()"
   ]
  },
  {
   "cell_type": "code",
   "execution_count": 4,
   "metadata": {},
   "outputs": [
    {
     "data": {
      "text/plain": [
       "count    17379.000000\n",
       "mean       189.463088\n",
       "std        181.387599\n",
       "min          1.000000\n",
       "25%         40.000000\n",
       "50%        142.000000\n",
       "75%        281.000000\n",
       "max        977.000000\n",
       "Name: cnt, dtype: float64"
      ]
     },
     "execution_count": 4,
     "metadata": {},
     "output_type": "execute_result"
    }
   ],
   "source": [
    "bike_rentals['cnt'].describe()"
   ]
  },
  {
   "cell_type": "markdown",
   "metadata": {},
   "source": [
    "Looking at the histogram for rental count, the graph is heavily right skewed a looking at the distribution values, 75% of all values are less than 300 per day.\n",
    "\n",
    "In order to begin feature selection and potentially feature engineering, we can take a look at how some correlations with the bike rental count to see if there are any features that stand out."
   ]
  },
  {
   "cell_type": "code",
   "execution_count": 7,
   "metadata": {},
   "outputs": [
    {
     "data": {
      "text/plain": [
       "cnt           1.000000\n",
       "registered    0.972151\n",
       "casual        0.694564\n",
       "temp          0.404772\n",
       "atemp         0.400929\n",
       "hr            0.394071\n",
       "hum           0.322911\n",
       "instant       0.278379\n",
       "yr            0.250495\n",
       "season        0.178056\n",
       "weathersit    0.142426\n",
       "mnth          0.120638\n",
       "windspeed     0.093234\n",
       "holiday       0.030927\n",
       "workingday    0.030284\n",
       "weekday       0.026900\n",
       "Name: cnt, dtype: float64"
      ]
     },
     "execution_count": 7,
     "metadata": {},
     "output_type": "execute_result"
    }
   ],
   "source": [
    "bike_corr = bike_rentals.corr()['cnt'].abs().sort_values(ascending=False)\n",
    "bike_corr"
   ]
  },
  {
   "cell_type": "code",
   "execution_count": 8,
   "metadata": {},
   "outputs": [
    {
     "data": {
      "text/plain": [
       "<matplotlib.axes._subplots.AxesSubplot at 0x1296912b0>"
      ]
     },
     "execution_count": 8,
     "metadata": {},
     "output_type": "execute_result"
    },
    {
     "data": {
      "image/png": "[encoded data removed]",
      "text/plain": [
       "<Figure size 864x576 with 2 Axes>"
      ]
     },
     "metadata": {
      "needs_background": "light"
     },
     "output_type": "display_data"
    }
   ],
   "source": [
    "fig = plt.figure(figsize=(12,8))\n",
    "sns.heatmap(bike_rentals[bike_corr.index].corr().abs(),cmap=\"YlGnBu\")"
   ]
  },
  {
   "cell_type": "markdown",
   "metadata": {},
   "source": [
    "From the correlations, we can see that <code>'hr'</code> and the columns that relate to temperature and humidity all correlate highly with the overall count. These columns will likely help our model make accurate predictions. <code>'registered'</code> and <code>'casual'</code> refer to the actual riders that are in the count for the day, so we'll ignore those."
   ]
  },
  {
   "cell_type": "markdown",
   "metadata": {},
   "source": [
    "### Tweaking Features\n",
    "For the <code>'hr'</code> column, each hour of the day in representated from 1-24. This is 24 different number values that may cause the machine learning algorithm to learn inefficiently. It will be beneficial to do a bit of engineering to reduce the amount to groups that are related.\n",
    "\n",
    "We can do this by creating 4 different values, each representing time chunks. \n",
    "\n",
    "- 1 if the hour is 6-12\n",
    "- 2 if the hour is 12-18\n",
    "- 3 if the hour is 18-24\n",
    "- 4 if the hour is 0-6"
   ]
  },
  {
   "cell_type": "code",
   "execution_count": 9,
   "metadata": {},
   "outputs": [],
   "source": [
    "def change_time(val):\n",
    "    if 0 <= val < 6:\n",
    "        return 4\n",
    "    elif 6 <= val < 12:\n",
    "        return 1\n",
    "    elif 12 <= val < 18:\n",
    "        return 2\n",
    "    else:\n",
    "        return 3\n",
    "bike_rentals['time_label'] = bike_rentals['hr'].apply(change_time)"
   ]
  },
  {
   "cell_type": "markdown",
   "metadata": {},
   "source": [
    "We can grab a sample of the data to make sure our function worked properly."
   ]
  },
  {
   "cell_type": "code",
   "execution_count": 10,
   "metadata": {},
   "outputs": [
    {
     "data": {
      "text/html": [
       "<div>\n",
       "<style scoped>\n",
       "    .dataframe tbody tr th:only-of-type {\n",
       "        vertical-align: middle;\n",
       "    }\n",
       "\n",
       "    .dataframe tbody tr th {\n",
       "        vertical-align: top;\n",
       "    }\n",
       "\n",
       "    .dataframe thead th {\n",
       "        text-align: right;\n",
       "    }\n",
       "</style>\n",
       "<table border=\"1\" class=\"dataframe\">\n",
       "  <thead>\n",
       "    <tr style=\"text-align: right;\">\n",
       "      <th></th>\n",
       "      <th>hr</th>\n",
       "      <th>time_label</th>\n",
       "    </tr>\n",
       "  </thead>\n",
       "  <tbody>\n",
       "    <tr>\n",
       "      <th>2125</th>\n",
       "      <td>10</td>\n",
       "      <td>1</td>\n",
       "    </tr>\n",
       "    <tr>\n",
       "      <th>7131</th>\n",
       "      <td>18</td>\n",
       "      <td>3</td>\n",
       "    </tr>\n",
       "    <tr>\n",
       "      <th>13142</th>\n",
       "      <td>19</td>\n",
       "      <td>3</td>\n",
       "    </tr>\n",
       "    <tr>\n",
       "      <th>13945</th>\n",
       "      <td>6</td>\n",
       "      <td>1</td>\n",
       "    </tr>\n",
       "    <tr>\n",
       "      <th>3442</th>\n",
       "      <td>8</td>\n",
       "      <td>1</td>\n",
       "    </tr>\n",
       "  </tbody>\n",
       "</table>\n",
       "</div>"
      ],
      "text/plain": [
       "       hr  time_label\n",
       "2125   10           1\n",
       "7131   18           3\n",
       "13142  19           3\n",
       "13945   6           1\n",
       "3442    8           1"
      ]
     },
     "execution_count": 10,
     "metadata": {},
     "output_type": "execute_result"
    }
   ],
   "source": [
    "bike_rentals[['hr','time_label']].sample(5)"
   ]
  },
  {
   "cell_type": "markdown",
   "metadata": {},
   "source": [
    "### Splitting the Data\n",
    "Now that we have the data ready for the algorithms, we need to split the data into a training set to train on, and a test set to test model so we can see the accuracy.\n",
    "\n",
    "We'll begin with a 80/20 randomized train/test split to test a few different models.\n",
    "\n",
    "Once we have the data split, we can train the models and compare a few error metrics to see general accuracy. We will use a couple different metrics for this project that work well with regression. The first will be RMSE (root mean squared error). This first takes the difference between the predicted value and the actual values and squares it. This penalizes any predictions that are further away from the acutal value. Then we take the overall mean of these values and then take the square root so we can bring the value back to the original units, in this case rental count. The next error metric will be the r^2 score, which measures the fit of the predicted values vs actual values on a scale from 0 to 1, with 1 being perfect fit and 0 being no fit.\n",
    "\n",
    "Once we find a potentially best model, we can then run a K-Fold Cross Validation to make sure we weren't overfitting the training data. K-Fold Cross Validation works by segmenting the data in the amount of Folds specified, seperating one fold for the test set and training on the rest. After it trains on this segment, it resets, and repeats the process for each fold making sure each fold is the test set once."
   ]
  },
  {
   "cell_type": "code",
   "execution_count": 11,
   "metadata": {},
   "outputs": [],
   "source": [
    "train = bike_rentals.sample(frac = .8, random_state = 1)\n",
    "test = bike_rentals.loc[~bike_rentals.index.isin(train.index)]"
   ]
  },
  {
   "cell_type": "markdown",
   "metadata": {},
   "source": [
    "### Training Models\n",
    "We'll begin with a Linear Regression model since this model works well when predictors are linearly correlated with the target and are also independent. Linear Regression works by finding the weights, known as the coefficients, that when applied to the input features, find the lowest error of the predictions to the actual labels.\n",
    "\n",
    "We'll need to ignore a few columns due to the fact they leak information about our target. These would be <code>'casual'</code> and <code>'registered'</code>. We would only know if the rider is casual or registered once we know a bike has been rented.\n",
    "\n",
    "We also can remove <code>'dteday'</code> because this is a date and we're focusing a bit more on hours and seasons. We can also remove <code>'atemp'</code> since we already have a column for temperature. Lastly, we'll remove <code>'instant'</code> since this is just an ID."
   ]
  },
  {
   "cell_type": "code",
   "execution_count": 12,
   "metadata": {},
   "outputs": [],
   "source": [
    "features = bike_rentals.drop(['cnt','casual','dteday','registered','atemp','instant'], axis = 1).columns\n",
    "target = ['cnt']"
   ]
  },
  {
   "cell_type": "markdown",
   "metadata": {},
   "source": [
    "#### Linear Regression Model"
   ]
  },
  {
   "cell_type": "code",
   "execution_count": 14,
   "metadata": {},
   "outputs": [
    {
     "name": "stdout",
     "output_type": "stream",
     "text": [
      "MSE:  17091.34973731613\n",
      "RMSE:  130.73388901626132\n",
      "R^2 Score:  0.4609665470190937\n"
     ]
    }
   ],
   "source": [
    "lr = LinearRegression()\n",
    "lr.fit(train[features],train[target])\n",
    "predictions = lr.predict(test[features])\n",
    "mse = mean_squared_error(test['cnt'],predictions)\n",
    "rmse = np.sqrt(mse)\n",
    "r2 = r2_score(test['cnt'],predictions)\n",
    "print('MSE: ',mse)\n",
    "print('RMSE: ',rmse)\n",
    "print('R^2 Score: ',r2)"
   ]
  },
  {
   "cell_type": "markdown",
   "metadata": {},
   "source": [
    "This is a very high error rate and is likely due to the fact that the data has mostly low values with only a handful of high values. Larger errors are penalized higher with mean squared error. Our model seems to be underfitting that data and this is clear with the r^2 score only being .46, which is very low. Given that 75% of the time the amount of riders for the day is less than 300, being potentially off by 130 riders would be very significant."
   ]
  },
  {
   "cell_type": "markdown",
   "metadata": {},
   "source": [
    "#### Decision Tree Model\n",
    "Decision trees tend to predict outcomes a bit better than Linear Regression because Decision Trees can become quite complex. Unfortunately, this can easily result in the model overfitting on the training data. In order to prevent overfitting, tweaking the hyperparameters can help reduce overfitting.\n",
    "\n",
    "A decision tree is just a binary tree and each node represents a single input variable and a split point on that variable.\n",
    "\n",
    "The leaf nodes of the tree contain our output variable, the rider count, which is used to make a prediction.  The journey of the Decision Tree follows the branches down and splits down until it arrives at the prediction.\n",
    "\n",
    "In our first Decision Tree, we won't specify any parameters, just using the defaults from sklearn."
   ]
  },
  {
   "cell_type": "code",
   "execution_count": 16,
   "metadata": {},
   "outputs": [
    {
     "name": "stdout",
     "output_type": "stream",
     "text": [
      "MSE:  3725.90916283084\n",
      "RMSE:  61.040225776375046\n",
      "R^2 Score:  0.8824908674620987\n"
     ]
    }
   ],
   "source": [
    "dtr = DecisionTreeRegressor()\n",
    "dtr.fit(train[features],train[target])\n",
    "predictions_dtr = dtr.predict(test[features])\n",
    "mse = mean_squared_error(test['cnt'],predictions_dtr)\n",
    "rmse_dtr = np.sqrt(mean_squared_error(test['cnt'],predictions_dtr))\n",
    "r2_dtr = r2_score(test['cnt'],predictions_dtr)\n",
    "print('MSE: ', mse)\n",
    "print('RMSE: ',rmse_dtr)\n",
    "print('R^2 Score: ',r2_dtr)"
   ]
  },
  {
   "cell_type": "markdown",
   "metadata": {},
   "source": [
    "Already the decision tree model is performing significantly better than the linear regression model with the RMSE score less than half and the r^2 score more than doubled. When comparing the MSE score, we can see that it's roughly 4.5 times lower. This means that the predictions were not as far off, otherwise they would have been penalized more aggresively.\n",
    "\n",
    "When it comes to tuning a model, there are typically are lot hyperparameters that can be tweaked. In Decisicion Tree's there are quite a few. We can change the number of samples required to split an internal node, the depth of the tree can be increased or reduced, we can specify the minimum number of samples required at each leaf node, and we can even change the criterion that measures the quality of the split. This is just a handful of the available options that can help or hurt our model.\n",
    "\n",
    "A simple, but effective parameter to tweak would be the <code>min_samples_leaf</code>. This refers to the minimum number of samples required to be at a leaf node. Here we can run the model again, with many differnt values for the samples at a leaf node and visualize the training vs test error to see the best trade-off between overfitting and underfitting the data."
   ]
  },
  {
   "cell_type": "code",
   "execution_count": 25,
   "metadata": {},
   "outputs": [
    {
     "data": {
      "image/png": "[encoded data removed]",
      "text/plain": [
       "<Figure size 432x288 with 1 Axes>"
      ]
     },
     "metadata": {
      "needs_background": "light"
     },
     "output_type": "display_data"
    }
   ],
   "source": [
    "train_rmses = []\n",
    "test_rmses = []\n",
    "test_r2s = []\n",
    "for i in range(1,21):\n",
    "    dtr = DecisionTreeRegressor(min_samples_leaf = i)\n",
    "    dtr.fit(train[features],train[target])\n",
    "    train_predictions_dtr = dtr.predict(train[features])\n",
    "    test_predictions_dtr = dtr.predict(test[features])\n",
    "    rmse_train_dtr = np.sqrt(mean_squared_error(train['cnt'],train_predictions_dtr))\n",
    "    rmse_test_dtr = np.sqrt(mean_squared_error(test['cnt'],test_predictions_dtr))\n",
    "    r2_test_dtr = r2_score(test['cnt'],test_predictions_dtr)\n",
    "    train_rmses.append(rmse_train_dtr)\n",
    "    test_rmses.append(rmse_test_dtr)\n",
    "    test_r2s.append(r2_test_dtr)\n",
    "\n",
    "plt.plot([i for i in range(1,21)],train_rmses, label = 'train')\n",
    "plt.plot([i for i in range(1,21)],test_rmses, label = 'test')\n",
    "plt.xticks([i for i in range(2,21,2)])\n",
    "plt.axvline(6, alpha = .5)\n",
    "plt.xlabel('min_samples_leaf')\n",
    "plt.ylabel('RMSE')\n",
    "plt.legend()\n",
    "plt.title('Learning Curve')\n",
    "plt.show()"
   ]
  },
  {
   "cell_type": "markdown",
   "metadata": {},
   "source": [
    "Looking at the learning curve above. Choosing 6 for the amount of samples per node offers the best trade-off as the test error is at it's lowest point before beginning to increase again.\n",
    "\n",
    "Let's view the actual RMSE and R^2 values for <code>min_samples_leaf = 6</code>"
   ]
  },
  {
   "cell_type": "code",
   "execution_count": 27,
   "metadata": {},
   "outputs": [
    {
     "name": "stdout",
     "output_type": "stream",
     "text": [
      "RMSE for 6:  53.542876796886816\n",
      "R^2 for 6:  0.9095845265296172\n"
     ]
    }
   ],
   "source": [
    "print('RMSE for 6: ',test_rmses[5])\n",
    "print('R^2 for 6: ',test_r2s[5])"
   ]
  },
  {
   "cell_type": "markdown",
   "metadata": {},
   "source": [
    "Both metrics are better than our model with the default parameters. Next we can try a random forest to see if we can make any improvements on our predictions."
   ]
  },
  {
   "cell_type": "markdown",
   "metadata": {},
   "source": [
    "#### Random Forest\n",
    "Random Forests tend to be much more accurate than both Linear Regression and Decision Trees. They also tend to be much less susceptible to overfitting due to the fact that they pretty much work as a majority vote with multiple different trees.\n",
    "\n",
    "Random Forests are an example of an ensemble of decision trees. It works by creating and running multiple different decision trees on different subsets of the training dataset. Each tree tends to overfit slightly each subset, but this allows each tree to be different and have less correlated predictions. Once the model finishes, the predictions from all the trees are averaged.\n",
    "\n",
    "Let's begin by running the Random Forest model with the default parameters."
   ]
  },
  {
   "cell_type": "code",
   "execution_count": 28,
   "metadata": {},
   "outputs": [
    {
     "name": "stdout",
     "output_type": "stream",
     "text": [
      "RMSE:  44.40086499811777\n",
      "R^2 Score:  0.9378240800901121\n"
     ]
    }
   ],
   "source": [
    "rf = RandomForestRegressor()\n",
    "rf.fit(train[features],train['cnt'])\n",
    "predictions_rf = rf.predict(test[features])\n",
    "rmse_rf = np.sqrt(mean_squared_error(test['cnt'],predictions_rf))\n",
    "r2_rf = r2_score(test['cnt'],predictions_rf)\n",
    "print('RMSE: ',rmse_rf)\n",
    "print('R^2 Score: ',r2_rf)"
   ]
  },
  {
   "cell_type": "markdown",
   "metadata": {},
   "source": [
    "Running the default Random Forest Regressor from sklearn seems to have performed very well. Looking at the documentation, the default values are as following:\n",
    "- <code>n_estimators = 100</code> \n",
    "- <code>min_samples_leaf = 1</code>\n",
    "- <code>max_depth = None</code>\n",
    "\n",
    "With a pretty large drop in RMSE, we'll need to double check to make we weren't overfitting the data. We can accomplish this again by comparing the error metrics amongst the training and test set."
   ]
  },
  {
   "cell_type": "code",
   "execution_count": 29,
   "metadata": {},
   "outputs": [
    {
     "data": {
      "image/png": "[encoded data removed]",
      "text/plain": [
       "<Figure size 432x288 with 1 Axes>"
      ]
     },
     "metadata": {
      "needs_background": "light"
     },
     "output_type": "display_data"
    },
    {
     "name": "stdout",
     "output_type": "stream",
     "text": [
      "Train RMSE:  15.793853924724843\n",
      "Train R^2:  0.9924853763072531\n",
      "------------------------------\n",
      "Test RMSE:  44.4663078302309\n",
      "Test R^2:  0.9376406617295602\n"
     ]
    }
   ],
   "source": [
    "pd.options.mode.chained_assignment = None  # default='warn'\n",
    "\n",
    "rf = RandomForestRegressor()\n",
    "rf.fit(train[features],train['cnt'])\n",
    "train['predictions'] = rf.predict(train[features])\n",
    "test['predictions'] = rf.predict(test[features])\n",
    "\n",
    "train_rmse_rf = np.sqrt(mean_squared_error(train['cnt'],train['predictions']))\n",
    "train_r2_rf = r2_score(train['cnt'],train['predictions'])\n",
    "\n",
    "test_rmse_rf = np.sqrt(mean_squared_error(test['cnt'],test['predictions']))\n",
    "test_r2_rf = r2_score(test['cnt'],test['predictions'])\n",
    "\n",
    "plt.scatter(test['cnt'],test['predictions'],c='crimson')\n",
    "p1 = max(max(test['predictions']), max(test['cnt']))\n",
    "p2 = min(min(test['predictions']), min(test['cnt']))\n",
    "plt.plot([p1, p2], [p1, p2], 'b-')\n",
    "plt.xlabel('Actual', fontsize=15)\n",
    "plt.ylabel('Predictions', fontsize=15)\n",
    "plt.show()\n",
    "\n",
    "print('Train RMSE: ', train_rmse_rf)\n",
    "print('Train R^2: ',train_r2_rf)\n",
    "print('-'*30)\n",
    "print('Test RMSE: ', test_rmse_rf)\n",
    "print('Test R^2: ',test_r2_rf)"
   ]
  },
  {
   "cell_type": "markdown",
   "metadata": {},
   "source": [
    "Although the predictions in the test set are still pretty accurate and follow the best fit line, we have some predictions that are drastically different than the actual values. Looking at our Train vs Test scores, our model perfromed dramatically better on the training set and thus was overfitting the training data. In the real world, with new data, this model will likely perform even worse on the unseen data than the split test data.\n",
    "\n",
    "A good option to help tune our Model would be to tweak the hyperparameters. A quick an easy to way to determine which parameters help the model perform the best would be to run a grid search. A grid search utilizes an iterative approach by training the model on a range of given parameters and then scores the model. Once the best combination of parameters has been found, the highest score and tuned model is saved."
   ]
  },
  {
   "cell_type": "code",
   "execution_count": 30,
   "metadata": {},
   "outputs": [
    {
     "name": "stdout",
     "output_type": "stream",
     "text": [
      "Best Parameters:  {'max_depth': 10, 'min_samples_leaf': 1, 'min_samples_split': 5, 'n_estimators': 9}\n",
      "Best Score:  0.9164939737940543\n"
     ]
    }
   ],
   "source": [
    "from sklearn.model_selection import GridSearchCV\n",
    "\n",
    "hyperparameters = {\n",
    "        'n_estimators': [4, 6, 9],\n",
    "        'max_depth': [2, 5, 10],\n",
    "        'min_samples_leaf': [1, 5, 8],\n",
    "        'min_samples_split': [2, 3, 5]\n",
    "    }\n",
    "\n",
    "grid = GridSearchCV(RandomForestRegressor(),\n",
    "                           param_grid = hyperparameters,\n",
    "                           cv = KFold(n_splits = 10,shuffle=True, random_state=1), scoring='r2')\n",
    "grid.fit(bike_rentals[features],bike_rentals['cnt'])\n",
    "best_params = grid.best_params_\n",
    "best_score = grid.best_score_\n",
    "        \n",
    "print('Best Parameters: ',best_params)\n",
    "print('Best Score: ', best_score)"
   ]
  },
  {
   "cell_type": "markdown",
   "metadata": {},
   "source": [
    "Using the grid search, with a 10 K-Fold Cross Validation we were able to select our best hyperparameters and achieve an .916 R^2 score. Let's run the Random Forest one more time on our original training/test split with these updated hyperparameters to compare to our previous results."
   ]
  },
  {
   "cell_type": "code",
   "execution_count": 31,
   "metadata": {},
   "outputs": [
    {
     "name": "stdout",
     "output_type": "stream",
     "text": [
      "Train RMSE:  44.643288296410404\n",
      "Train R^2:  0.9399596306110296\n",
      "------------------------------\n",
      "Test RMSE:  54.083454900533155\n",
      "Test R^2:  0.9077496098594794\n"
     ]
    }
   ],
   "source": [
    "rf = RandomForestRegressor(max_depth = 10, min_samples_leaf = 1, min_samples_split = 2, n_estimators = 9)\n",
    "rf.fit(train[features],train['cnt'])\n",
    "train['predictions'] = rf.predict(train[features])\n",
    "test['predictions'] = rf.predict(test[features])\n",
    "\n",
    "train_rmse_rf = np.sqrt(mean_squared_error(train['cnt'],train['predictions']))\n",
    "train_r2_rf = r2_score(train['cnt'],train['predictions'])\n",
    "\n",
    "test_rmse_rf = np.sqrt(mean_squared_error(test['cnt'],test['predictions']))\n",
    "test_r2_rf = r2_score(test['cnt'],test['predictions'])\n",
    "\n",
    "print('Train RMSE: ', train_rmse_rf)\n",
    "print('Train R^2: ',train_r2_rf)\n",
    "print('-'*30)\n",
    "print('Test RMSE: ', test_rmse_rf)\n",
    "print('Test R^2: ',test_r2_rf)"
   ]
  },
  {
   "cell_type": "markdown",
   "metadata": {},
   "source": [
    "Although the model still seems to be overfitting the training data a bit with the original split, it isn't as severe as before. \n",
    "\n",
    "Reimplementing the K-Fold Cross Validation from the grid search will help reduce the overfitting if this is the final model we'd like to stick with."
   ]
  },
  {
   "cell_type": "markdown",
   "metadata": {},
   "source": [
    "## Conclusion\n",
    "With some basic feature engineering and model tuning, we were able to implement a fairly accurate Random Forest Model to make predictions as to how many bikes will be rented in one day.\n",
    "\n",
    "In order to make our model even more accurate, we would need to spend more time engineering more features, gathering more data, and potentiallly stacking additional models with the Random Forest. It would also be beneficial to use a holdout set to test our final model on after fitting our model with a K-Fold Cross Validation. This way we can truly test the accuracy on unseen data."
   ]
  },
  {
   "cell_type": "code",
   "execution_count": null,
   "metadata": {},
   "outputs": [],
   "source": []
  }
 ],
 "metadata": {
  "kernelspec": {
   "display_name": "Python 3",
   "language": "python",
   "name": "python3"
  },
  "language_info": {
   "codemirror_mode": {
    "name": "ipython",
    "version": 3
   },
   "file_extension": ".py",
   "mimetype": "text/x-python",
   "name": "python",
   "nbconvert_exporter": "python",
   "pygments_lexer": "ipython3",
   "version": "3.8.3"
  }
 },
 "nbformat": 4,
 "nbformat_minor": 1
}
