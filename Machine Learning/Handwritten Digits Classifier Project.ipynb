{
 "cells": [
  {
   "cell_type": "markdown",
   "metadata": {
    "collapsed": true
   },
   "source": [
    "# Classifying Handwritten Digits\n",
    "\n",
    "In this project, we will train and explore the effectiveness of a deep, feedforward neural network to classify images.\n",
    "\n",
    "Image classification is a difficult task. When it comes to training a neural network for images, each image in the training set is high dimensional. Each pixel in an image is a single feature in a separate column. For example, one 128 X 128 image has 16,384 features. When it comes to utilizing actual images, they are typically of higher resolution. For example, 3264 X 2448 pixels. This would total about 8 million features. To make matters even more complicated, images don't have an obvious linear or nonlinear relationship that can be learned through models like linear or logistic regression. \n",
    "\n",
    "When it comes to learning image classification, deep learning is effective because of the models' ability to learn hierarchical representations. Each hidden layer will focus on specific features of the image and each successive layer will use weights from the previous layers to try to learn more complex representations.\n",
    "\n",
    "Hopefully in this project, we will be able to build a functional deep neural network that can succesfully identity digits within images. \n",
    "\n",
    "We will begin this project by utilizing a dataset that is pre-loaded into the <code>sklearn.datasets</code> library. We'll use the <code>load_digits()</code> function to return a copy of the hand-written digits dataset from UCI.\n",
    "\n",
    "Since our dataset will be a tabular representation of data, each image will be represented as a row of pixel values. In order to visualize the original image, we'll have to reshape these pixel values back into the original dimensions (28 X 28 pixels). We can accomplish this by using the <code>numpy.reshape()</code> function to reshape the training example into a numpy array. We will then visualize the image with the <code>pyplot.imshow()</code> function. If we want to visualize multiple images, we can utilize the <code>axes.imshow()</code> function.\n",
    "\n",
    "We will now load libraries and the dataset to visualize some of the images."
   ]
  },
  {
   "cell_type": "code",
   "execution_count": 1,
   "metadata": {},
   "outputs": [],
   "source": [
    "from sklearn.datasets import load_digits\n",
    "import pandas as pd\n",
    "import numpy as np\n",
    "import matplotlib.pyplot as plt\n",
    "%matplotlib inline"
   ]
  },
  {
   "cell_type": "code",
   "execution_count": 2,
   "metadata": {},
   "outputs": [],
   "source": [
    "digits = load_digits()"
   ]
  },
  {
   "cell_type": "code",
   "execution_count": 3,
   "metadata": {},
   "outputs": [
    {
     "data": {
      "text/plain": [
       "dict_keys(['data', 'target', 'frame', 'feature_names', 'target_names', 'images', 'DESCR'])"
      ]
     },
     "execution_count": 3,
     "metadata": {},
     "output_type": "execute_result"
    }
   ],
   "source": [
    "digits.keys()"
   ]
  },
  {
   "cell_type": "code",
   "execution_count": 4,
   "metadata": {},
   "outputs": [],
   "source": [
    "labels = pd.DataFrame(digits['target'])\n",
    "data = pd.DataFrame(digits['data'])"
   ]
  },
  {
   "cell_type": "code",
   "execution_count": 5,
   "metadata": {},
   "outputs": [
    {
     "data": {
      "text/html": [
       "<div>\n",
       "<style scoped>\n",
       "    .dataframe tbody tr th:only-of-type {\n",
       "        vertical-align: middle;\n",
       "    }\n",
       "\n",
       "    .dataframe tbody tr th {\n",
       "        vertical-align: top;\n",
       "    }\n",
       "\n",
       "    .dataframe thead th {\n",
       "        text-align: right;\n",
       "    }\n",
       "</style>\n",
       "<table border=\"1\" class=\"dataframe\">\n",
       "  <thead>\n",
       "    <tr style=\"text-align: right;\">\n",
       "      <th></th>\n",
       "      <th>0</th>\n",
       "      <th>1</th>\n",
       "      <th>2</th>\n",
       "      <th>3</th>\n",
       "      <th>4</th>\n",
       "      <th>5</th>\n",
       "      <th>6</th>\n",
       "      <th>7</th>\n",
       "      <th>8</th>\n",
       "      <th>9</th>\n",
       "      <th>...</th>\n",
       "      <th>54</th>\n",
       "      <th>55</th>\n",
       "      <th>56</th>\n",
       "      <th>57</th>\n",
       "      <th>58</th>\n",
       "      <th>59</th>\n",
       "      <th>60</th>\n",
       "      <th>61</th>\n",
       "      <th>62</th>\n",
       "      <th>63</th>\n",
       "    </tr>\n",
       "  </thead>\n",
       "  <tbody>\n",
       "    <tr>\n",
       "      <th>0</th>\n",
       "      <td>0.0</td>\n",
       "      <td>0.0</td>\n",
       "      <td>5.0</td>\n",
       "      <td>13.0</td>\n",
       "      <td>9.0</td>\n",
       "      <td>1.0</td>\n",
       "      <td>0.0</td>\n",
       "      <td>0.0</td>\n",
       "      <td>0.0</td>\n",
       "      <td>0.0</td>\n",
       "      <td>...</td>\n",
       "      <td>0.0</td>\n",
       "      <td>0.0</td>\n",
       "      <td>0.0</td>\n",
       "      <td>0.0</td>\n",
       "      <td>6.0</td>\n",
       "      <td>13.0</td>\n",
       "      <td>10.0</td>\n",
       "      <td>0.0</td>\n",
       "      <td>0.0</td>\n",
       "      <td>0.0</td>\n",
       "    </tr>\n",
       "    <tr>\n",
       "      <th>1</th>\n",
       "      <td>0.0</td>\n",
       "      <td>0.0</td>\n",
       "      <td>0.0</td>\n",
       "      <td>12.0</td>\n",
       "      <td>13.0</td>\n",
       "      <td>5.0</td>\n",
       "      <td>0.0</td>\n",
       "      <td>0.0</td>\n",
       "      <td>0.0</td>\n",
       "      <td>0.0</td>\n",
       "      <td>...</td>\n",
       "      <td>0.0</td>\n",
       "      <td>0.0</td>\n",
       "      <td>0.0</td>\n",
       "      <td>0.0</td>\n",
       "      <td>0.0</td>\n",
       "      <td>11.0</td>\n",
       "      <td>16.0</td>\n",
       "      <td>10.0</td>\n",
       "      <td>0.0</td>\n",
       "      <td>0.0</td>\n",
       "    </tr>\n",
       "    <tr>\n",
       "      <th>2</th>\n",
       "      <td>0.0</td>\n",
       "      <td>0.0</td>\n",
       "      <td>0.0</td>\n",
       "      <td>4.0</td>\n",
       "      <td>15.0</td>\n",
       "      <td>12.0</td>\n",
       "      <td>0.0</td>\n",
       "      <td>0.0</td>\n",
       "      <td>0.0</td>\n",
       "      <td>0.0</td>\n",
       "      <td>...</td>\n",
       "      <td>5.0</td>\n",
       "      <td>0.0</td>\n",
       "      <td>0.0</td>\n",
       "      <td>0.0</td>\n",
       "      <td>0.0</td>\n",
       "      <td>3.0</td>\n",
       "      <td>11.0</td>\n",
       "      <td>16.0</td>\n",
       "      <td>9.0</td>\n",
       "      <td>0.0</td>\n",
       "    </tr>\n",
       "    <tr>\n",
       "      <th>3</th>\n",
       "      <td>0.0</td>\n",
       "      <td>0.0</td>\n",
       "      <td>7.0</td>\n",
       "      <td>15.0</td>\n",
       "      <td>13.0</td>\n",
       "      <td>1.0</td>\n",
       "      <td>0.0</td>\n",
       "      <td>0.0</td>\n",
       "      <td>0.0</td>\n",
       "      <td>8.0</td>\n",
       "      <td>...</td>\n",
       "      <td>9.0</td>\n",
       "      <td>0.0</td>\n",
       "      <td>0.0</td>\n",
       "      <td>0.0</td>\n",
       "      <td>7.0</td>\n",
       "      <td>13.0</td>\n",
       "      <td>13.0</td>\n",
       "      <td>9.0</td>\n",
       "      <td>0.0</td>\n",
       "      <td>0.0</td>\n",
       "    </tr>\n",
       "    <tr>\n",
       "      <th>4</th>\n",
       "      <td>0.0</td>\n",
       "      <td>0.0</td>\n",
       "      <td>0.0</td>\n",
       "      <td>1.0</td>\n",
       "      <td>11.0</td>\n",
       "      <td>0.0</td>\n",
       "      <td>0.0</td>\n",
       "      <td>0.0</td>\n",
       "      <td>0.0</td>\n",
       "      <td>0.0</td>\n",
       "      <td>...</td>\n",
       "      <td>0.0</td>\n",
       "      <td>0.0</td>\n",
       "      <td>0.0</td>\n",
       "      <td>0.0</td>\n",
       "      <td>0.0</td>\n",
       "      <td>2.0</td>\n",
       "      <td>16.0</td>\n",
       "      <td>4.0</td>\n",
       "      <td>0.0</td>\n",
       "      <td>0.0</td>\n",
       "    </tr>\n",
       "  </tbody>\n",
       "</table>\n",
       "<p>5 rows × 64 columns</p>\n",
       "</div>"
      ],
      "text/plain": [
       "    0    1    2     3     4     5    6    7    8    9   ...   54   55   56  \\\n",
       "0  0.0  0.0  5.0  13.0   9.0   1.0  0.0  0.0  0.0  0.0  ...  0.0  0.0  0.0   \n",
       "1  0.0  0.0  0.0  12.0  13.0   5.0  0.0  0.0  0.0  0.0  ...  0.0  0.0  0.0   \n",
       "2  0.0  0.0  0.0   4.0  15.0  12.0  0.0  0.0  0.0  0.0  ...  5.0  0.0  0.0   \n",
       "3  0.0  0.0  7.0  15.0  13.0   1.0  0.0  0.0  0.0  8.0  ...  9.0  0.0  0.0   \n",
       "4  0.0  0.0  0.0   1.0  11.0   0.0  0.0  0.0  0.0  0.0  ...  0.0  0.0  0.0   \n",
       "\n",
       "    57   58    59    60    61   62   63  \n",
       "0  0.0  6.0  13.0  10.0   0.0  0.0  0.0  \n",
       "1  0.0  0.0  11.0  16.0  10.0  0.0  0.0  \n",
       "2  0.0  0.0   3.0  11.0  16.0  9.0  0.0  \n",
       "3  0.0  7.0  13.0  13.0   9.0  0.0  0.0  \n",
       "4  0.0  0.0   2.0  16.0   4.0  0.0  0.0  \n",
       "\n",
       "[5 rows x 64 columns]"
      ]
     },
     "execution_count": 5,
     "metadata": {},
     "output_type": "execute_result"
    }
   ],
   "source": [
    "data.head()"
   ]
  },
  {
   "cell_type": "markdown",
   "metadata": {},
   "source": [
    "Now that we have the data imported in, let's visualize what the first row looks like as the original image."
   ]
  },
  {
   "cell_type": "code",
   "execution_count": 6,
   "metadata": {},
   "outputs": [
    {
     "data": {
      "text/plain": [
       "<matplotlib.image.AxesImage at 0x12fa55e50>"
      ]
     },
     "execution_count": 6,
     "metadata": {},
     "output_type": "execute_result"
    },
    {
     "data": {
      "image/png": "[encoded data removed]",
      "text/plain": [
       "<Figure size 432x288 with 1 Axes>"
      ]
     },
     "metadata": {
      "needs_background": "light"
     },
     "output_type": "display_data"
    }
   ],
   "source": [
    "original_first_image = data.iloc[0].values.reshape(8,8)\n",
    "plt.imshow(original_first_image, cmap='gray_r')"
   ]
  },
  {
   "cell_type": "markdown",
   "metadata": {},
   "source": [
    "That looks like a zero, let's double check the label for the first row."
   ]
  },
  {
   "cell_type": "code",
   "execution_count": 7,
   "metadata": {},
   "outputs": [
    {
     "name": "stdout",
     "output_type": "stream",
     "text": [
      "The first row target is:  0\n"
     ]
    }
   ],
   "source": [
    "print('The first row target is: ',labels.iloc[0].values[0])"
   ]
  },
  {
   "cell_type": "markdown",
   "metadata": {},
   "source": [
    "Let's visualize a few more rows."
   ]
  },
  {
   "cell_type": "code",
   "execution_count": 8,
   "metadata": {},
   "outputs": [
    {
     "data": {
      "image/png": "[encoded data removed]",
      "text/plain": [
       "<Figure size 432x288 with 8 Axes>"
      ]
     },
     "metadata": {
      "needs_background": "light"
     },
     "output_type": "display_data"
    }
   ],
   "source": [
    "fig,ax = plt.subplots(2,4)\n",
    "first_row = [0,99,199,299]\n",
    "second_row = [999,1099,1199,1299]\n",
    "\n",
    "for i,val in enumerate(first_row):\n",
    "    ax[0,i].imshow(data.iloc[val].values.reshape(8,8),cmap='gray_r',label='word')\n",
    "    \n",
    "for i, val in enumerate(second_row):\n",
    "    ax[1,i].imshow(data.iloc[val].values.reshape(8,8),cmap='gray_r')"
   ]
  },
  {
   "cell_type": "markdown",
   "metadata": {},
   "source": [
    "A few of those are even hard to decipher to the naked eye. For example, the last digit in the second row looks like a either a 1 or a 2, let's check."
   ]
  },
  {
   "cell_type": "code",
   "execution_count": 9,
   "metadata": {},
   "outputs": [
    {
     "data": {
      "text/plain": [
       "2"
      ]
     },
     "execution_count": 9,
     "metadata": {},
     "output_type": "execute_result"
    }
   ],
   "source": [
    "labels.iloc[1299].values[0]"
   ]
  },
  {
   "cell_type": "markdown",
   "metadata": {},
   "source": [
    "It was a 2! It will be interesting to see how machine learning algorithms classify these images given that even to our own eye, it's difficult to tell."
   ]
  },
  {
   "cell_type": "markdown",
   "metadata": {},
   "source": [
    "### K-Nearest Neighbor\n",
    "Since we can not use linear or logisitic regression since those make assumptions about the linearity between the features and the output, k-nearest neighbor does not. K-Nearest neighbor just compares every unseen observation in the test set to the training observations to look for similar/nearest observations. The amount of nearest observations the model uses is specified by us. Once it finds the label with the most nearby observations, it assigns that value as the prediction.\n",
    "\n",
    "Before we dive into deep neural networks, let's experiment with the KNN model. We'll create a pipeline of functions that allow up to train, test, and cross validate our data using the KNN model."
   ]
  },
  {
   "cell_type": "code",
   "execution_count": 10,
   "metadata": {},
   "outputs": [
    {
     "name": "stdout",
     "output_type": "stream",
     "text": [
      "Overall Accuracy:  0.9888728037614452\n"
     ]
    }
   ],
   "source": [
    "from sklearn.neighbors import KNeighborsClassifier\n",
    "from sklearn.model_selection import KFold,cross_val_score\n",
    "from sklearn.metrics import accuracy_score\n",
    "\n",
    "def train_knn(train_features,train_labels,neighbors):\n",
    "    knn = KNeighborsClassifier(n_neighbors = neighbors)\n",
    "    knn.fit(train_features,np.ravel(train_labels))\n",
    "    return knn\n",
    "\n",
    "def test_knn(model,test_features,test_labels):\n",
    "    predictions = model.predict(test_features)\n",
    "    df = pd.DataFrame()\n",
    "    accuracy = accuracy_score(test_labels,predictions)\n",
    "    return accuracy\n",
    "\n",
    "def cross_validate(neighbors):\n",
    "    fold_accuracies = []\n",
    "    kf = KFold(n_splits = 4, random_state = 2, shuffle = True)\n",
    "    for train_index, test_index in kf.split(data):\n",
    "        train_features,test_features = data.loc[train_index],data.loc[test_index]\n",
    "        train_labels, test_labels = labels.loc[train_index],labels.loc[test_index]\n",
    "        model = train_knn(train_features,train_labels,neighbors)\n",
    "        overall_accuracy = test_knn(model,test_features,test_labels)\n",
    "        fold_accuracies.append(overall_accuracy)\n",
    "    return fold_accuracies\n",
    "\n",
    "knn_one_neighbor = cross_validate(1)\n",
    "print('Overall Accuracy: ', np.mean(knn_one_neighbor))"
   ]
  },
  {
   "cell_type": "markdown",
   "metadata": {},
   "source": [
    "Using a 4 Fold Cross Validation, with just one neighbor, we were able to gain a pretty impressive 98.8% accuracy rate. Reusing our 4 Fold Cross Validation, we should adjust the number of neighbors to see how it affects our overall accuracy rate."
   ]
  },
  {
   "cell_type": "code",
   "execution_count": 11,
   "metadata": {},
   "outputs": [],
   "source": [
    "accuracies = []\n",
    "for i in range(1,10):\n",
    "    accuracy = cross_validate(i)\n",
    "    accuracies.append(np.mean(accuracy))"
   ]
  },
  {
   "cell_type": "code",
   "execution_count": 12,
   "metadata": {},
   "outputs": [
    {
     "data": {
      "image/png": "[encoded data removed]",
      "text/plain": [
       "<Figure size 576x288 with 1 Axes>"
      ]
     },
     "metadata": {
      "needs_background": "light"
     },
     "output_type": "display_data"
    }
   ],
   "source": [
    "plt.figure(figsize = (8,4))\n",
    "plt.plot(range(1,10),accuracies)\n",
    "plt.title('KNN Mean Accuracies - 4-Fold Split')\n",
    "plt.xlabel('Neighbors')\n",
    "plt.ylabel('Accuracy')\n",
    "plt.show()"
   ]
  },
  {
   "cell_type": "markdown",
   "metadata": {},
   "source": [
    "With one neighbor, we retain the highest accuracy level, but despite cross validation, we can still be overfitting the data since we only have 1,797 total rows of data.\n",
    "\n",
    "We still do have high accuracy, however it's impossible to debug and explore the results since no model actually was created or learned anything. It was all instance based predictions. KNN uses very high memory usage and would start to breakdown with more data and larger image resolutions."
   ]
  },
  {
   "cell_type": "markdown",
   "metadata": {},
   "source": [
    "### Neural Network with a Single Hidden Layer\n",
    "Since we're interested in an accurate and scalable model, we can begin training and testing a Neural Network. We'll begin with a single hidden layer and experiment with the size of the hidden layer by increasing the number of neurons."
   ]
  },
  {
   "cell_type": "code",
   "execution_count": 13,
   "metadata": {},
   "outputs": [],
   "source": [
    "from sklearn.neural_network import MLPClassifier\n",
    "\n",
    "def train_nn(train_features,train_labels,neurons):\n",
    "    nn = MLPClassifier(hidden_layer_sizes = neurons, max_iter = 1000)\n",
    "    nn.fit(train_features,np.ravel(train_labels))\n",
    "    return nn\n",
    "\n",
    "def test_nn(model,test_features,test_labels):\n",
    "    predictions = model.predict(test_features)\n",
    "    accuracy = accuracy_score(test_labels,predictions)\n",
    "    return accuracy\n",
    "\n",
    "def train_vs_test_nn(model,train_features, train_labels,\n",
    "                     test_features,test_labels):\n",
    "    train_predictions = model.predict(train_features)\n",
    "    test_predictions = model.predict(test_features)\n",
    "    train_accuracy = accuracy_score(train_labels,train_predictions)\n",
    "    test_accuracy = accuracy_score(test_labels,test_predictions)\n",
    "    return train_accuracy, test_accuracy\n",
    "\n",
    "def cross_validate(neurons):\n",
    "    train_fold_accuracies = []\n",
    "    test_fold_accuracies = []\n",
    "    kf = KFold(n_splits = 4, random_state = 2, shuffle = True)\n",
    "    for train_index, test_index in kf.split(data):\n",
    "        train_features,test_features = data.loc[train_index],data.loc[test_index]\n",
    "        train_labels, test_labels = labels.loc[train_index],labels.loc[test_index]\n",
    "        model = train_nn(train_features,train_labels,neurons)\n",
    "        train_accuracy, test_accuracy = train_vs_test_nn(model,train_features, train_labels,\n",
    "                                                test_features,test_labels)\n",
    "        train_fold_accuracies.append(train_accuracy)\n",
    "        test_fold_accuracies.append(test_accuracy)\n",
    "    return train_fold_accuracies, test_fold_accuracies"
   ]
  },
  {
   "cell_type": "code",
   "execution_count": 14,
   "metadata": {},
   "outputs": [
    {
     "name": "stderr",
     "output_type": "stream",
     "text": [
      "/Users/WordApparel/opt/anaconda3/lib/python3.8/site-packages/sklearn/neural_network/_multilayer_perceptron.py:582: ConvergenceWarning: Stochastic Optimizer: Maximum iterations (1000) reached and the optimization hasn't converged yet.\n",
      "  warnings.warn(\n",
      "/Users/WordApparel/opt/anaconda3/lib/python3.8/site-packages/sklearn/neural_network/_multilayer_perceptron.py:582: ConvergenceWarning: Stochastic Optimizer: Maximum iterations (1000) reached and the optimization hasn't converged yet.\n",
      "  warnings.warn(\n"
     ]
    },
    {
     "data": {
      "text/plain": [
       "[<matplotlib.lines.Line2D at 0x1326636a0>]"
      ]
     },
     "execution_count": 14,
     "metadata": {},
     "output_type": "execute_result"
    },
    {
     "data": {
      "image/png": "[encoded data removed]",
      "text/plain": [
       "<Figure size 432x288 with 1 Axes>"
      ]
     },
     "metadata": {
      "needs_background": "light"
     },
     "output_type": "display_data"
    }
   ],
   "source": [
    "nn_neurons = [(8,),(16,),(32,),(64,),(128,),(256,)]\n",
    "\n",
    "nn_train_accuracies = []\n",
    "nn_test_accuracies = []\n",
    "for neuron in nn_neurons:\n",
    "    train_accuracy,test_accuracy = cross_validate(neuron)\n",
    "    nn_train_accuracies.append(np.mean(train_accuracy))\n",
    "    nn_test_accuracies.append(np.mean(test_accuracy))\n",
    "\n",
    "plt.plot([i[0] for i in nn_neurons],nn_train_accuracies)\n",
    "plt.plot([i[0] for i in nn_neurons],nn_test_accuracies)"
   ]
  },
  {
   "cell_type": "code",
   "execution_count": 15,
   "metadata": {},
   "outputs": [
    {
     "name": "stdout",
     "output_type": "stream",
     "text": [
      "train mean accuracies:  [0.9981454005934718, 1.0, 1.0, 1.0, 1.0, 1.0]\n",
      "test mean accuracies:  [0.9326713684731502, 0.9588183617916357, 0.9699529819351645, 0.9716233605543182, 0.9760764662212323, 0.979412274189557]\n"
     ]
    }
   ],
   "source": [
    "print('train mean accuracies: ',nn_train_accuracies)\n",
    "print('test mean accuracies: ',nn_test_accuracies)"
   ]
  },
  {
   "cell_type": "markdown",
   "metadata": {},
   "source": [
    "It looks like as we increased the number of neurons, the accuracy generally improved in the test set. Since the accuracy level of the KNN model was 98%, it doesn't seem like we gained all that much from using a single hidden layer neural network.\n",
    "\n",
    "More importantly, when comparing the training set predictions to the test set predictions, the model clearly overfit the training data with 100% accuracy amongst almost all neuron values. This single layer neural networks has very high variance and although it still performed well on the test set with cross validation, there may not be enough data to truly test the model effectively. \n",
    "\n",
    "Since we do not have more data currently, let's try adding additional layers to the neural network. It may help prevent overfitting the training data."
   ]
  },
  {
   "cell_type": "markdown",
   "metadata": {},
   "source": [
    "### Neural Network with 2 Hidden Layers\n",
    "Now that we trained and tested multiple neuron amounts with a single hidden layer and didn't score higher than KNN, as well as, overfitting the data. Let's try 2 hidden layers and this time, we'll only try 64 neurons."
   ]
  },
  {
   "cell_type": "code",
   "execution_count": 16,
   "metadata": {},
   "outputs": [
    {
     "name": "stdout",
     "output_type": "stream",
     "text": [
      "[1.0, 1.0, 1.0, 1.0]\n",
      "[0.9577777777777777, 0.9755011135857461, 0.9799554565701559, 0.9732739420935412]\n"
     ]
    }
   ],
   "source": [
    "train_accuracy_nn_2_layers, test_accuracy_nn_2_layers = cross_validate((64,64))\n",
    "print(train_accuracy_nn_2_layers)\n",
    "print(test_accuracy_nn_2_layers)"
   ]
  },
  {
   "cell_type": "markdown",
   "metadata": {},
   "source": [
    "Although the accuracy increased on the test set, we can see that on the model still overfit the data pretty dramatically as all 4 folds were 100% accurate."
   ]
  },
  {
   "cell_type": "markdown",
   "metadata": {},
   "source": [
    "### Neural Network with 3 Hidden Layers\n",
    "For the final model, we'll increase the hidden layers to 3 and test a few different neuron amounts for each layer again. We'll also increase the K-Fold cross validation to 6."
   ]
  },
  {
   "cell_type": "code",
   "execution_count": 17,
   "metadata": {},
   "outputs": [],
   "source": [
    "from sklearn.neural_network import MLPClassifier\n",
    "\n",
    "def train_nn(train_features,train_labels,neurons):\n",
    "    nn = MLPClassifier(hidden_layer_sizes = neurons, max_iter = 1000)\n",
    "    nn.fit(train_features,np.ravel(train_labels))\n",
    "    return nn\n",
    "\n",
    "def test_nn(model,test_features,test_labels):\n",
    "    predictions = model.predict(test_features)\n",
    "    accuracy = accuracy_score(test_labels,predictions)\n",
    "    return accuracy\n",
    "\n",
    "def train_vs_test_nn(model,train_features, train_labels,\n",
    "                     test_features,test_labels):\n",
    "    train_predictions = model.predict(train_features)\n",
    "    test_predictions = model.predict(test_features)\n",
    "    train_accuracy = accuracy_score(train_labels,train_predictions)\n",
    "    test_accuracy = accuracy_score(test_labels,test_predictions)\n",
    "    return train_accuracy, test_accuracy\n",
    "\n",
    "def cross_validate(neurons):\n",
    "    train_fold_accuracies = []\n",
    "    test_fold_accuracies = []\n",
    "    kf = KFold(n_splits = 6, random_state = 2, shuffle = True)\n",
    "    for train_index, test_index in kf.split(data):\n",
    "        train_features,test_features = data.loc[train_index],data.loc[test_index]\n",
    "        train_labels, test_labels = labels.loc[train_index],labels.loc[test_index]\n",
    "        model = train_nn(train_features,train_labels,neurons)\n",
    "        train_accuracy, test_accuracy = train_vs_test_nn(model,train_features, train_labels,\n",
    "                                                test_features,test_labels)\n",
    "        train_fold_accuracies.append(train_accuracy)\n",
    "        test_fold_accuracies.append(test_accuracy)\n",
    "    return train_fold_accuracies, test_fold_accuracies"
   ]
  },
  {
   "cell_type": "code",
   "execution_count": 18,
   "metadata": {},
   "outputs": [
    {
     "data": {
      "text/plain": [
       "[<matplotlib.lines.Line2D at 0x1303c4be0>]"
      ]
     },
     "execution_count": 18,
     "metadata": {},
     "output_type": "execute_result"
    },
    {
     "data": {
      "image/png": "[encoded data removed]",
      "text/plain": [
       "<Figure size 432x288 with 1 Axes>"
      ]
     },
     "metadata": {
      "needs_background": "light"
     },
     "output_type": "display_data"
    }
   ],
   "source": [
    "nn_neurons = [(10,10,10),(64,64,64),(128,128,128)]\n",
    "\n",
    "nn_train_accuracies = []\n",
    "nn_test_accuracies = []\n",
    "for neuron in nn_neurons:\n",
    "    train_accuracy,test_accuracy = cross_validate(neuron)\n",
    "    nn_train_accuracies.append(np.mean(train_accuracy))\n",
    "    nn_test_accuracies.append(np.mean(test_accuracy))\n",
    "\n",
    "plt.plot([i[0] for i in nn_neurons],nn_train_accuracies)\n",
    "plt.plot([i[0] for i in nn_neurons],nn_test_accuracies)"
   ]
  },
  {
   "cell_type": "code",
   "execution_count": 19,
   "metadata": {},
   "outputs": [
    {
     "name": "stdout",
     "output_type": "stream",
     "text": [
      "train mean accuracies:  [0.9997773324426631, 1.0, 1.0]\n",
      "test mean accuracies:  [0.9337941285767372, 0.9744165737643998, 0.9805295429208472]\n"
     ]
    }
   ],
   "source": [
    "print('train mean accuracies: ',nn_train_accuracies)\n",
    "print('test mean accuracies: ',nn_test_accuracies)"
   ]
  },
  {
   "cell_type": "markdown",
   "metadata": {},
   "source": [
    "Here again we see the model overfits the training data, but still performs well on the test sets, despite a 6 fold cross validation. We're nearly at a 98% accuracy level. At this point, more data is definitely needed to really validate that our model is accurate."
   ]
  },
  {
   "cell_type": "markdown",
   "metadata": {},
   "source": [
    "## Conclusion\n",
    "In this project we were able to successfully implement both a KNN and Neural Network model that predicted with 98% accuracy the correct digits on the test set. Unfortunately with the Neural Network, when using learning curves, we can clearly see that the model overfit the training data with a 100% accuracy. Although the model is still performing well on the test set, given that we only have under 2000 rows of data, it's hard to truly gauge the accuracy level despite a K-Fold Cross Validation."
   ]
  }
 ],
 "metadata": {
  "anaconda-cloud": {},
  "kernelspec": {
   "display_name": "Python 3",
   "language": "python",
   "name": "python3"
  },
  "language_info": {
   "codemirror_mode": {
    "name": "ipython",
    "version": 3
   },
   "file_extension": ".py",
   "mimetype": "text/x-python",
   "name": "python",
   "nbconvert_exporter": "python",
   "pygments_lexer": "ipython3",
   "version": "3.8.3"
  }
 },
 "nbformat": 4,
 "nbformat_minor": 2
}
