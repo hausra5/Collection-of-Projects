{
 "cells": [
  {
   "cell_type": "markdown",
   "metadata": {
    "collapsed": true
   },
   "source": [
    "# Predicting House Sale Prices\n",
    "\n",
    "The housing market is a lucrative, but competitive industry to be in. Whether you are a homeowner looking to sell, a potential homebuyer, or in the real estate market as an agent; gaining insight about market trends and learning what features help increase the price of a home is very valuable.\n",
    "\n",
    "In this project we will be working with housing data from the city of Ames, Iowa from the 2006 to 2010. We will build a machine learning pipeline that will help us make predictions to what a house will sell for based on specific features. We will hopefully build a succesful model that can take in new data and make accurate predictions.\n",
    "\n",
    "Anyone in the real estate market can utilize the knowledge gained from the implementaion of the succesful model to make better and smarter desicions."
   ]
  },
  {
   "cell_type": "markdown",
   "metadata": {},
   "source": [
    "## Building the Pipeline\n",
    "The first step in this project will be importing the necessary libraries and classes. We will then read in the data and become familizarized with it. Finally, we will write some functions to help expedite our pipeline. Ultimately we want to find the right features that will help train our algorithm succesfully by giving us low error metrics on our test sets."
   ]
  },
  {
   "cell_type": "code",
   "execution_count": 1,
   "metadata": {},
   "outputs": [],
   "source": [
    "import pandas as pd\n",
    "pd.options.display.max_columns = 999\n",
    "import numpy as np\n",
    "import matplotlib.pyplot as plt\n",
    "%matplotlib inline\n",
    "from sklearn.metrics import mean_squared_error, mean_absolute_error\n",
    "from sklearn import linear_model\n",
    "from sklearn.model_selection import KFold, cross_val_score\n",
    "import seaborn as sns"
   ]
  },
  {
   "cell_type": "code",
   "execution_count": 2,
   "metadata": {},
   "outputs": [
    {
     "data": {
      "text/html": [
       "<div>\n",
       "<style scoped>\n",
       "    .dataframe tbody tr th:only-of-type {\n",
       "        vertical-align: middle;\n",
       "    }\n",
       "\n",
       "    .dataframe tbody tr th {\n",
       "        vertical-align: top;\n",
       "    }\n",
       "\n",
       "    .dataframe thead th {\n",
       "        text-align: right;\n",
       "    }\n",
       "</style>\n",
       "<table border=\"1\" class=\"dataframe\">\n",
       "  <thead>\n",
       "    <tr style=\"text-align: right;\">\n",
       "      <th></th>\n",
       "      <th>Order</th>\n",
       "      <th>PID</th>\n",
       "      <th>MS SubClass</th>\n",
       "      <th>MS Zoning</th>\n",
       "      <th>Lot Frontage</th>\n",
       "      <th>Lot Area</th>\n",
       "      <th>Street</th>\n",
       "      <th>Alley</th>\n",
       "      <th>Lot Shape</th>\n",
       "      <th>Land Contour</th>\n",
       "      <th>Utilities</th>\n",
       "      <th>Lot Config</th>\n",
       "      <th>Land Slope</th>\n",
       "      <th>Neighborhood</th>\n",
       "      <th>Condition 1</th>\n",
       "      <th>Condition 2</th>\n",
       "      <th>Bldg Type</th>\n",
       "      <th>House Style</th>\n",
       "      <th>Overall Qual</th>\n",
       "      <th>Overall Cond</th>\n",
       "      <th>Year Built</th>\n",
       "      <th>Year Remod/Add</th>\n",
       "      <th>Roof Style</th>\n",
       "      <th>Roof Matl</th>\n",
       "      <th>Exterior 1st</th>\n",
       "      <th>Exterior 2nd</th>\n",
       "      <th>Mas Vnr Type</th>\n",
       "      <th>Mas Vnr Area</th>\n",
       "      <th>Exter Qual</th>\n",
       "      <th>Exter Cond</th>\n",
       "      <th>Foundation</th>\n",
       "      <th>Bsmt Qual</th>\n",
       "      <th>Bsmt Cond</th>\n",
       "      <th>Bsmt Exposure</th>\n",
       "      <th>BsmtFin Type 1</th>\n",
       "      <th>BsmtFin SF 1</th>\n",
       "      <th>BsmtFin Type 2</th>\n",
       "      <th>BsmtFin SF 2</th>\n",
       "      <th>Bsmt Unf SF</th>\n",
       "      <th>Total Bsmt SF</th>\n",
       "      <th>Heating</th>\n",
       "      <th>Heating QC</th>\n",
       "      <th>Central Air</th>\n",
       "      <th>Electrical</th>\n",
       "      <th>1st Flr SF</th>\n",
       "      <th>2nd Flr SF</th>\n",
       "      <th>Low Qual Fin SF</th>\n",
       "      <th>Gr Liv Area</th>\n",
       "      <th>Bsmt Full Bath</th>\n",
       "      <th>Bsmt Half Bath</th>\n",
       "      <th>Full Bath</th>\n",
       "      <th>Half Bath</th>\n",
       "      <th>Bedroom AbvGr</th>\n",
       "      <th>Kitchen AbvGr</th>\n",
       "      <th>Kitchen Qual</th>\n",
       "      <th>TotRms AbvGrd</th>\n",
       "      <th>Functional</th>\n",
       "      <th>Fireplaces</th>\n",
       "      <th>Fireplace Qu</th>\n",
       "      <th>Garage Type</th>\n",
       "      <th>Garage Yr Blt</th>\n",
       "      <th>Garage Finish</th>\n",
       "      <th>Garage Cars</th>\n",
       "      <th>Garage Area</th>\n",
       "      <th>Garage Qual</th>\n",
       "      <th>Garage Cond</th>\n",
       "      <th>Paved Drive</th>\n",
       "      <th>Wood Deck SF</th>\n",
       "      <th>Open Porch SF</th>\n",
       "      <th>Enclosed Porch</th>\n",
       "      <th>3Ssn Porch</th>\n",
       "      <th>Screen Porch</th>\n",
       "      <th>Pool Area</th>\n",
       "      <th>Pool QC</th>\n",
       "      <th>Fence</th>\n",
       "      <th>Misc Feature</th>\n",
       "      <th>Misc Val</th>\n",
       "      <th>Mo Sold</th>\n",
       "      <th>Yr Sold</th>\n",
       "      <th>Sale Type</th>\n",
       "      <th>Sale Condition</th>\n",
       "      <th>SalePrice</th>\n",
       "    </tr>\n",
       "  </thead>\n",
       "  <tbody>\n",
       "    <tr>\n",
       "      <th>0</th>\n",
       "      <td>1</td>\n",
       "      <td>526301100</td>\n",
       "      <td>20</td>\n",
       "      <td>RL</td>\n",
       "      <td>141.0</td>\n",
       "      <td>31770</td>\n",
       "      <td>Pave</td>\n",
       "      <td>NaN</td>\n",
       "      <td>IR1</td>\n",
       "      <td>Lvl</td>\n",
       "      <td>AllPub</td>\n",
       "      <td>Corner</td>\n",
       "      <td>Gtl</td>\n",
       "      <td>NAmes</td>\n",
       "      <td>Norm</td>\n",
       "      <td>Norm</td>\n",
       "      <td>1Fam</td>\n",
       "      <td>1Story</td>\n",
       "      <td>6</td>\n",
       "      <td>5</td>\n",
       "      <td>1960</td>\n",
       "      <td>1960</td>\n",
       "      <td>Hip</td>\n",
       "      <td>CompShg</td>\n",
       "      <td>BrkFace</td>\n",
       "      <td>Plywood</td>\n",
       "      <td>Stone</td>\n",
       "      <td>112.0</td>\n",
       "      <td>TA</td>\n",
       "      <td>TA</td>\n",
       "      <td>CBlock</td>\n",
       "      <td>TA</td>\n",
       "      <td>Gd</td>\n",
       "      <td>Gd</td>\n",
       "      <td>BLQ</td>\n",
       "      <td>639.0</td>\n",
       "      <td>Unf</td>\n",
       "      <td>0.0</td>\n",
       "      <td>441.0</td>\n",
       "      <td>1080.0</td>\n",
       "      <td>GasA</td>\n",
       "      <td>Fa</td>\n",
       "      <td>Y</td>\n",
       "      <td>SBrkr</td>\n",
       "      <td>1656</td>\n",
       "      <td>0</td>\n",
       "      <td>0</td>\n",
       "      <td>1656</td>\n",
       "      <td>1.0</td>\n",
       "      <td>0.0</td>\n",
       "      <td>1</td>\n",
       "      <td>0</td>\n",
       "      <td>3</td>\n",
       "      <td>1</td>\n",
       "      <td>TA</td>\n",
       "      <td>7</td>\n",
       "      <td>Typ</td>\n",
       "      <td>2</td>\n",
       "      <td>Gd</td>\n",
       "      <td>Attchd</td>\n",
       "      <td>1960.0</td>\n",
       "      <td>Fin</td>\n",
       "      <td>2.0</td>\n",
       "      <td>528.0</td>\n",
       "      <td>TA</td>\n",
       "      <td>TA</td>\n",
       "      <td>P</td>\n",
       "      <td>210</td>\n",
       "      <td>62</td>\n",
       "      <td>0</td>\n",
       "      <td>0</td>\n",
       "      <td>0</td>\n",
       "      <td>0</td>\n",
       "      <td>NaN</td>\n",
       "      <td>NaN</td>\n",
       "      <td>NaN</td>\n",
       "      <td>0</td>\n",
       "      <td>5</td>\n",
       "      <td>2010</td>\n",
       "      <td>WD</td>\n",
       "      <td>Normal</td>\n",
       "      <td>215000</td>\n",
       "    </tr>\n",
       "    <tr>\n",
       "      <th>1</th>\n",
       "      <td>2</td>\n",
       "      <td>526350040</td>\n",
       "      <td>20</td>\n",
       "      <td>RH</td>\n",
       "      <td>80.0</td>\n",
       "      <td>11622</td>\n",
       "      <td>Pave</td>\n",
       "      <td>NaN</td>\n",
       "      <td>Reg</td>\n",
       "      <td>Lvl</td>\n",
       "      <td>AllPub</td>\n",
       "      <td>Inside</td>\n",
       "      <td>Gtl</td>\n",
       "      <td>NAmes</td>\n",
       "      <td>Feedr</td>\n",
       "      <td>Norm</td>\n",
       "      <td>1Fam</td>\n",
       "      <td>1Story</td>\n",
       "      <td>5</td>\n",
       "      <td>6</td>\n",
       "      <td>1961</td>\n",
       "      <td>1961</td>\n",
       "      <td>Gable</td>\n",
       "      <td>CompShg</td>\n",
       "      <td>VinylSd</td>\n",
       "      <td>VinylSd</td>\n",
       "      <td>None</td>\n",
       "      <td>0.0</td>\n",
       "      <td>TA</td>\n",
       "      <td>TA</td>\n",
       "      <td>CBlock</td>\n",
       "      <td>TA</td>\n",
       "      <td>TA</td>\n",
       "      <td>No</td>\n",
       "      <td>Rec</td>\n",
       "      <td>468.0</td>\n",
       "      <td>LwQ</td>\n",
       "      <td>144.0</td>\n",
       "      <td>270.0</td>\n",
       "      <td>882.0</td>\n",
       "      <td>GasA</td>\n",
       "      <td>TA</td>\n",
       "      <td>Y</td>\n",
       "      <td>SBrkr</td>\n",
       "      <td>896</td>\n",
       "      <td>0</td>\n",
       "      <td>0</td>\n",
       "      <td>896</td>\n",
       "      <td>0.0</td>\n",
       "      <td>0.0</td>\n",
       "      <td>1</td>\n",
       "      <td>0</td>\n",
       "      <td>2</td>\n",
       "      <td>1</td>\n",
       "      <td>TA</td>\n",
       "      <td>5</td>\n",
       "      <td>Typ</td>\n",
       "      <td>0</td>\n",
       "      <td>NaN</td>\n",
       "      <td>Attchd</td>\n",
       "      <td>1961.0</td>\n",
       "      <td>Unf</td>\n",
       "      <td>1.0</td>\n",
       "      <td>730.0</td>\n",
       "      <td>TA</td>\n",
       "      <td>TA</td>\n",
       "      <td>Y</td>\n",
       "      <td>140</td>\n",
       "      <td>0</td>\n",
       "      <td>0</td>\n",
       "      <td>0</td>\n",
       "      <td>120</td>\n",
       "      <td>0</td>\n",
       "      <td>NaN</td>\n",
       "      <td>MnPrv</td>\n",
       "      <td>NaN</td>\n",
       "      <td>0</td>\n",
       "      <td>6</td>\n",
       "      <td>2010</td>\n",
       "      <td>WD</td>\n",
       "      <td>Normal</td>\n",
       "      <td>105000</td>\n",
       "    </tr>\n",
       "    <tr>\n",
       "      <th>2</th>\n",
       "      <td>3</td>\n",
       "      <td>526351010</td>\n",
       "      <td>20</td>\n",
       "      <td>RL</td>\n",
       "      <td>81.0</td>\n",
       "      <td>14267</td>\n",
       "      <td>Pave</td>\n",
       "      <td>NaN</td>\n",
       "      <td>IR1</td>\n",
       "      <td>Lvl</td>\n",
       "      <td>AllPub</td>\n",
       "      <td>Corner</td>\n",
       "      <td>Gtl</td>\n",
       "      <td>NAmes</td>\n",
       "      <td>Norm</td>\n",
       "      <td>Norm</td>\n",
       "      <td>1Fam</td>\n",
       "      <td>1Story</td>\n",
       "      <td>6</td>\n",
       "      <td>6</td>\n",
       "      <td>1958</td>\n",
       "      <td>1958</td>\n",
       "      <td>Hip</td>\n",
       "      <td>CompShg</td>\n",
       "      <td>Wd Sdng</td>\n",
       "      <td>Wd Sdng</td>\n",
       "      <td>BrkFace</td>\n",
       "      <td>108.0</td>\n",
       "      <td>TA</td>\n",
       "      <td>TA</td>\n",
       "      <td>CBlock</td>\n",
       "      <td>TA</td>\n",
       "      <td>TA</td>\n",
       "      <td>No</td>\n",
       "      <td>ALQ</td>\n",
       "      <td>923.0</td>\n",
       "      <td>Unf</td>\n",
       "      <td>0.0</td>\n",
       "      <td>406.0</td>\n",
       "      <td>1329.0</td>\n",
       "      <td>GasA</td>\n",
       "      <td>TA</td>\n",
       "      <td>Y</td>\n",
       "      <td>SBrkr</td>\n",
       "      <td>1329</td>\n",
       "      <td>0</td>\n",
       "      <td>0</td>\n",
       "      <td>1329</td>\n",
       "      <td>0.0</td>\n",
       "      <td>0.0</td>\n",
       "      <td>1</td>\n",
       "      <td>1</td>\n",
       "      <td>3</td>\n",
       "      <td>1</td>\n",
       "      <td>Gd</td>\n",
       "      <td>6</td>\n",
       "      <td>Typ</td>\n",
       "      <td>0</td>\n",
       "      <td>NaN</td>\n",
       "      <td>Attchd</td>\n",
       "      <td>1958.0</td>\n",
       "      <td>Unf</td>\n",
       "      <td>1.0</td>\n",
       "      <td>312.0</td>\n",
       "      <td>TA</td>\n",
       "      <td>TA</td>\n",
       "      <td>Y</td>\n",
       "      <td>393</td>\n",
       "      <td>36</td>\n",
       "      <td>0</td>\n",
       "      <td>0</td>\n",
       "      <td>0</td>\n",
       "      <td>0</td>\n",
       "      <td>NaN</td>\n",
       "      <td>NaN</td>\n",
       "      <td>Gar2</td>\n",
       "      <td>12500</td>\n",
       "      <td>6</td>\n",
       "      <td>2010</td>\n",
       "      <td>WD</td>\n",
       "      <td>Normal</td>\n",
       "      <td>172000</td>\n",
       "    </tr>\n",
       "    <tr>\n",
       "      <th>3</th>\n",
       "      <td>4</td>\n",
       "      <td>526353030</td>\n",
       "      <td>20</td>\n",
       "      <td>RL</td>\n",
       "      <td>93.0</td>\n",
       "      <td>11160</td>\n",
       "      <td>Pave</td>\n",
       "      <td>NaN</td>\n",
       "      <td>Reg</td>\n",
       "      <td>Lvl</td>\n",
       "      <td>AllPub</td>\n",
       "      <td>Corner</td>\n",
       "      <td>Gtl</td>\n",
       "      <td>NAmes</td>\n",
       "      <td>Norm</td>\n",
       "      <td>Norm</td>\n",
       "      <td>1Fam</td>\n",
       "      <td>1Story</td>\n",
       "      <td>7</td>\n",
       "      <td>5</td>\n",
       "      <td>1968</td>\n",
       "      <td>1968</td>\n",
       "      <td>Hip</td>\n",
       "      <td>CompShg</td>\n",
       "      <td>BrkFace</td>\n",
       "      <td>BrkFace</td>\n",
       "      <td>None</td>\n",
       "      <td>0.0</td>\n",
       "      <td>Gd</td>\n",
       "      <td>TA</td>\n",
       "      <td>CBlock</td>\n",
       "      <td>TA</td>\n",
       "      <td>TA</td>\n",
       "      <td>No</td>\n",
       "      <td>ALQ</td>\n",
       "      <td>1065.0</td>\n",
       "      <td>Unf</td>\n",
       "      <td>0.0</td>\n",
       "      <td>1045.0</td>\n",
       "      <td>2110.0</td>\n",
       "      <td>GasA</td>\n",
       "      <td>Ex</td>\n",
       "      <td>Y</td>\n",
       "      <td>SBrkr</td>\n",
       "      <td>2110</td>\n",
       "      <td>0</td>\n",
       "      <td>0</td>\n",
       "      <td>2110</td>\n",
       "      <td>1.0</td>\n",
       "      <td>0.0</td>\n",
       "      <td>2</td>\n",
       "      <td>1</td>\n",
       "      <td>3</td>\n",
       "      <td>1</td>\n",
       "      <td>Ex</td>\n",
       "      <td>8</td>\n",
       "      <td>Typ</td>\n",
       "      <td>2</td>\n",
       "      <td>TA</td>\n",
       "      <td>Attchd</td>\n",
       "      <td>1968.0</td>\n",
       "      <td>Fin</td>\n",
       "      <td>2.0</td>\n",
       "      <td>522.0</td>\n",
       "      <td>TA</td>\n",
       "      <td>TA</td>\n",
       "      <td>Y</td>\n",
       "      <td>0</td>\n",
       "      <td>0</td>\n",
       "      <td>0</td>\n",
       "      <td>0</td>\n",
       "      <td>0</td>\n",
       "      <td>0</td>\n",
       "      <td>NaN</td>\n",
       "      <td>NaN</td>\n",
       "      <td>NaN</td>\n",
       "      <td>0</td>\n",
       "      <td>4</td>\n",
       "      <td>2010</td>\n",
       "      <td>WD</td>\n",
       "      <td>Normal</td>\n",
       "      <td>244000</td>\n",
       "    </tr>\n",
       "    <tr>\n",
       "      <th>4</th>\n",
       "      <td>5</td>\n",
       "      <td>527105010</td>\n",
       "      <td>60</td>\n",
       "      <td>RL</td>\n",
       "      <td>74.0</td>\n",
       "      <td>13830</td>\n",
       "      <td>Pave</td>\n",
       "      <td>NaN</td>\n",
       "      <td>IR1</td>\n",
       "      <td>Lvl</td>\n",
       "      <td>AllPub</td>\n",
       "      <td>Inside</td>\n",
       "      <td>Gtl</td>\n",
       "      <td>Gilbert</td>\n",
       "      <td>Norm</td>\n",
       "      <td>Norm</td>\n",
       "      <td>1Fam</td>\n",
       "      <td>2Story</td>\n",
       "      <td>5</td>\n",
       "      <td>5</td>\n",
       "      <td>1997</td>\n",
       "      <td>1998</td>\n",
       "      <td>Gable</td>\n",
       "      <td>CompShg</td>\n",
       "      <td>VinylSd</td>\n",
       "      <td>VinylSd</td>\n",
       "      <td>None</td>\n",
       "      <td>0.0</td>\n",
       "      <td>TA</td>\n",
       "      <td>TA</td>\n",
       "      <td>PConc</td>\n",
       "      <td>Gd</td>\n",
       "      <td>TA</td>\n",
       "      <td>No</td>\n",
       "      <td>GLQ</td>\n",
       "      <td>791.0</td>\n",
       "      <td>Unf</td>\n",
       "      <td>0.0</td>\n",
       "      <td>137.0</td>\n",
       "      <td>928.0</td>\n",
       "      <td>GasA</td>\n",
       "      <td>Gd</td>\n",
       "      <td>Y</td>\n",
       "      <td>SBrkr</td>\n",
       "      <td>928</td>\n",
       "      <td>701</td>\n",
       "      <td>0</td>\n",
       "      <td>1629</td>\n",
       "      <td>0.0</td>\n",
       "      <td>0.0</td>\n",
       "      <td>2</td>\n",
       "      <td>1</td>\n",
       "      <td>3</td>\n",
       "      <td>1</td>\n",
       "      <td>TA</td>\n",
       "      <td>6</td>\n",
       "      <td>Typ</td>\n",
       "      <td>1</td>\n",
       "      <td>TA</td>\n",
       "      <td>Attchd</td>\n",
       "      <td>1997.0</td>\n",
       "      <td>Fin</td>\n",
       "      <td>2.0</td>\n",
       "      <td>482.0</td>\n",
       "      <td>TA</td>\n",
       "      <td>TA</td>\n",
       "      <td>Y</td>\n",
       "      <td>212</td>\n",
       "      <td>34</td>\n",
       "      <td>0</td>\n",
       "      <td>0</td>\n",
       "      <td>0</td>\n",
       "      <td>0</td>\n",
       "      <td>NaN</td>\n",
       "      <td>MnPrv</td>\n",
       "      <td>NaN</td>\n",
       "      <td>0</td>\n",
       "      <td>3</td>\n",
       "      <td>2010</td>\n",
       "      <td>WD</td>\n",
       "      <td>Normal</td>\n",
       "      <td>189900</td>\n",
       "    </tr>\n",
       "  </tbody>\n",
       "</table>\n",
       "</div>"
      ],
      "text/plain": [
       "   Order        PID  MS SubClass MS Zoning  Lot Frontage  Lot Area Street  \\\n",
       "0      1  526301100           20        RL         141.0     31770   Pave   \n",
       "1      2  526350040           20        RH          80.0     11622   Pave   \n",
       "2      3  526351010           20        RL          81.0     14267   Pave   \n",
       "3      4  526353030           20        RL          93.0     11160   Pave   \n",
       "4      5  527105010           60        RL          74.0     13830   Pave   \n",
       "\n",
       "  Alley Lot Shape Land Contour Utilities Lot Config Land Slope Neighborhood  \\\n",
       "0   NaN       IR1          Lvl    AllPub     Corner        Gtl        NAmes   \n",
       "1   NaN       Reg          Lvl    AllPub     Inside        Gtl        NAmes   \n",
       "2   NaN       IR1          Lvl    AllPub     Corner        Gtl        NAmes   \n",
       "3   NaN       Reg          Lvl    AllPub     Corner        Gtl        NAmes   \n",
       "4   NaN       IR1          Lvl    AllPub     Inside        Gtl      Gilbert   \n",
       "\n",
       "  Condition 1 Condition 2 Bldg Type House Style  Overall Qual  Overall Cond  \\\n",
       "0        Norm        Norm      1Fam      1Story             6             5   \n",
       "1       Feedr        Norm      1Fam      1Story             5             6   \n",
       "2        Norm        Norm      1Fam      1Story             6             6   \n",
       "3        Norm        Norm      1Fam      1Story             7             5   \n",
       "4        Norm        Norm      1Fam      2Story             5             5   \n",
       "\n",
       "   Year Built  Year Remod/Add Roof Style Roof Matl Exterior 1st Exterior 2nd  \\\n",
       "0        1960            1960        Hip   CompShg      BrkFace      Plywood   \n",
       "1        1961            1961      Gable   CompShg      VinylSd      VinylSd   \n",
       "2        1958            1958        Hip   CompShg      Wd Sdng      Wd Sdng   \n",
       "3        1968            1968        Hip   CompShg      BrkFace      BrkFace   \n",
       "4        1997            1998      Gable   CompShg      VinylSd      VinylSd   \n",
       "\n",
       "  Mas Vnr Type  Mas Vnr Area Exter Qual Exter Cond Foundation Bsmt Qual  \\\n",
       "0        Stone         112.0         TA         TA     CBlock        TA   \n",
       "1         None           0.0         TA         TA     CBlock        TA   \n",
       "2      BrkFace         108.0         TA         TA     CBlock        TA   \n",
       "3         None           0.0         Gd         TA     CBlock        TA   \n",
       "4         None           0.0         TA         TA      PConc        Gd   \n",
       "\n",
       "  Bsmt Cond Bsmt Exposure BsmtFin Type 1  BsmtFin SF 1 BsmtFin Type 2  \\\n",
       "0        Gd            Gd            BLQ         639.0            Unf   \n",
       "1        TA            No            Rec         468.0            LwQ   \n",
       "2        TA            No            ALQ         923.0            Unf   \n",
       "3        TA            No            ALQ        1065.0            Unf   \n",
       "4        TA            No            GLQ         791.0            Unf   \n",
       "\n",
       "   BsmtFin SF 2  Bsmt Unf SF  Total Bsmt SF Heating Heating QC Central Air  \\\n",
       "0           0.0        441.0         1080.0    GasA         Fa           Y   \n",
       "1         144.0        270.0          882.0    GasA         TA           Y   \n",
       "2           0.0        406.0         1329.0    GasA         TA           Y   \n",
       "3           0.0       1045.0         2110.0    GasA         Ex           Y   \n",
       "4           0.0        137.0          928.0    GasA         Gd           Y   \n",
       "\n",
       "  Electrical  1st Flr SF  2nd Flr SF  Low Qual Fin SF  Gr Liv Area  \\\n",
       "0      SBrkr        1656           0                0         1656   \n",
       "1      SBrkr         896           0                0          896   \n",
       "2      SBrkr        1329           0                0         1329   \n",
       "3      SBrkr        2110           0                0         2110   \n",
       "4      SBrkr         928         701                0         1629   \n",
       "\n",
       "   Bsmt Full Bath  Bsmt Half Bath  Full Bath  Half Bath  Bedroom AbvGr  \\\n",
       "0             1.0             0.0          1          0              3   \n",
       "1             0.0             0.0          1          0              2   \n",
       "2             0.0             0.0          1          1              3   \n",
       "3             1.0             0.0          2          1              3   \n",
       "4             0.0             0.0          2          1              3   \n",
       "\n",
       "   Kitchen AbvGr Kitchen Qual  TotRms AbvGrd Functional  Fireplaces  \\\n",
       "0              1           TA              7        Typ           2   \n",
       "1              1           TA              5        Typ           0   \n",
       "2              1           Gd              6        Typ           0   \n",
       "3              1           Ex              8        Typ           2   \n",
       "4              1           TA              6        Typ           1   \n",
       "\n",
       "  Fireplace Qu Garage Type  Garage Yr Blt Garage Finish  Garage Cars  \\\n",
       "0           Gd      Attchd         1960.0           Fin          2.0   \n",
       "1          NaN      Attchd         1961.0           Unf          1.0   \n",
       "2          NaN      Attchd         1958.0           Unf          1.0   \n",
       "3           TA      Attchd         1968.0           Fin          2.0   \n",
       "4           TA      Attchd         1997.0           Fin          2.0   \n",
       "\n",
       "   Garage Area Garage Qual Garage Cond Paved Drive  Wood Deck SF  \\\n",
       "0        528.0          TA          TA           P           210   \n",
       "1        730.0          TA          TA           Y           140   \n",
       "2        312.0          TA          TA           Y           393   \n",
       "3        522.0          TA          TA           Y             0   \n",
       "4        482.0          TA          TA           Y           212   \n",
       "\n",
       "   Open Porch SF  Enclosed Porch  3Ssn Porch  Screen Porch  Pool Area Pool QC  \\\n",
       "0             62               0           0             0          0     NaN   \n",
       "1              0               0           0           120          0     NaN   \n",
       "2             36               0           0             0          0     NaN   \n",
       "3              0               0           0             0          0     NaN   \n",
       "4             34               0           0             0          0     NaN   \n",
       "\n",
       "   Fence Misc Feature  Misc Val  Mo Sold  Yr Sold Sale Type Sale Condition  \\\n",
       "0    NaN          NaN         0        5     2010       WD          Normal   \n",
       "1  MnPrv          NaN         0        6     2010       WD          Normal   \n",
       "2    NaN         Gar2     12500        6     2010       WD          Normal   \n",
       "3    NaN          NaN         0        4     2010       WD          Normal   \n",
       "4  MnPrv          NaN         0        3     2010       WD          Normal   \n",
       "\n",
       "   SalePrice  \n",
       "0     215000  \n",
       "1     105000  \n",
       "2     172000  \n",
       "3     244000  \n",
       "4     189900  "
      ]
     },
     "execution_count": 2,
     "metadata": {},
     "output_type": "execute_result"
    }
   ],
   "source": [
    "house = pd.read_csv('AmesHousing.tsv', delimiter = \"\\t\")\n",
    "house.head()"
   ]
  },
  {
   "cell_type": "markdown",
   "metadata": {},
   "source": [
    "We will begin by creating our functions. We will be keeping them very simple at first so we can update them to be more in depth as we progress through the project. We will run a simple linear regression model based on just the <code>'Gr Liv Area'</code> (above grade living area) and returning the Root Mean Squared Error.\n",
    "\n",
    "Linear Regression is a simple but effective predictive model. It functions by describing a line that best fits the relationship between the input variables (features) and the output variable (our taget). The function finds the best weights, which are known as coefficients, for each input variable that will ultimately give us the closest predictions for the output variable. The goal is to find a model that gives us the lowest error metric.\n",
    "\n",
    "The root mean squared error, works by taking the squaring the means of the difference between the prediction and the actual label, then taking the square root of that to bring it back into the original units."
   ]
  },
  {
   "cell_type": "code",
   "execution_count": 3,
   "metadata": {},
   "outputs": [
    {
     "name": "stdout",
     "output_type": "stream",
     "text": [
      "rmse:  57088.25161263909\n"
     ]
    }
   ],
   "source": [
    "def transform_features(df):\n",
    "    return df\n",
    "\n",
    "def select_features(df):\n",
    "    return df[['Gr Liv Area','SalePrice']]\n",
    "\n",
    "def train_and_test(df):\n",
    "    train = df[:1460]\n",
    "    test = df[1460:]\n",
    "    \n",
    "    numeric_train = train.select_dtypes(include = ['integer','float'])\n",
    "    numeric_test = test.select_dtypes(include = ['integer','float'])\n",
    "    \n",
    "    features = numeric_train.columns.drop('SalePrice')\n",
    "    lr = linear_model.LinearRegression()\n",
    "    lr.fit(train[features],train['SalePrice'])\n",
    "    predictions = lr.predict(test[features])\n",
    "    mse = mean_squared_error(test['SalePrice'],predictions)\n",
    "    rmse = np.sqrt(mse)\n",
    "    \n",
    "    return rmse\n",
    "\n",
    "transformed_df = transform_features(house)\n",
    "filtered_df = select_features(transformed_df)\n",
    "rmse = train_and_test(filtered_df)\n",
    "print('rmse: ',rmse)"
   ]
  },
  {
   "cell_type": "markdown",
   "metadata": {},
   "source": [
    "## Feature Engineering\n",
    "Now that we created our starter pipeline, we'll need to modify the functions to become more robust. Our data has a lot of inconsistencies that will muddy our analysis and ultimately cause our model to become less accurate. We will need to account for missing values, handle categorical features, and transform text and numerical columns.\n",
    "\n",
    "We can update our <code>trasform_features</code> function to drop or fill in missing values over a certain threshold. We also need to remove columns that will influence the information about the sale unfairly. For instance, the year the sale happened. The end goal of our function is to remove features that we do not want in our model, transform the features we do want into the proper format, and then create new features.\n",
    "\n",
    "Finally, understanding all of the columns through reading the data documentation will be pivotable in determing which transformations are necessary and how to help our model be as accurate as possible."
   ]
  },
  {
   "cell_type": "markdown",
   "metadata": {},
   "source": [
    "#### Missing Value Threshold\n",
    "Determining how to handle missing values is an important step. We mentioned earlier a threshold to help guide us in making that decision. For now, we'll handle the values as following:\n",
    "\n",
    "- Drop any columns that have over 5% missing values\n",
    "- Drop any text columns that have 1 or more missing values\n",
    "- Fill in the most common value for numerical columns with less than 5% missing"
   ]
  },
  {
   "cell_type": "markdown",
   "metadata": {},
   "source": [
    "#### Drop missing values over 5%\n",
    "Let's begin with dropping columns that have over 5% missing values"
   ]
  },
  {
   "cell_type": "code",
   "execution_count": 4,
   "metadata": {},
   "outputs": [
    {
     "data": {
      "text/plain": [
       "Garage Type       157\n",
       "Garage Yr Blt     159\n",
       "Garage Finish     159\n",
       "Garage Qual       159\n",
       "Garage Cond       159\n",
       "Lot Frontage      490\n",
       "Fireplace Qu     1422\n",
       "Fence            2358\n",
       "Alley            2732\n",
       "Misc Feature     2824\n",
       "Pool QC          2917\n",
       "dtype: int64"
      ]
     },
     "execution_count": 4,
     "metadata": {},
     "output_type": "execute_result"
    }
   ],
   "source": [
    "missing = house.isnull().sum()\n",
    "drop_missing = missing[(missing > len(house)/20)].sort_values()\n",
    "drop_missing"
   ]
  },
  {
   "cell_type": "code",
   "execution_count": 5,
   "metadata": {},
   "outputs": [],
   "source": [
    "house = house.drop(drop_missing.index,axis=1)"
   ]
  },
  {
   "cell_type": "markdown",
   "metadata": {},
   "source": [
    "#### Drop text columns with 1 or more missing values\n",
    "Now we can drop the text columns matching our criteria"
   ]
  },
  {
   "cell_type": "code",
   "execution_count": 6,
   "metadata": {},
   "outputs": [
    {
     "data": {
      "text/plain": [
       "Bsmt Exposure     83\n",
       "BsmtFin Type 2    81\n",
       "BsmtFin Type 1    80\n",
       "Bsmt Qual         80\n",
       "Bsmt Cond         80\n",
       "Mas Vnr Type      23\n",
       "Electrical         1\n",
       "dtype: int64"
      ]
     },
     "execution_count": 6,
     "metadata": {},
     "output_type": "execute_result"
    }
   ],
   "source": [
    "text_counts = house.select_dtypes(include='object').isnull().sum().sort_values(ascending = False)\n",
    "drop_missing_text = text_counts[(text_counts > 0)]\n",
    "drop_missing_text"
   ]
  },
  {
   "cell_type": "code",
   "execution_count": 7,
   "metadata": {},
   "outputs": [],
   "source": [
    "house = house.drop(drop_missing_text.index, axis=1)"
   ]
  },
  {
   "cell_type": "markdown",
   "metadata": {},
   "source": [
    "#### Fill in numerical values with the Mode\n",
    "Any columns that have missing numerical values less than 5%, we'll fill in with the most common value"
   ]
  },
  {
   "cell_type": "code",
   "execution_count": 8,
   "metadata": {},
   "outputs": [
    {
     "data": {
      "text/plain": [
       "Mas Vnr Area      23\n",
       "BsmtFin SF 1       1\n",
       "BsmtFin SF 2       1\n",
       "Bsmt Unf SF        1\n",
       "Total Bsmt SF      1\n",
       "Bsmt Full Bath     2\n",
       "Bsmt Half Bath     2\n",
       "Garage Cars        1\n",
       "Garage Area        1\n",
       "dtype: int64"
      ]
     },
     "execution_count": 8,
     "metadata": {},
     "output_type": "execute_result"
    }
   ],
   "source": [
    "num_missing = house.isnull().sum()\n",
    "num_missing[num_missing > 0]"
   ]
  },
  {
   "cell_type": "markdown",
   "metadata": {},
   "source": [
    "Here we can see that all the columns left that contain null values are both integer columns and have way less than 5% null values. We can safely fill all null values with the mode."
   ]
  },
  {
   "cell_type": "code",
   "execution_count": 9,
   "metadata": {},
   "outputs": [],
   "source": [
    "house = house.fillna(house.mode().iloc[0])"
   ]
  },
  {
   "cell_type": "code",
   "execution_count": 10,
   "metadata": {},
   "outputs": [
    {
     "data": {
      "text/plain": [
       "0    64\n",
       "dtype: int64"
      ]
     },
     "execution_count": 10,
     "metadata": {},
     "output_type": "execute_result"
    }
   ],
   "source": [
    "house.isnull().sum().value_counts()"
   ]
  },
  {
   "cell_type": "markdown",
   "metadata": {},
   "source": [
    "Now that we have taken care of all missing values, our next step is to add some helpful features."
   ]
  },
  {
   "cell_type": "markdown",
   "metadata": {},
   "source": [
    "#### Creating useful features\n",
    "Typically the more renovated a house is, the more likely it will sell higher. A couple good feature columns to create would be to add in how many years since the house was last remodeled and how many years since it was built was it sold."
   ]
  },
  {
   "cell_type": "code",
   "execution_count": 11,
   "metadata": {},
   "outputs": [
    {
     "name": "stdout",
     "output_type": "stream",
     "text": [
      "2180   -1\n",
      "dtype: int64\n",
      "1702   -1\n",
      "2180   -2\n",
      "2181   -1\n",
      "dtype: int64\n"
     ]
    }
   ],
   "source": [
    "years_sold_built = house['Yr Sold'] - house['Year Built']\n",
    "years_since_remod = house['Yr Sold'] - house['Year Remod/Add']\n",
    "\n",
    "#check for negative values\n",
    "print(years_sold_built[years_sold_built < 0])\n",
    "print(years_since_remod[years_since_remod < 0])"
   ]
  },
  {
   "cell_type": "code",
   "execution_count": 12,
   "metadata": {},
   "outputs": [],
   "source": [
    "house['Built Years Before Sale'] = years_sold_built\n",
    "house['Years Since Remodeled'] = years_since_remod\n",
    "\n",
    "#drop negative values\n",
    "house = house.drop([1702, 2180, 2181], axis=0)\n",
    "#drop original columns\n",
    "house = house.drop(['Year Built','Year Remod/Add'], axis = 1)"
   ]
  },
  {
   "cell_type": "markdown",
   "metadata": {},
   "source": [
    "#### Drop useless columns\n",
    "Lastly, we can drop columns that either aren't helpful for machine learning, or leak data about the final sale."
   ]
  },
  {
   "cell_type": "code",
   "execution_count": 13,
   "metadata": {},
   "outputs": [],
   "source": [
    "#useless columns \n",
    "house = house.drop(['PID','Order'], axis = 1)\n",
    "\n",
    "#data leakage columns\n",
    "house = house.drop(['Mo Sold', 'Sale Condition', 'Sale Type', 'Yr Sold'], axis=1)"
   ]
  },
  {
   "cell_type": "markdown",
   "metadata": {},
   "source": [
    "## First Function Updates\n",
    "Now that we saw what can be done for transforming some of the features, it's time to update our initial functions so all of this can be done in one step when running our pipeline."
   ]
  },
  {
   "cell_type": "code",
   "execution_count": 14,
   "metadata": {},
   "outputs": [
    {
     "name": "stdout",
     "output_type": "stream",
     "text": [
      "rmse:  55275.36731241307\n"
     ]
    }
   ],
   "source": [
    "def transform_features(df):\n",
    "    missing = df.isnull().sum()\n",
    "    drop_missing = missing[(missing > len(df)/20)].sort_values()\n",
    "    df = df.drop(drop_missing.index,axis=1)\n",
    "    text_counts = df.select_dtypes(include='object').isnull().sum().sort_values(ascending = False)\n",
    "    drop_missing_text = text_counts[(text_counts > 0)]\n",
    "    df = df.drop(drop_missing_text.index, axis=1)\n",
    "    df = df.fillna(df.mode().iloc[0])\n",
    "    df['Built Years Before Sale'] = df['Yr Sold'] - df['Year Built']\n",
    "    df['Years Since Remodeled'] = df['Yr Sold'] - df['Year Remod/Add']\n",
    "    df = df.drop([1702, 2180, 2181], axis=0)\n",
    "    df = df.drop(['Year Built','Year Remod/Add','PID','Order',\n",
    "                 'Mo Sold', 'Sale Condition', 'Sale Type', 'Yr Sold'], axis = 1)\n",
    "    return df\n",
    "\n",
    "def select_features(df):\n",
    "    return df[['Gr Liv Area','SalePrice']]\n",
    "\n",
    "def train_and_test(df):\n",
    "    train = df[:1460]\n",
    "    test = df[1460:]\n",
    "    \n",
    "    numeric_train = train.select_dtypes(include = ['integer','float'])\n",
    "    numeric_test = test.select_dtypes(include = ['integer','float'])\n",
    "    \n",
    "    features = numeric_train.columns.drop('SalePrice')\n",
    "    lr = linear_model.LinearRegression()\n",
    "    lr.fit(train[features],train['SalePrice'])\n",
    "    predictions = lr.predict(test[features])\n",
    "    mse = mean_squared_error(test['SalePrice'],predictions)\n",
    "    rmse = np.sqrt(mse)\n",
    "    \n",
    "    return rmse\n",
    "\n",
    "house = pd.read_csv('AmesHousing.tsv', delimiter = \"\\t\")\n",
    "transformed_df = transform_features(house)\n",
    "filtered_df = select_features(transformed_df)\n",
    "rmse = train_and_test(filtered_df)\n",
    "print('rmse: ',rmse)"
   ]
  },
  {
   "cell_type": "markdown",
   "metadata": {
    "collapsed": true
   },
   "source": [
    "## Feature Selection\n",
    "Our RMSE has dropped a bit, so we're on the right path. Now that we have cleaned and engineered some of the features, the next step is to utilize feature selection. We only want to use features that will help our model make accurate predictions rather than detract from the overall performace. Here we can look at overall correlations, inspect categorical data to determine how we should handle them (ie. converting to dummy variables of 1's and 0's), and look at numerical columns that should possbily be converted to categorical columns instead due to the numbers not having any semantic meaning. "
   ]
  },
  {
   "cell_type": "markdown",
   "metadata": {},
   "source": [
    "#### Correlation Matrix\n",
    "First we'd like to gather some insight into which features correlate highly with our end goal of determing the sales price. If a feature does not correlate highly, say about 0.4, then this feature is likely unhelpful for our model and will just create uneccesary noise."
   ]
  },
  {
   "cell_type": "code",
   "execution_count": 15,
   "metadata": {},
   "outputs": [],
   "source": [
    "numerical_house = transformed_df.select_dtypes(include=['int','float'])"
   ]
  },
  {
   "cell_type": "code",
   "execution_count": 16,
   "metadata": {},
   "outputs": [
    {
     "data": {
      "text/plain": [
       "SalePrice                  1.000000\n",
       "Overall Qual               0.801206\n",
       "Gr Liv Area                0.717596\n",
       "Garage Cars                0.648361\n",
       "Total Bsmt SF              0.644012\n",
       "Garage Area                0.641425\n",
       "1st Flr SF                 0.635185\n",
       "Built Years Before Sale    0.558979\n",
       "Full Bath                  0.546118\n",
       "Years Since Remodeled      0.534985\n",
       "Mas Vnr Area               0.506983\n",
       "TotRms AbvGrd              0.498574\n",
       "Fireplaces                 0.474831\n",
       "BsmtFin SF 1               0.439284\n",
       "Name: SalePrice, dtype: float64"
      ]
     },
     "execution_count": 16,
     "metadata": {},
     "output_type": "execute_result"
    }
   ],
   "source": [
    "num_house_corr = numerical_house.corr()['SalePrice'].abs().sort_values(ascending = False)\n",
    "num_house_corr_up = num_house_corr[num_house_corr >= .4]\n",
    "num_house_corr_up"
   ]
  },
  {
   "cell_type": "code",
   "execution_count": 17,
   "metadata": {},
   "outputs": [
    {
     "data": {
      "text/plain": [
       "<matplotlib.axes._subplots.AxesSubplot at 0x126434d00>"
      ]
     },
     "execution_count": 17,
     "metadata": {},
     "output_type": "execute_result"
    },
    {
     "data": {
      "image/png": "[encoded data removed]",
      "text/plain": [
       "<Figure size 432x288 with 2 Axes>"
      ]
     },
     "metadata": {
      "needs_background": "light"
     },
     "output_type": "display_data"
    }
   ],
   "source": [
    "sns.heatmap(numerical_house[num_house_corr_up.index].corr().abs())"
   ]
  },
  {
   "cell_type": "markdown",
   "metadata": {},
   "source": [
    "We can begin by dropping any columns that have a correlation less than .4."
   ]
  },
  {
   "cell_type": "code",
   "execution_count": 18,
   "metadata": {},
   "outputs": [],
   "source": [
    "transformed_df = transformed_df.drop(num_house_corr[num_house_corr < .4].index, axis=1)"
   ]
  },
  {
   "cell_type": "markdown",
   "metadata": {},
   "source": [
    "Looking at the heatmap, we can see that there are a couple columns that correlate highly with eachother. Those would be <code>'TotRms AbvGrd'</code> with <code>'Gr Liv Area'</code> and <code>'Garage Area'</code> with <code>'Garage Cars'</code>.\n",
    "\n",
    "Given the similarity between these columns, it will be safe to drop the columns that offer redundant information that may be less useful than the similar counterpart. We can safely drop <code>'TotRms AbvGrd'</code> and <code>'Garage Cars'</code>."
   ]
  },
  {
   "cell_type": "code",
   "execution_count": 19,
   "metadata": {},
   "outputs": [],
   "source": [
    "transformed_df = transformed_df.drop(['TotRms AbvGrd','Garage Cars'], axis =1)"
   ]
  },
  {
   "cell_type": "markdown",
   "metadata": {},
   "source": [
    "#### Categorical Columns\n",
    "Looking at the documentation for the dataset, we can see there are quite a few columns that are meant to be categorical. Any of the columns that can be represented as nominal variables can be converted to categorical for our model to use.\n",
    "\n",
    "We need to keep in mind that some columns have hundreds of unique values and if we dummy code (1's and 0's) these columns, we'll be adding hundreds of columns to our dataframe. This will slow down our model. We should only keep the columns that have less than 10 unique values.\n",
    "\n",
    "Lastly, when dealing with categorical columns, we should look at the overall variability of the values. If more than 95% of the values belong to a specific category, we can safely drop those as the model has nothing to really capture."
   ]
  },
  {
   "cell_type": "code",
   "execution_count": 20,
   "metadata": {},
   "outputs": [],
   "source": [
    "nominal_features = [\"PID\", \"MS SubClass\", \"MS Zoning\", \"Street\", \"Alley\", \"Land Contour\", \"Lot Config\", \"Neighborhood\", \n",
    "                    \"Condition 1\", \"Condition 2\", \"Bldg Type\", \"House Style\", \"Roof Style\", \"Roof Matl\", \"Exterior 1st\", \n",
    "                    \"Exterior 2nd\", \"Mas Vnr Type\", \"Foundation\", \"Heating\", \"Central Air\", \"Garage Type\", \n",
    "                    \"Misc Feature\", \"Sale Type\", \"Sale Condition\"]"
   ]
  },
  {
   "cell_type": "code",
   "execution_count": 21,
   "metadata": {},
   "outputs": [],
   "source": [
    "cats = []\n",
    "transformed_df_copy = transformed_df.copy()"
   ]
  },
  {
   "cell_type": "code",
   "execution_count": 22,
   "metadata": {},
   "outputs": [],
   "source": [
    "for col in nominal_features:\n",
    "    if col in transformed_df_copy.columns:\n",
    "        cats.append(col)\n",
    "        if len(transformed_df_copy[col].value_counts()) > 10:\n",
    "            cats.remove(col)\n",
    "            transformed_df_copy = transformed_df_copy.drop([col],axis=1)\n",
    "\n",
    "for col in cats:\n",
    "    if transformed_df_copy[col].value_counts()[0] > .95*len(transformed_df_copy):\n",
    "        cats.remove(col)\n",
    "        transformed_df_copy = transformed_df_copy.drop(col,axis=1)"
   ]
  },
  {
   "cell_type": "code",
   "execution_count": 23,
   "metadata": {},
   "outputs": [
    {
     "name": "stdout",
     "output_type": "stream",
     "text": [
      "Total Columns:  30 \n",
      "\n",
      "Nominal Features Kept:\n",
      " ['MS Zoning', 'Land Contour', 'Lot Config', 'Condition 1', 'Bldg Type', 'House Style', 'Roof Style', 'Foundation', 'Central Air']\n"
     ]
    }
   ],
   "source": [
    "print('Total Columns: ',transformed_df_copy.shape[1],'\\n\\nNominal Features Kept:\\n',cats)"
   ]
  },
  {
   "cell_type": "markdown",
   "metadata": {},
   "source": [
    "#### Dummy Coding\n",
    "Now that we have removed any columns that will affect our model in a poor way, we can now convert all text/object columns into categorical columns. Once we have done this, we can utilize Pandas dummy coding that will allow us to separate each categorical column into 1's and 0's for yes and no. This will help find correlations between categorical columns and the <code>'Sale Price'</code>."
   ]
  },
  {
   "cell_type": "code",
   "execution_count": 24,
   "metadata": {},
   "outputs": [],
   "source": [
    "text_cols = transformed_df_copy.select_dtypes(include=['object'])\n",
    "for col in text_cols:\n",
    "    transformed_df_copy[col] = transformed_df_copy[col].astype('category')"
   ]
  },
  {
   "cell_type": "code",
   "execution_count": 25,
   "metadata": {},
   "outputs": [],
   "source": [
    "transformed_df_copy = pd.concat([transformed_df_copy,\n",
    "                               pd.get_dummies(\n",
    "                                   transformed_df_copy.select_dtypes(include = ['category']))],\n",
    "                               axis = 1).drop(text_cols,axis = 1)"
   ]
  },
  {
   "cell_type": "markdown",
   "metadata": {},
   "source": [
    "## Second Update Function\n",
    "Now that we have done some feature selection, we can add it to our <code>'select_features'</code> function to expedite our pipeline when running out model with options to change the coeffeciant and unique value thresholds."
   ]
  },
  {
   "cell_type": "code",
   "execution_count": 26,
   "metadata": {},
   "outputs": [
    {
     "name": "stdout",
     "output_type": "stream",
     "text": [
      "rmse:  33020.8746123492\n"
     ]
    }
   ],
   "source": [
    "def transform_features(df):\n",
    "    missing = df.isnull().sum()\n",
    "    drop_missing = missing[(missing > len(df)/20)].sort_values()\n",
    "    df = df.drop(drop_missing.index,axis=1)\n",
    "    text_counts = df.select_dtypes(include='object').isnull().sum().sort_values(ascending = False)\n",
    "    drop_missing_text = text_counts[(text_counts > 0)]\n",
    "    df = df.drop(drop_missing_text.index, axis=1)\n",
    "    df = df.fillna(df.mode().iloc[0])\n",
    "    df['Built Years Before Sale'] = df['Yr Sold'] - df['Year Built']\n",
    "    df['Years Since Remodeled'] = df['Yr Sold'] - df['Year Remod/Add']\n",
    "    df = df.drop([1702, 2180, 2181], axis=0)\n",
    "    df = df.drop(['Year Built','Year Remod/Add','PID','Order',\n",
    "                 'Mo Sold', 'Sale Condition', 'Sale Type', 'Yr Sold'], axis = 1)\n",
    "    return df\n",
    "\n",
    "def select_features(df, coef_thresh = 0.4, u_thresh = 10):\n",
    "    num_df = df.select_dtypes(include=['int','float'])\n",
    "    num_df_corr = num_df.corr()['SalePrice'].abs()\n",
    "    df = df.drop(num_df_corr[num_df_corr < coef_thresh].index, axis=1)\n",
    "    df = df.drop(['TotRms AbvGrd','Garage Cars'], axis =1)\n",
    "    \n",
    "    nominal_features = [\"PID\", \"MS SubClass\", \"MS Zoning\", \"Street\", \"Alley\", \"Land Contour\", \"Lot Config\", \"Neighborhood\", \n",
    "                    \"Condition 1\", \"Condition 2\", \"Bldg Type\", \"House Style\", \"Roof Style\", \"Roof Matl\", \"Exterior 1st\", \n",
    "                    \"Exterior 2nd\", \"Mas Vnr Type\", \"Foundation\", \"Heating\", \"Central Air\", \"Garage Type\", \n",
    "                    \"Misc Feature\", \"Sale Type\", \"Sale Condition\"]\n",
    "    cats = []\n",
    "    for col in nominal_features:\n",
    "        if col in df.columns:\n",
    "            cats.append(col)\n",
    "            if len(df[col].value_counts()) > 10:\n",
    "                cats.remove(col)\n",
    "                df = df.drop([col],axis=1)\n",
    "\n",
    "    for col in cats:\n",
    "        if df[col].value_counts()[0] > .95*len(df):\n",
    "            cats.remove(col)\n",
    "            df = df.drop(col,axis=1)\n",
    "    \n",
    "    text_cols = df.select_dtypes(include=['object'])\n",
    "    for col in text_cols:\n",
    "        df[col] = df[col].astype('category')   \n",
    "    \n",
    "    df = pd.concat([df, pd.get_dummies(df.select_dtypes(\n",
    "        include = ['category']))],axis = 1).drop(text_cols,axis = 1)\n",
    "    \n",
    "    return df\n",
    "\n",
    "def train_and_test(df):\n",
    "    train = df[:1460]\n",
    "    test = df[1460:]\n",
    "    \n",
    "    #numeric_train = train.select_dtypes(include = ['integer','float'])\n",
    "    #numeric_test = test.select_dtypes(include = ['integer','float'])\n",
    "    \n",
    "    features = train.columns.drop('SalePrice')\n",
    "    lr = linear_model.LinearRegression()\n",
    "    lr.fit(train[features],train['SalePrice'])\n",
    "    predictions = lr.predict(test[features])\n",
    "    mse = mean_squared_error(test['SalePrice'],predictions)\n",
    "    rmse = np.sqrt(mse)\n",
    "    \n",
    "    return rmse\n",
    "\n",
    "house = pd.read_csv('AmesHousing.tsv', delimiter = \"\\t\")\n",
    "transformed_df = transform_features(house)\n",
    "filtered_df = select_features(transformed_df)\n",
    "rmse = train_and_test(filtered_df)\n",
    "print('rmse: ',rmse)"
   ]
  },
  {
   "cell_type": "code",
   "execution_count": 27,
   "metadata": {},
   "outputs": [
    {
     "data": {
      "text/plain": [
       "SalePrice                  1.000000\n",
       "Overall Qual               0.801206\n",
       "Gr Liv Area                0.717596\n",
       "Total Bsmt SF              0.644012\n",
       "Garage Area                0.641425\n",
       "1st Flr SF                 0.635185\n",
       "Exter Qual_TA              0.591013\n",
       "Built Years Before Sale    0.558979\n",
       "Full Bath                  0.546118\n",
       "Kitchen Qual_Ex            0.540099\n",
       "Years Since Remodeled      0.534985\n",
       "Kitchen Qual_TA            0.526714\n",
       "Foundation_PConc           0.520974\n",
       "Mas Vnr Area               0.506983\n",
       "Exter Qual_Ex              0.484861\n",
       "Fireplaces                 0.474831\n",
       "Heating QC_Ex              0.454492\n",
       "Exter Qual_Gd              0.446338\n",
       "BsmtFin SF 1               0.439284\n",
       "Name: SalePrice, dtype: float64"
      ]
     },
     "execution_count": 27,
     "metadata": {},
     "output_type": "execute_result"
    }
   ],
   "source": [
    "filtered_df_corr = filtered_df.corr()['SalePrice'].abs().sort_values(ascending=False)\n",
    "filtered_df_corr[filtered_df_corr > .4]"
   ]
  },
  {
   "cell_type": "markdown",
   "metadata": {},
   "source": [
    "It looks like not only have we increased our correlated columns with <code>'SalePrice'</code>, but our RMSE is significantly less at 33,020."
   ]
  },
  {
   "cell_type": "markdown",
   "metadata": {},
   "source": [
    "## Cross Validation\n",
    "Now that we have updated our pipeline to include feature engineering and feature selection, the last step will be to implement some cross validation to keep our model accurate and avoid overfitting. This way our model will be tested on different subsets of the training data before using our final model on the test set.\n",
    "\n",
    "We will be implementing three different cross validation techiniques with an optional <code>'k'</code> parameter.\n",
    "\n",
    "- When k = 0, we'll perform a simple holdout. The already implemented train/test split.\n",
    "- When k = 1, we'll perform a simple cross validation where we shuffle and train on the first 1460 rows as fold one and test on the remaining as fold two. We'll then swap the two and train on fold two and test on fold one\n",
    "- When k > 1, we'll perfom k-fold cross validation using the inputed k value for number of folds.\n",
    "\n",
    "Let's make the final update to our functions by updating our <code>'train_and_test'</code> function to incorporate our cross validation techniques.\n",
    "\n",
    "For our k > 1 function, we'll also add another metric to measure accuracy called the r^2 score. This is called coefficient of determination and measures from 0 to 1 how well the predicted prices fit the actual values. We'll also return a dataframe with the predicted vs actual labels so we can visualize them."
   ]
  },
  {
   "cell_type": "code",
   "execution_count": 28,
   "metadata": {},
   "outputs": [
    {
     "name": "stdout",
     "output_type": "stream",
     "text": [
      "RMSE for Holdout:  33020.8746123492 \n",
      "RMSE for K = 1:  29584.426444168552 \n",
      "RMSE for K = 4:  29114.867379240957\n",
      "R^2 score for K = 4:  0.8652777194103873\n",
      "Each Fold RMSE Score for K = 4 [36903.86955972374, 24678.86962358038, 26124.6698029472, 28752.06053071251]\n"
     ]
    }
   ],
   "source": [
    "pd.options.mode.chained_assignment = None  # default='warn'\n",
    "\n",
    "def transform_features(df):\n",
    "    missing = df.isnull().sum()\n",
    "    drop_missing = missing[(missing > len(df)/20)].sort_values()\n",
    "    df = df.drop(drop_missing.index,axis=1)\n",
    "    text_counts = df.select_dtypes(include='object').isnull().sum().sort_values(ascending = False)\n",
    "    drop_missing_text = text_counts[(text_counts > 0)]\n",
    "    df = df.drop(drop_missing_text.index, axis=1)\n",
    "    df = df.fillna(df.mode().iloc[0])\n",
    "    df['Built Years Before Sale'] = df['Yr Sold'] - df['Year Built']\n",
    "    df['Years Since Remodeled'] = df['Yr Sold'] - df['Year Remod/Add']\n",
    "    df = df.drop([1702, 2180, 2181], axis=0)\n",
    "    df = df.drop(['Year Built','Year Remod/Add','PID','Order',\n",
    "                 'Mo Sold', 'Sale Condition', 'Sale Type', 'Yr Sold'], axis = 1)\n",
    "    return df\n",
    "\n",
    "def select_features(df, coef_thresh = 0.4, u_thresh = 10):\n",
    "    num_df = df.select_dtypes(include=['int','float'])\n",
    "    num_df_corr = num_df.corr()['SalePrice'].abs()\n",
    "    df = df.drop(num_df_corr[num_df_corr < coef_thresh].index, axis=1)\n",
    "    df = df.drop(['TotRms AbvGrd','Garage Cars'], axis =1)\n",
    "    \n",
    "    nominal_features = [\"PID\", \"MS SubClass\", \"MS Zoning\", \"Street\", \"Alley\", \"Land Contour\", \"Lot Config\", \"Neighborhood\", \n",
    "                    \"Condition 1\", \"Condition 2\", \"Bldg Type\", \"House Style\", \"Roof Style\", \"Roof Matl\", \"Exterior 1st\", \n",
    "                    \"Exterior 2nd\", \"Mas Vnr Type\", \"Foundation\", \"Heating\", \"Central Air\", \"Garage Type\", \n",
    "                    \"Misc Feature\", \"Sale Type\", \"Sale Condition\"]\n",
    "    cats = []\n",
    "    for col in nominal_features:\n",
    "        if col in df.columns:\n",
    "            cats.append(col)\n",
    "            if len(df[col].value_counts()) > 10:\n",
    "                cats.remove(col)\n",
    "                df = df.drop([col],axis=1)\n",
    "\n",
    "    for col in cats:\n",
    "        if df[col].value_counts()[0] > .95*len(df):\n",
    "            cats.remove(col)\n",
    "            df = df.drop(col,axis=1)\n",
    "    \n",
    "    text_cols = df.select_dtypes(include=['object'])\n",
    "    for col in text_cols:\n",
    "        df[col] = df[col].astype('category')   \n",
    "    \n",
    "    df = pd.concat([df, pd.get_dummies(df.select_dtypes(\n",
    "        include = ['category']))],axis = 1).drop(text_cols,axis = 1)\n",
    "    \n",
    "    return df\n",
    "\n",
    "def train_and_test(df, k = 0):  \n",
    "    numeric_df = df.select_dtypes(include = ['integer','float'])\n",
    "    features = numeric_df.columns.drop('SalePrice')\n",
    "    lr = linear_model.LinearRegression()\n",
    "    \n",
    "    if k == 0:\n",
    "        train = df[:1460]\n",
    "        test = df[1460:]\n",
    "        lr.fit(train[features],train['SalePrice'])\n",
    "        predictions = lr.predict(test[features])\n",
    "        mse = mean_squared_error(test['SalePrice'],predictions)\n",
    "        rmse = np.sqrt(mse)\n",
    "        \n",
    "        return rmse\n",
    "        \n",
    "    elif k == 1:\n",
    "        df = df.sample(frac = 1)\n",
    "        train_1 = df[:1460]\n",
    "        test_1 = df[1460:]\n",
    "        train_2 = df[1460:]\n",
    "        test_2 = df[:1460]\n",
    "        \n",
    "        lr.fit(train_1[features],train_1['SalePrice'])\n",
    "        predictions_1 = lr.predict(test_1[features])\n",
    "        mse_1 = mean_squared_error(test_1['SalePrice'],predictions_1)\n",
    "        rmse_1 = np.sqrt(mse_1)\n",
    "        \n",
    "        lr.fit(train_2[features],train_2['SalePrice'])\n",
    "        predictions_2 = lr.predict(test_2[features])\n",
    "        mse_2 = mean_squared_error(test_2['SalePrice'],predictions_2)\n",
    "        rmse_2 = np.sqrt(mse_2)\n",
    "        avg_rmse = np.mean([rmse_1,rmse_2])\n",
    "    \n",
    "        return avg_rmse\n",
    "    \n",
    "    else:\n",
    "        kf = KFold(n_splits = k, shuffle=True, random_state=1)\n",
    "        rmse_values = []\n",
    "        for train_index, test_index, in kf.split(df):\n",
    "            train = df.iloc[train_index]\n",
    "            test = df.iloc[test_index]\n",
    "            lr.fit(train[features], train['SalePrice'])\n",
    "            predictions = lr.predict(test[features])\n",
    "            mse = mean_squared_error(test['SalePrice'], predictions)\n",
    "            rmse = np.sqrt(mse)\n",
    "            rmse_values.append(rmse)\n",
    "        test['predictions'] = predictions\n",
    "        avg_rmse = np.mean(rmse_values)\n",
    "        r2_score = cross_val_score(lr,df[features],df['SalePrice'],scoring='r2',cv=kf)\n",
    "        return rmse_values, avg_rmse, np.mean(r2_score), test\n",
    "\n",
    "\n",
    "house = pd.read_csv('AmesHousing.tsv', delimiter = \"\\t\")\n",
    "transformed_df = transform_features(house)\n",
    "filtered_df = select_features(transformed_df)\n",
    "\n",
    "rmse_holdout = train_and_test(filtered_df, k = 0)\n",
    "rmse_k_1 = train_and_test(filtered_df, k = 1)\n",
    "rmses_k_4, rmse_k_4, r2_score, test_df = train_and_test(filtered_df, k = 4)\n",
    "\n",
    "print('RMSE for Holdout: ',rmse_holdout,'\\nRMSE for K = 1: ',rmse_k_1,'\\nRMSE for K = 4: ',rmse_k_4)\n",
    "print('R^2 score for K = 4: ',r2_score)\n",
    "print('Each Fold RMSE Score for K = 4',rmses_k_4)"
   ]
  },
  {
   "cell_type": "code",
   "execution_count": 29,
   "metadata": {},
   "outputs": [
    {
     "data": {
      "image/png": "[encoded data removed]",
      "text/plain": [
       "<Figure size 432x288 with 1 Axes>"
      ]
     },
     "metadata": {
      "needs_background": "light"
     },
     "output_type": "display_data"
    }
   ],
   "source": [
    "plt.scatter(test_df['SalePrice'],test_df['predictions'],c='crimson')\n",
    "p1 = max(max(test_df['predictions']), max(test_df['SalePrice']))\n",
    "p2 = min(min(test_df['predictions']), min(test_df['SalePrice']))\n",
    "plt.plot([p1, p2], [p1, p2], 'b-')\n",
    "plt.xlabel('Actual Sale Price', fontsize=15)\n",
    "plt.ylabel('Predictions', fontsize=15)\n",
    "plt.show()"
   ]
  },
  {
   "cell_type": "markdown",
   "metadata": {},
   "source": [
    "As we increase our K-Fold cross validation, our RMSE value steadily decreases. We can also see that we achieve a 0.865 r^2 which is a good indicator of accuracy for predicted vs actual labels. This is a good sign that our model is learning well and not overfitting. Once we graph a scatter plot of predicted vs actual sale price, it seems our predictions are relatively pretty for lower end housing sales, but as the price of the house increases, the predictions are further off. Since we were using RMSE as a measure of accuracy, those outlier estimations could be throwing off the overall scores.\n",
    "\n",
    "Out of curiousity, we can run an iterative loop with different K-Folds to see if we can find a fold that offers better accuracy. We don't really want to go past 10 folds, otherwise the test set will be too small."
   ]
  },
  {
   "cell_type": "code",
   "execution_count": 30,
   "metadata": {},
   "outputs": [],
   "source": [
    "def train_and_test(df, k):  \n",
    "    numeric_df = df.select_dtypes(include = ['integer','float'])\n",
    "    features = numeric_df.columns.drop('SalePrice')\n",
    "    lr = linear_model.LinearRegression()\n",
    "    kf = KFold(n_splits = k, shuffle=True, random_state=1)\n",
    "    mses = cross_val_score(lr, df[features], df['SalePrice'],scoring=\"neg_mean_squared_error\", cv=kf)\n",
    "    rmse = np.mean(np.sqrt(np.abs(mses)))\n",
    "    r2_score = cross_val_score(lr,df[features],df['SalePrice'],scoring='r2',cv=kf)\n",
    "    return rmse, np.mean(r2_score)\n",
    "    \n",
    "k_values = [i for i in range(2,11)]\n",
    "rmses = []\n",
    "r2 = []\n",
    "for i in k_values:\n",
    "    rmse,r_2 = train_and_test(filtered_df,i)\n",
    "    rmses.append(rmse)\n",
    "    r2.append(r_2)"
   ]
  },
  {
   "cell_type": "code",
   "execution_count": 31,
   "metadata": {},
   "outputs": [
    {
     "data": {
      "image/png": "[encoded data removed]",
      "text/plain": [
       "<Figure size 432x288 with 1 Axes>"
      ]
     },
     "metadata": {
      "needs_background": "light"
     },
     "output_type": "display_data"
    },
    {
     "data": {
      "image/png": "[encoded data removed]",
      "text/plain": [
       "<Figure size 432x288 with 1 Axes>"
      ]
     },
     "metadata": {
      "needs_background": "light"
     },
     "output_type": "display_data"
    }
   ],
   "source": [
    "plt.plot(k_values,rmses)\n",
    "plt.xlabel('K-Fold')\n",
    "plt.ylabel('RMSE Score')\n",
    "plt.title('RMSE Scores Amongst Differnt Folds')\n",
    "plt.show()\n",
    "\n",
    "plt.plot(k_values,r2)\n",
    "plt.xlabel('K-Fold')\n",
    "plt.ylabel('R^2 Score')\n",
    "plt.title('R^2 Scores Amongst Different Folds')\n",
    "plt.show()"
   ]
  },
  {
   "cell_type": "code",
   "execution_count": 32,
   "metadata": {},
   "outputs": [
    {
     "name": "stdout",
     "output_type": "stream",
     "text": [
      "RMSE for K = 6:  28737.58838680964\n",
      "R^2 for K = 6:  0.8689440051777594\n"
     ]
    }
   ],
   "source": [
    "print('RMSE for K = 6: ', rmses[4])\n",
    "print('R^2 for K = 6: ', r2[4])"
   ]
  },
  {
   "cell_type": "markdown",
   "metadata": {},
   "source": [
    "In the graphs we can see that the R^2 spikes at 6 folds and the RMSE score is also low. Looking at the actual values, it seems that 6 folds seems to be a bit better than our previous best of 4 folds with an almost .87 r^2 and the RMSE of $28,737.59."
   ]
  },
  {
   "cell_type": "markdown",
   "metadata": {},
   "source": [
    "## Conclusion\n",
    "\n",
    "In this project, we were able to create a pipeline to help our Linear Regression model produce more accurate predictions. With feature selection, feature engineering, and cross validation we were able to increase our accuracy with each update. Ultimately, in order to help our model become even more accurate, we need to implement more feature selection and engineering. In doing so, we'll be able to help our model learn more efficiently and reduce the chances of overfitting or becoming skewed to outliers."
   ]
  }
 ],
 "metadata": {
  "anaconda-cloud": {},
  "kernelspec": {
   "display_name": "Python 3",
   "language": "python",
   "name": "python3"
  },
  "language_info": {
   "codemirror_mode": {
    "name": "ipython",
    "version": 3
   },
   "file_extension": ".py",
   "mimetype": "text/x-python",
   "name": "python",
   "nbconvert_exporter": "python",
   "pygments_lexer": "ipython3",
   "version": "3.8.3"
  }
 },
 "nbformat": 4,
 "nbformat_minor": 2
}
