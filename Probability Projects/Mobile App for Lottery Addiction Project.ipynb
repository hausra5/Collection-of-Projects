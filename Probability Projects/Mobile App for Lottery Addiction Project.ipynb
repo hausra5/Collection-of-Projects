{
 "cells": [
  {
   "cell_type": "markdown",
   "metadata": {},
   "source": [
    "# Lottery Addiction App\n",
    "For this project we will be focusing on creating app's that will help lottery addicts better estimate their chances of winning the 6/49 lottery.  \n",
    "\n",
    "We'll create a few different mini-app's that can answer the following:\n",
    "\n",
    "- What is the probability of winning the big prize with a single ticket?\n",
    "\n",
    "- Using historical data of winning numbers, what are the chances of winning if the ticket as won before?\n",
    "\n",
    "- What is the probability of winning the big prize if we play multiple tickets at once?\n",
    "\n",
    "- What is the probability of having winning the smaller prize by matching two, three, four, or five of the 6 numbers?\n",
    "\n",
    "Helping the user gain knowledge of their chances of winning, may help them make more rational decisions."
   ]
  },
  {
   "cell_type": "markdown",
   "metadata": {},
   "source": [
    "#### Calculating probabilities\n",
    "We'll be working with the 6/49 lottery which consists of drawing six numbers without replacement from a set of 49 numbers ranging 1-49.  In order to easily calculate the associated probabilities, we'll need to create two functions.  One that calculates factorials and one for combinations.\n",
    "\n",
    "These are the two equations we will use.\n",
    "\n",
    "Factorials: $n! = n × (n-1) × (n-2)×...×2 × 1$\n",
    "\n",
    "Combinations: $_nC_k = \\left( \\frac{n}{k} \\right) = \\frac{n!}{k!(n - k)!}$"
   ]
  },
  {
   "cell_type": "code",
   "execution_count": 1,
   "metadata": {},
   "outputs": [],
   "source": [
    "#define factorial function\n",
    "def factorial(n):\n",
    "    result = 1\n",
    "    for i in range(n,0,-1):\n",
    "        result *= i\n",
    "    return result\n",
    "#define combination function\n",
    "def combinations(n,k):\n",
    "    numerator = factorial(n)\n",
    "    denominator = factorial(k)*factorial(n-k)\n",
    "    return numerator / denominator"
   ]
  },
  {
   "cell_type": "markdown",
   "metadata": {},
   "source": [
    "#### Single Ticket Probability\n",
    "Now that we have the two main functions created, we can begin by writing a mini program that will take the users inputed lottery numbers and calculate the chances of winning.  With this example in the 6/49 lottery, the player has to guess every single number of the 6 drawn numbers correctly to win the big prize.\n",
    "\n",
    "We will add a ticket check in the function to make sure only numbers 1-49 are used."
   ]
  },
  {
   "cell_type": "code",
   "execution_count": 2,
   "metadata": {},
   "outputs": [],
   "source": [
    "#Define single ticket probabilty function\n",
    "def one_ticket_probability(inputed_numbers):\n",
    "    incorrect = False\n",
    "    for x in inputed_numbers:\n",
    "        if x < 1 or x > 49:\n",
    "            print('Number {} is not 1-49, replace this number and try again!'.format(x))\n",
    "            incorrect = True\n",
    "    if incorrect == False:\n",
    "        total_combinations = combinations(49,6)\n",
    "        success_rate = 1/total_combinations\n",
    "        percentage_rate = round(success_rate * 100,7)\n",
    "        print('''With your inputed numbers of {} numbers, \n",
    "your chances of winning the big prize are: {:.7f}%\n",
    "This means that your chances are 1 in {:,}!'''.\n",
    "          format(inputed_numbers,percentage_rate,int(total_combinations)))"
   ]
  },
  {
   "cell_type": "code",
   "execution_count": 3,
   "metadata": {},
   "outputs": [
    {
     "name": "stdout",
     "output_type": "stream",
     "text": [
      "With your inputed numbers of [1, 2, 3, 4, 5, 6] numbers, \n",
      "your chances of winning the big prize are: 0.0000072%\n",
      "This means that your chances are 1 in 13,983,816!\n"
     ]
    }
   ],
   "source": [
    "ticket_1 = [1,2,3,4,5,6]\n",
    "one_ticket_probability(ticket_1)"
   ]
  },
  {
   "cell_type": "code",
   "execution_count": 4,
   "metadata": {},
   "outputs": [
    {
     "name": "stdout",
     "output_type": "stream",
     "text": [
      "With your inputed numbers of [49, 23, 32, 21, 1, 5] numbers, \n",
      "your chances of winning the big prize are: 0.0000072%\n",
      "This means that your chances are 1 in 13,983,816!\n"
     ]
    }
   ],
   "source": [
    "ticket_2 = [49,23,32,21,1,5]\n",
    "one_ticket_probability(ticket_2)"
   ]
  },
  {
   "cell_type": "code",
   "execution_count": 5,
   "metadata": {},
   "outputs": [
    {
     "name": "stdout",
     "output_type": "stream",
     "text": [
      "Number -1 is not 1-49, replace this number and try again!\n",
      "Number 0 is not 1-49, replace this number and try again!\n",
      "Number 67 is not 1-49, replace this number and try again!\n"
     ]
    }
   ],
   "source": [
    "ticket_3 = [-1,0,67,32,3,1]\n",
    "one_ticket_probability(ticket_3)"
   ]
  },
  {
   "cell_type": "markdown",
   "metadata": {},
   "source": [
    "The player may not know this, but no matter what list of numbers is inputed, the chances of winning are the same.  1 out of 13,983,816.  Those chances are absolutely terrible."
   ]
  },
  {
   "cell_type": "markdown",
   "metadata": {},
   "source": [
    "#### Historical Data\n",
    "Now that we have a mini program written for basic chances of winning, we can now compare inputed numbers with the historical data to gain further insight."
   ]
  },
  {
   "cell_type": "code",
   "execution_count": 6,
   "metadata": {},
   "outputs": [
    {
     "data": {
      "text/plain": [
       "(3665, 11)"
      ]
     },
     "execution_count": 6,
     "metadata": {},
     "output_type": "execute_result"
    }
   ],
   "source": [
    "import pandas as pd\n",
    "#input the data and get familiar\n",
    "lottery_data = pd.read_csv('649.csv')\n",
    "lottery_data.shape"
   ]
  },
  {
   "cell_type": "code",
   "execution_count": 7,
   "metadata": {},
   "outputs": [
    {
     "data": {
      "text/html": [
       "<div>\n",
       "<style scoped>\n",
       "    .dataframe tbody tr th:only-of-type {\n",
       "        vertical-align: middle;\n",
       "    }\n",
       "\n",
       "    .dataframe tbody tr th {\n",
       "        vertical-align: top;\n",
       "    }\n",
       "\n",
       "    .dataframe thead th {\n",
       "        text-align: right;\n",
       "    }\n",
       "</style>\n",
       "<table border=\"1\" class=\"dataframe\">\n",
       "  <thead>\n",
       "    <tr style=\"text-align: right;\">\n",
       "      <th></th>\n",
       "      <th>PRODUCT</th>\n",
       "      <th>DRAW NUMBER</th>\n",
       "      <th>SEQUENCE NUMBER</th>\n",
       "      <th>DRAW DATE</th>\n",
       "      <th>NUMBER DRAWN 1</th>\n",
       "      <th>NUMBER DRAWN 2</th>\n",
       "      <th>NUMBER DRAWN 3</th>\n",
       "      <th>NUMBER DRAWN 4</th>\n",
       "      <th>NUMBER DRAWN 5</th>\n",
       "      <th>NUMBER DRAWN 6</th>\n",
       "      <th>BONUS NUMBER</th>\n",
       "    </tr>\n",
       "  </thead>\n",
       "  <tbody>\n",
       "    <tr>\n",
       "      <th>0</th>\n",
       "      <td>649</td>\n",
       "      <td>1</td>\n",
       "      <td>0</td>\n",
       "      <td>6/12/1982</td>\n",
       "      <td>3</td>\n",
       "      <td>11</td>\n",
       "      <td>12</td>\n",
       "      <td>14</td>\n",
       "      <td>41</td>\n",
       "      <td>43</td>\n",
       "      <td>13</td>\n",
       "    </tr>\n",
       "    <tr>\n",
       "      <th>1</th>\n",
       "      <td>649</td>\n",
       "      <td>2</td>\n",
       "      <td>0</td>\n",
       "      <td>6/19/1982</td>\n",
       "      <td>8</td>\n",
       "      <td>33</td>\n",
       "      <td>36</td>\n",
       "      <td>37</td>\n",
       "      <td>39</td>\n",
       "      <td>41</td>\n",
       "      <td>9</td>\n",
       "    </tr>\n",
       "    <tr>\n",
       "      <th>2</th>\n",
       "      <td>649</td>\n",
       "      <td>3</td>\n",
       "      <td>0</td>\n",
       "      <td>6/26/1982</td>\n",
       "      <td>1</td>\n",
       "      <td>6</td>\n",
       "      <td>23</td>\n",
       "      <td>24</td>\n",
       "      <td>27</td>\n",
       "      <td>39</td>\n",
       "      <td>34</td>\n",
       "    </tr>\n",
       "  </tbody>\n",
       "</table>\n",
       "</div>"
      ],
      "text/plain": [
       "   PRODUCT  DRAW NUMBER  SEQUENCE NUMBER  DRAW DATE  NUMBER DRAWN 1  \\\n",
       "0      649            1                0  6/12/1982               3   \n",
       "1      649            2                0  6/19/1982               8   \n",
       "2      649            3                0  6/26/1982               1   \n",
       "\n",
       "   NUMBER DRAWN 2  NUMBER DRAWN 3  NUMBER DRAWN 4  NUMBER DRAWN 5  \\\n",
       "0              11              12              14              41   \n",
       "1              33              36              37              39   \n",
       "2               6              23              24              27   \n",
       "\n",
       "   NUMBER DRAWN 6  BONUS NUMBER  \n",
       "0              43            13  \n",
       "1              41             9  \n",
       "2              39            34  "
      ]
     },
     "execution_count": 7,
     "metadata": {},
     "output_type": "execute_result"
    }
   ],
   "source": [
    "lottery_data.head(3)"
   ]
  },
  {
   "cell_type": "code",
   "execution_count": 8,
   "metadata": {},
   "outputs": [
    {
     "data": {
      "text/html": [
       "<div>\n",
       "<style scoped>\n",
       "    .dataframe tbody tr th:only-of-type {\n",
       "        vertical-align: middle;\n",
       "    }\n",
       "\n",
       "    .dataframe tbody tr th {\n",
       "        vertical-align: top;\n",
       "    }\n",
       "\n",
       "    .dataframe thead th {\n",
       "        text-align: right;\n",
       "    }\n",
       "</style>\n",
       "<table border=\"1\" class=\"dataframe\">\n",
       "  <thead>\n",
       "    <tr style=\"text-align: right;\">\n",
       "      <th></th>\n",
       "      <th>PRODUCT</th>\n",
       "      <th>DRAW NUMBER</th>\n",
       "      <th>SEQUENCE NUMBER</th>\n",
       "      <th>DRAW DATE</th>\n",
       "      <th>NUMBER DRAWN 1</th>\n",
       "      <th>NUMBER DRAWN 2</th>\n",
       "      <th>NUMBER DRAWN 3</th>\n",
       "      <th>NUMBER DRAWN 4</th>\n",
       "      <th>NUMBER DRAWN 5</th>\n",
       "      <th>NUMBER DRAWN 6</th>\n",
       "      <th>BONUS NUMBER</th>\n",
       "    </tr>\n",
       "  </thead>\n",
       "  <tbody>\n",
       "    <tr>\n",
       "      <th>3662</th>\n",
       "      <td>649</td>\n",
       "      <td>3589</td>\n",
       "      <td>0</td>\n",
       "      <td>6/13/2018</td>\n",
       "      <td>6</td>\n",
       "      <td>22</td>\n",
       "      <td>24</td>\n",
       "      <td>31</td>\n",
       "      <td>32</td>\n",
       "      <td>34</td>\n",
       "      <td>16</td>\n",
       "    </tr>\n",
       "    <tr>\n",
       "      <th>3663</th>\n",
       "      <td>649</td>\n",
       "      <td>3590</td>\n",
       "      <td>0</td>\n",
       "      <td>6/16/2018</td>\n",
       "      <td>2</td>\n",
       "      <td>15</td>\n",
       "      <td>21</td>\n",
       "      <td>31</td>\n",
       "      <td>38</td>\n",
       "      <td>49</td>\n",
       "      <td>8</td>\n",
       "    </tr>\n",
       "    <tr>\n",
       "      <th>3664</th>\n",
       "      <td>649</td>\n",
       "      <td>3591</td>\n",
       "      <td>0</td>\n",
       "      <td>6/20/2018</td>\n",
       "      <td>14</td>\n",
       "      <td>24</td>\n",
       "      <td>31</td>\n",
       "      <td>35</td>\n",
       "      <td>37</td>\n",
       "      <td>48</td>\n",
       "      <td>17</td>\n",
       "    </tr>\n",
       "  </tbody>\n",
       "</table>\n",
       "</div>"
      ],
      "text/plain": [
       "      PRODUCT  DRAW NUMBER  SEQUENCE NUMBER  DRAW DATE  NUMBER DRAWN 1  \\\n",
       "3662      649         3589                0  6/13/2018               6   \n",
       "3663      649         3590                0  6/16/2018               2   \n",
       "3664      649         3591                0  6/20/2018              14   \n",
       "\n",
       "      NUMBER DRAWN 2  NUMBER DRAWN 3  NUMBER DRAWN 4  NUMBER DRAWN 5  \\\n",
       "3662              22              24              31              32   \n",
       "3663              15              21              31              38   \n",
       "3664              24              31              35              37   \n",
       "\n",
       "      NUMBER DRAWN 6  BONUS NUMBER  \n",
       "3662              34            16  \n",
       "3663              49             8  \n",
       "3664              48            17  "
      ]
     },
     "execution_count": 8,
     "metadata": {},
     "output_type": "execute_result"
    }
   ],
   "source": [
    "lottery_data.tail(3)"
   ]
  },
  {
   "cell_type": "markdown",
   "metadata": {},
   "source": [
    "#### Extracting the played numbers from the past.\n",
    "Now we can write a function that extracts previously used winning numbers from the data set and then write a second function that will compare the users inputed ticket to the historical tickets.  Given that we know that regardless what number is played, the chances to win are the same."
   ]
  },
  {
   "cell_type": "code",
   "execution_count": 9,
   "metadata": {},
   "outputs": [
    {
     "data": {
      "text/plain": [
       "0    {3, 41, 11, 12, 43, 14}\n",
       "1    {33, 36, 37, 39, 8, 41}\n",
       "2     {1, 6, 39, 23, 24, 27}\n",
       "3     {3, 9, 10, 43, 13, 20}\n",
       "4    {34, 5, 14, 47, 21, 31}\n",
       "dtype: object"
      ]
     },
     "execution_count": 9,
     "metadata": {},
     "output_type": "execute_result"
    }
   ],
   "source": [
    "def extract_numbers(row):\n",
    "    row = row[4:10]\n",
    "    row = set(row.values)\n",
    "    return row\n",
    "winning_tickets = lottery_data.apply(extract_numbers,axis=1)\n",
    "winning_tickets.head()"
   ]
  },
  {
   "cell_type": "code",
   "execution_count": 10,
   "metadata": {},
   "outputs": [],
   "source": [
    "def check_historical_occurence(user_list, winning_tickets_series):\n",
    "    incorrect = False\n",
    "    for x in user_list:\n",
    "        if x < 1 or x > 49:\n",
    "            print('Number {} is not 1-49, replace this number and try again!'.format(x))\n",
    "            incorrect = True\n",
    "    if incorrect == False:\n",
    "        user_list = set(user_list)\n",
    "        winner = user_list == winning_tickets_series\n",
    "        total = winner.sum()\n",
    "        if total == 0:\n",
    "            print('''Your ticket of {} has not won historically yet!\n",
    "Unfortunately, this does not improve your odds of winning.\n",
    "Your chances of winning the big prize are, 0.0000072%.\n",
    "This is a 1 in 13,983,816 chance.'''.format(user_list))\n",
    "        else:\n",
    "            print('''Your ticket of {} has won a total of {} times!\n",
    "Surprisingly, this does not affect your odds of winning the big prize.  They are 0.0000072%.\n",
    "This is a 1 in 13,983,816 chance.'''.format(user_list, total))\n",
    "    "
   ]
  },
  {
   "cell_type": "code",
   "execution_count": 11,
   "metadata": {},
   "outputs": [
    {
     "name": "stdout",
     "output_type": "stream",
     "text": [
      "Your ticket of {1, 2, 3, 4, 5, 6} has not won historically yet!\n",
      "Unfortunately, this does not improve your odds of winning.\n",
      "Your chances of winning the big prize are, 0.0000072%.\n",
      "This is a 1 in 13,983,816 chance.\n"
     ]
    }
   ],
   "source": [
    "check_historical_occurence(ticket_1,winning_tickets)"
   ]
  },
  {
   "cell_type": "code",
   "execution_count": 12,
   "metadata": {},
   "outputs": [
    {
     "name": "stdout",
     "output_type": "stream",
     "text": [
      "Your ticket of {3, 41, 11, 12, 43, 14} has won a total of 1 times!\n",
      "Surprisingly, this does not affect your odds of winning the big prize.  They are 0.0000072%.\n",
      "This is a 1 in 13,983,816 chance.\n"
     ]
    }
   ],
   "source": [
    "winning = [3,41,11,12,43,14]\n",
    "check_historical_occurence(winning,winning_tickets)"
   ]
  },
  {
   "cell_type": "code",
   "execution_count": 13,
   "metadata": {},
   "outputs": [
    {
     "name": "stdout",
     "output_type": "stream",
     "text": [
      "Number -1 is not 1-49, replace this number and try again!\n",
      "Number 0 is not 1-49, replace this number and try again!\n",
      "Number 67 is not 1-49, replace this number and try again!\n"
     ]
    }
   ],
   "source": [
    "check_historical_occurence(ticket_3,winning_tickets)"
   ]
  },
  {
   "cell_type": "markdown",
   "metadata": {},
   "source": [
    "Since the fact that a single ticket's odds don't change whether it's been played before, we can make the program a bit more robust by adding a feature that allows the user to input how many tickets they plan to purchase.  This will affect their odds of winning."
   ]
  },
  {
   "cell_type": "markdown",
   "metadata": {},
   "source": [
    "#### Odds of winning based on number of tickets played\n",
    "Our new function will focus on quantity of tickets the player is thinking of purchasing."
   ]
  },
  {
   "cell_type": "code",
   "execution_count": 14,
   "metadata": {},
   "outputs": [],
   "source": [
    "def multi_ticket_probability(n_tickets):\n",
    "    n_combinations = combinations(49,6)\n",
    "    odds = n_tickets / n_combinations\n",
    "    percentage = odds * 100\n",
    "    print('''With the number of tickets being {},\n",
    "your chances of winning are {:.6f}%.\n",
    "This means your odds are 1 in {:,}!'''.\n",
    "          format(n_tickets,percentage,round(n_combinations/n_tickets)))"
   ]
  },
  {
   "cell_type": "code",
   "execution_count": 15,
   "metadata": {},
   "outputs": [
    {
     "name": "stdout",
     "output_type": "stream",
     "text": [
      "With the number of tickets being 1,\n",
      "your chances of winning are 0.000007%.\n",
      "This means your odds are 1 in 13,983,816!\n",
      "----------------------------------------\n",
      "With the number of tickets being 10,\n",
      "your chances of winning are 0.000072%.\n",
      "This means your odds are 1 in 1,398,382!\n",
      "----------------------------------------\n",
      "With the number of tickets being 100,\n",
      "your chances of winning are 0.000715%.\n",
      "This means your odds are 1 in 139,838!\n",
      "----------------------------------------\n",
      "With the number of tickets being 1000,\n",
      "your chances of winning are 0.007151%.\n",
      "This means your odds are 1 in 13,984!\n",
      "----------------------------------------\n",
      "With the number of tickets being 1000000,\n",
      "your chances of winning are 7.151124%.\n",
      "This means your odds are 1 in 14!\n",
      "----------------------------------------\n",
      "With the number of tickets being 6991908,\n",
      "your chances of winning are 50.000000%.\n",
      "This means your odds are 1 in 2!\n",
      "----------------------------------------\n",
      "With the number of tickets being 13983816,\n",
      "your chances of winning are 100.000000%.\n",
      "This means your odds are 1 in 1!\n",
      "----------------------------------------\n"
     ]
    }
   ],
   "source": [
    "test_inputs = [1,10,100,1000,1000000,6991908,13983816]\n",
    "for x in test_inputs:\n",
    "    multi_ticket_probability(x)\n",
    "    print('-'*40)"
   ]
  },
  {
   "cell_type": "markdown",
   "metadata": {},
   "source": [
    "As we can see, as the player purchases and plays more tickets, the likelihood of winning increases.  However, for the odds to become much better, the player would have to purchase an unreasonable amount of tickets and would end up losing a lot of money."
   ]
  },
  {
   "cell_type": "markdown",
   "metadata": {},
   "source": [
    "#### Smaller prize odds\n",
    "If the player gets two, three, four, or five of the numbers correct, the player is eligible to win a smaller prize.  \n",
    "\n",
    "For the final program, we will ask the user to input numbers one a time and how many of the numbers they expect to match.  We'll then display the probabiltity of this request."
   ]
  },
  {
   "cell_type": "code",
   "execution_count": 20,
   "metadata": {},
   "outputs": [],
   "source": [
    "def probability_less_6():\n",
    "    user_list = []\n",
    "    while True:\n",
    "        n_winners = int(input('How many do you expect to match?: '))\n",
    "        if 1 < n_winners < 6:\n",
    "            break\n",
    "        else:\n",
    "            print('The number needs to be 2,3,4 or 5. Try again!')\n",
    "            continue\n",
    "    for i in range(6):\n",
    "        while True:\n",
    "            number = int(input('Input number {} for the ticket: '.format(i+1)))\n",
    "            if 1 <= number <= 49:\n",
    "                user_list.append(number)\n",
    "                break\n",
    "            else:\n",
    "                print('Number {} is not 1-49, replace this number and try again!'.format(number))\n",
    "                continue\n",
    "    combinations_tickets = combinations(6,n_winners)\n",
    "    remaining_combinations = combinations(43,6-n_winners)\n",
    "    successful_outcomes = combinations_tickets * remaining_combinations\n",
    "    \n",
    "    total_combinations = combinations(49,6)\n",
    "    odds = successful_outcomes / total_combinations\n",
    "    percentage = odds * 100\n",
    "    print('-'*40)\n",
    "    print('''For your ticket of {}, matching {} numbers correctly,\n",
    "the chances of winning are {:.6f}%.\n",
    "That is a 1 in {:,} chance to win!'''.\n",
    "          format(user_list,n_winners,\n",
    "                 percentage,round(total_combinations/successful_outcomes)))"
   ]
  },
  {
   "cell_type": "code",
   "execution_count": 21,
   "metadata": {},
   "outputs": [
    {
     "name": "stdout",
     "output_type": "stream",
     "text": [
      "How many do you expect to match?: 7\n",
      "The number needs to be 2,3,4 or 5. Try again!\n",
      "How many do you expect to match?: 2\n",
      "Input number 1 for the ticket: 1\n",
      "Input number 2 for the ticket: 2\n",
      "Input number 3 for the ticket: 3\n",
      "Input number 4 for the ticket: 4\n",
      "Input number 5 for the ticket: 5\n",
      "Input number 6 for the ticket: 6\n",
      "----------------------------------------\n",
      "For your ticket of [1, 2, 3, 4, 5, 6], matching 2 numbers correctly,\n",
      "the chances of winning are 13.237803%.\n",
      "That is a 1 in 8 chance to win!\n"
     ]
    }
   ],
   "source": [
    "probability_less_6()"
   ]
  },
  {
   "cell_type": "code",
   "execution_count": 22,
   "metadata": {},
   "outputs": [
    {
     "name": "stdout",
     "output_type": "stream",
     "text": [
      "How many do you expect to match?: 5\n",
      "Input number 1 for the ticket: 99\n",
      "Number 99 is not 1-49, replace this number and try again!\n",
      "Input number 1 for the ticket: 45\n",
      "Input number 2 for the ticket: 56\n",
      "Number 56 is not 1-49, replace this number and try again!\n",
      "Input number 2 for the ticket: 7\n",
      "Input number 3 for the ticket: 5\n",
      "Input number 4 for the ticket: 1\n",
      "Input number 5 for the ticket: 3\n",
      "Input number 6 for the ticket: 5\n",
      "----------------------------------------\n",
      "For your ticket of [45, 7, 5, 1, 3, 5], matching 5 numbers correctly,\n",
      "the chances of winning are 0.001845%.\n",
      "That is a 1 in 54,201 chance to win!\n"
     ]
    }
   ],
   "source": [
    "probability_less_6()"
   ]
  },
  {
   "cell_type": "markdown",
   "metadata": {},
   "source": [
    "# Conclusion\n",
    "Although this app may not help an addict make better decisions. It will hopefully help them realize that playing the lottery is not in their favor.  Especially if they are going for the main prize.  Their best chance to win any sum of money is by going for the smaller prize.  Even if the payout is significantly less."
   ]
  },
  {
   "cell_type": "code",
   "execution_count": null,
   "metadata": {},
   "outputs": [],
   "source": []
  }
 ],
 "metadata": {
  "kernelspec": {
   "display_name": "Python 3",
   "language": "python",
   "name": "python3"
  },
  "language_info": {
   "codemirror_mode": {
    "name": "ipython",
    "version": 3
   },
   "file_extension": ".py",
   "mimetype": "text/x-python",
   "name": "python",
   "nbconvert_exporter": "python",
   "pygments_lexer": "ipython3",
   "version": "3.8.3"
  }
 },
 "nbformat": 4,
 "nbformat_minor": 2
}
