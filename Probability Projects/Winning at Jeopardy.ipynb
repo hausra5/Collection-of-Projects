{
 "cells": [
  {
   "cell_type": "markdown",
   "metadata": {
    "collapsed": true
   },
   "source": [
    "# Winning at Jeopardy\n",
    "Jeopardy is a popular game show in the US where contestants answer questions to win money.  In this project, we will analyze a dataset that contains 20,000 rows of Jeopardy questions and anwers to look for patterns that could help a future contestant win.  These 20,000 rows only account for about 10% of the total dataset.\n",
    "\n",
    "We will begin by importing the dataset and getting acquainted with the data."
   ]
  },
  {
   "cell_type": "code",
   "execution_count": 1,
   "metadata": {},
   "outputs": [],
   "source": [
    "import pandas as pd"
   ]
  },
  {
   "cell_type": "code",
   "execution_count": 2,
   "metadata": {},
   "outputs": [
    {
     "data": {
      "text/html": [
       "<div>\n",
       "<style scoped>\n",
       "    .dataframe tbody tr th:only-of-type {\n",
       "        vertical-align: middle;\n",
       "    }\n",
       "\n",
       "    .dataframe tbody tr th {\n",
       "        vertical-align: top;\n",
       "    }\n",
       "\n",
       "    .dataframe thead th {\n",
       "        text-align: right;\n",
       "    }\n",
       "</style>\n",
       "<table border=\"1\" class=\"dataframe\">\n",
       "  <thead>\n",
       "    <tr style=\"text-align: right;\">\n",
       "      <th></th>\n",
       "      <th>Show Number</th>\n",
       "      <th>Air Date</th>\n",
       "      <th>Round</th>\n",
       "      <th>Category</th>\n",
       "      <th>Value</th>\n",
       "      <th>Question</th>\n",
       "      <th>Answer</th>\n",
       "    </tr>\n",
       "  </thead>\n",
       "  <tbody>\n",
       "    <tr>\n",
       "      <th>0</th>\n",
       "      <td>4680</td>\n",
       "      <td>2004-12-31</td>\n",
       "      <td>Jeopardy!</td>\n",
       "      <td>HISTORY</td>\n",
       "      <td>$200</td>\n",
       "      <td>For the last 8 years of his life, Galileo was ...</td>\n",
       "      <td>Copernicus</td>\n",
       "    </tr>\n",
       "    <tr>\n",
       "      <th>1</th>\n",
       "      <td>4680</td>\n",
       "      <td>2004-12-31</td>\n",
       "      <td>Jeopardy!</td>\n",
       "      <td>ESPN's TOP 10 ALL-TIME ATHLETES</td>\n",
       "      <td>$200</td>\n",
       "      <td>No. 2: 1912 Olympian; football star at Carlisl...</td>\n",
       "      <td>Jim Thorpe</td>\n",
       "    </tr>\n",
       "    <tr>\n",
       "      <th>2</th>\n",
       "      <td>4680</td>\n",
       "      <td>2004-12-31</td>\n",
       "      <td>Jeopardy!</td>\n",
       "      <td>EVERYBODY TALKS ABOUT IT...</td>\n",
       "      <td>$200</td>\n",
       "      <td>The city of Yuma in this state has a record av...</td>\n",
       "      <td>Arizona</td>\n",
       "    </tr>\n",
       "    <tr>\n",
       "      <th>3</th>\n",
       "      <td>4680</td>\n",
       "      <td>2004-12-31</td>\n",
       "      <td>Jeopardy!</td>\n",
       "      <td>THE COMPANY LINE</td>\n",
       "      <td>$200</td>\n",
       "      <td>In 1963, live on \"The Art Linkletter Show\", th...</td>\n",
       "      <td>McDonald's</td>\n",
       "    </tr>\n",
       "    <tr>\n",
       "      <th>4</th>\n",
       "      <td>4680</td>\n",
       "      <td>2004-12-31</td>\n",
       "      <td>Jeopardy!</td>\n",
       "      <td>EPITAPHS &amp; TRIBUTES</td>\n",
       "      <td>$200</td>\n",
       "      <td>Signer of the Dec. of Indep., framer of the Co...</td>\n",
       "      <td>John Adams</td>\n",
       "    </tr>\n",
       "  </tbody>\n",
       "</table>\n",
       "</div>"
      ],
      "text/plain": [
       "   Show Number    Air Date      Round                         Category  Value  \\\n",
       "0         4680  2004-12-31  Jeopardy!                          HISTORY   $200   \n",
       "1         4680  2004-12-31  Jeopardy!  ESPN's TOP 10 ALL-TIME ATHLETES   $200   \n",
       "2         4680  2004-12-31  Jeopardy!      EVERYBODY TALKS ABOUT IT...   $200   \n",
       "3         4680  2004-12-31  Jeopardy!                 THE COMPANY LINE   $200   \n",
       "4         4680  2004-12-31  Jeopardy!              EPITAPHS & TRIBUTES   $200   \n",
       "\n",
       "                                            Question      Answer  \n",
       "0  For the last 8 years of his life, Galileo was ...  Copernicus  \n",
       "1  No. 2: 1912 Olympian; football star at Carlisl...  Jim Thorpe  \n",
       "2  The city of Yuma in this state has a record av...     Arizona  \n",
       "3  In 1963, live on \"The Art Linkletter Show\", th...  McDonald's  \n",
       "4  Signer of the Dec. of Indep., framer of the Co...  John Adams  "
      ]
     },
     "execution_count": 2,
     "metadata": {},
     "output_type": "execute_result"
    }
   ],
   "source": [
    "#read in the data and see the first five rows\n",
    "jeopardy = pd.read_csv('jeopardy.csv')\n",
    "jeopardy.head()"
   ]
  },
  {
   "cell_type": "code",
   "execution_count": 3,
   "metadata": {},
   "outputs": [
    {
     "data": {
      "text/plain": [
       "Index(['Show Number', ' Air Date', ' Round', ' Category', ' Value',\n",
       "       ' Question', ' Answer'],\n",
       "      dtype='object')"
      ]
     },
     "execution_count": 3,
     "metadata": {},
     "output_type": "execute_result"
    }
   ],
   "source": [
    "#look at actual column names\n",
    "jeopardy.columns"
   ]
  },
  {
   "cell_type": "markdown",
   "metadata": {},
   "source": [
    "Some of the columns have spaces in front of the column name.  Let's remove all spaces to help cut down on mistakes later on."
   ]
  },
  {
   "cell_type": "code",
   "execution_count": 4,
   "metadata": {},
   "outputs": [],
   "source": [
    "#clean column names\n",
    "jeopardy.columns = ['Show_Number','Air_Date','Round','Category',\n",
    "                   'Value','Question','Answer']"
   ]
  },
  {
   "cell_type": "markdown",
   "metadata": {},
   "source": [
    "### Clean the data\n",
    "Since the data is in text format and we're interested in finding patterns, we'll need to normalize the text to remove any punctuations and lowercase everything.  We don't want the analysis to consider words like <code>\"Don't\"</code> and <code>\"don't\"</code> differently.  "
   ]
  },
  {
   "cell_type": "code",
   "execution_count": 5,
   "metadata": {},
   "outputs": [],
   "source": [
    "#using regular expressions, clean the text\n",
    "import re\n",
    "def normalize_text(text):\n",
    "    text = text.lower()\n",
    "    text = re.sub('[^A-Za-z0-9\\s]','', text)\n",
    "    text = re.sub('\\s+',' ', text)\n",
    "    return text"
   ]
  },
  {
   "cell_type": "markdown",
   "metadata": {},
   "source": [
    "Now that we have a function to normalize the text, let's clean the Question and Answer columns."
   ]
  },
  {
   "cell_type": "code",
   "execution_count": 6,
   "metadata": {},
   "outputs": [],
   "source": [
    "#create new columns with cleaned data\n",
    "jeopardy['clean_question'] = jeopardy['Question'].apply(normalize_text)\n",
    "jeopardy['clean_answer'] = jeopardy['Answer'].apply(normalize_text)"
   ]
  },
  {
   "cell_type": "markdown",
   "metadata": {},
   "source": [
    "Now that we have those columns cleaned.  We'll need to clean the value columns.  We want the <code>\"Value\"</code> column to be numeric and remove the dollar sign.  For the <code>\"Air_date\"</code> column, we'll want that to be a datetime."
   ]
  },
  {
   "cell_type": "code",
   "execution_count": 7,
   "metadata": {},
   "outputs": [],
   "source": [
    "#using regular expressions, extract the value in integer format\n",
    "def normalize_value(value):\n",
    "    value = re.sub('[^A-Za-z0-9\\s]','', value)\n",
    "    try:\n",
    "        value = int(value)\n",
    "    except Exception:\n",
    "        value = 0\n",
    "    return value"
   ]
  },
  {
   "cell_type": "code",
   "execution_count": 8,
   "metadata": {},
   "outputs": [],
   "source": [
    "#create new columns with clean data\n",
    "jeopardy['clean_value'] = jeopardy['Value'].apply(normalize_value)\n",
    "jeopardy['Air_Date'] = pd.to_datetime(jeopardy['Air_Date'])"
   ]
  },
  {
   "cell_type": "markdown",
   "metadata": {},
   "source": [
    "### Finding Patterns\n",
    "Now that we have the data ready, we'll want to see if we can answer a few questions to see if the contestant would be better studying past questions, studying general knowledge, or to not study at all.  In order to figure this out, it will be helpul to figure out:\n",
    "\n",
    "- How ofter the answer can be used for a question\n",
    "\n",
    "- How often questions are repeated\n",
    "\n",
    "We can answer the first question by seeing how many times words in the answer also occur in the question.  The second question we can answer by seeing how often complex words (>6 characters) reoccur.\n",
    "\n",
    "We'll start with the first question and write a function that counts the words in both the question and answer column and then compare the counts to find matches."
   ]
  },
  {
   "cell_type": "code",
   "execution_count": 9,
   "metadata": {},
   "outputs": [],
   "source": [
    "#create function that compares words from the question and answer\n",
    "def match_count(row):\n",
    "    split_answer = row['clean_answer'].split()\n",
    "    split_question = row['clean_question'].split()\n",
    "    match_count = 0\n",
    "    if 'the' in split_answer:\n",
    "        split_answer.remove('the')\n",
    "    if len(split_answer) == 0:\n",
    "        return 0\n",
    "    for answer in split_answer:\n",
    "        if answer in split_question:\n",
    "            match_count += 1\n",
    "    return match_count / len(split_answer)       "
   ]
  },
  {
   "cell_type": "code",
   "execution_count": 10,
   "metadata": {},
   "outputs": [],
   "source": [
    "#create new column with whether it matched or not\n",
    "jeopardy['answer_in_question'] = jeopardy.apply(match_count,axis=1)"
   ]
  },
  {
   "cell_type": "code",
   "execution_count": 11,
   "metadata": {},
   "outputs": [
    {
     "data": {
      "text/plain": [
       "0.059001965249777744"
      ]
     },
     "execution_count": 11,
     "metadata": {},
     "output_type": "execute_result"
    }
   ],
   "source": [
    "#find the mean\n",
    "jeopardy['answer_in_question'].mean()"
   ]
  },
  {
   "cell_type": "markdown",
   "metadata": {},
   "source": [
    "Given that only 6% of the question is included in the answer, this does not bode well for figuring out the answer based on the question alone.  It might be best to study."
   ]
  },
  {
   "cell_type": "markdown",
   "metadata": {},
   "source": [
    "### Repeating Questions\n",
    "Now that we established that we need to study, let's see if we can find any repeating questions.\n",
    "\n",
    "Let's write a function that will create a counter that keeps track of complex words."
   ]
  },
  {
   "cell_type": "code",
   "execution_count": 12,
   "metadata": {},
   "outputs": [
    {
     "name": "stdout",
     "output_type": "stream",
     "text": [
      "Percentage Recycled:  69.50624329703908\n",
      "Top 10 used words:  ['called', 'country', 'played', 'became', 'before', 'president', 'american', 'capital', 'famous', 'french', 'island', 'people', 'national', 'largest', 'little', 'around', 'british', 'author', 'meaning', 'during']\n"
     ]
    }
   ],
   "source": [
    "#create function to track reused words\n",
    "question_overlap = []\n",
    "terms_used = set()\n",
    "term_dict = {}\n",
    "jeopardy = jeopardy.sort_values('Air_Date')\n",
    "\n",
    "for i, row in jeopardy.iterrows():\n",
    "    split_question = row['clean_question'].split()\n",
    "    split_question = [q for q in split_question if len(q) > 5 and len(q) < 15]\n",
    "    match_count = 0\n",
    "    for question in split_question:\n",
    "        if question in terms_used:\n",
    "            match_count += 1\n",
    "    for question in split_question:\n",
    "        if question in term_dict:\n",
    "            term_dict[question] += 1\n",
    "        else:\n",
    "            term_dict[question] = 1\n",
    "    for question in split_question:\n",
    "        terms_used.add(question)\n",
    "    if len(split_question) > 0:\n",
    "        match_count /= len(split_question)\n",
    "    question_overlap.append(match_count)\n",
    "jeopardy['question_overlap'] = question_overlap\n",
    "print('Percentage Recycled: ',jeopardy['question_overlap'].mean()*100)\n",
    "print('Top 20 used words: ',sorted(term_dict, key=term_dict.get, reverse=True)[:20])"
   ]
  },
  {
   "cell_type": "markdown",
   "metadata": {},
   "source": [
    "About 70% of terms are being recycled.  Although, this function only takes into account individual terms and not full phrases, it may be worth investigating further.  However, looking at the top 20 words, they don't seem to be all that helpful."
   ]
  },
  {
   "cell_type": "markdown",
   "metadata": {},
   "source": [
    "### High vs Low Value Questions\n",
    "It may be helpful to focus on studying high value questions since this will gain us the most money for correct answers.\n",
    "\n",
    "We can solve this by using a chi-squared test.  In order to solve for this, we'll need to create two categories:\n",
    "\n",
    "- Low Value with <code>\"Value\"</code> being less than 800.\n",
    "\n",
    "- High Value with <code>\"Value\"</code> being greater than 800.\n",
    "\n",
    "Once we have those two categories, we can loop through each term from <code>\"terms_used\"</code> and:\n",
    "\n",
    "- Find the number of low value questions the word occurs in.\n",
    "\n",
    "- Find the number of high value questions the word occurs in.\n",
    "\n",
    "- Find the percentage of questions the word occurs in.\n",
    "\n",
    "- Based on the percentage of questions the word occurs in, find expected counts.\n",
    "\n",
    "- Compute the chi squared value based on the expected counts and the observed counts for high and low value questions.\n",
    "\n",
    "Once we have completed all of that, we can find the words that have the biggest differences in usage between high and low value questions by selecting the words with the highest associated chi-squared values.\n",
    "\n",
    "Doing this for all words will take a very long time, so we'll focus on a small sample for illustrative purposes."
   ]
  },
  {
   "cell_type": "code",
   "execution_count": 13,
   "metadata": {},
   "outputs": [],
   "source": [
    "#create function to separate high value (1) vs low value (0)\n",
    "def create_value(row):\n",
    "    value = 0\n",
    "    if row['clean_value'] > 800:\n",
    "        value = 1\n",
    "    return value"
   ]
  },
  {
   "cell_type": "code",
   "execution_count": 14,
   "metadata": {},
   "outputs": [],
   "source": [
    "#create new column with high vs low value\n",
    "jeopardy['high_value'] = jeopardy.apply(create_value,axis=1)"
   ]
  },
  {
   "cell_type": "code",
   "execution_count": 15,
   "metadata": {},
   "outputs": [],
   "source": [
    "#create function to give high and low value counts based on term\n",
    "def term_count(text):\n",
    "    low_count = 0\n",
    "    high_count = 0\n",
    "    for i,row in jeopardy.iterrows():\n",
    "        if text in row['clean_question'].split(' '):\n",
    "            if row['high_value'] == 1:\n",
    "                high_count += 1\n",
    "            else:\n",
    "                low_count += 1\n",
    "    return high_count, low_count"
   ]
  },
  {
   "cell_type": "markdown",
   "metadata": {},
   "source": [
    "Now that we have the function that will give us the high value or low value count based on the terms used, we can run it.  We'll start by running it on 10 randomly picked elements from the <code>\"terms_used\"</code> set we have."
   ]
  },
  {
   "cell_type": "code",
   "execution_count": 16,
   "metadata": {},
   "outputs": [
    {
     "name": "stdout",
     "output_type": "stream",
     "text": [
      "Term Used:  leslie\n",
      "Count(High,Low):  (2, 6)\n",
      "-------------------------\n",
      "Term Used:  condemned\n",
      "Count(High,Low):  (1, 3)\n",
      "-------------------------\n",
      "Term Used:  replayed\n",
      "Count(High,Low):  (0, 1)\n",
      "-------------------------\n",
      "Term Used:  palauan\n",
      "Count(High,Low):  (1, 0)\n",
      "-------------------------\n",
      "Term Used:  granth\n",
      "Count(High,Low):  (0, 1)\n",
      "-------------------------\n",
      "Term Used:  bernadette\n",
      "Count(High,Low):  (0, 1)\n",
      "-------------------------\n",
      "Term Used:  rising\n",
      "Count(High,Low):  (3, 10)\n",
      "-------------------------\n",
      "Term Used:  ionesco\n",
      "Count(High,Low):  (1, 0)\n",
      "-------------------------\n",
      "Term Used:  habibie\n",
      "Count(High,Low):  (1, 0)\n",
      "-------------------------\n",
      "Term Used:  wessex\n",
      "Count(High,Low):  (0, 2)\n",
      "-------------------------\n"
     ]
    }
   ],
   "source": [
    "#using 10 random terms from our terms used set\n",
    "from random import choice\n",
    "\n",
    "terms_used_list = list(terms_used)\n",
    "comparison_terms = [choice(terms_used_list) for word in range(10)]\n",
    "\n",
    "#based on the term, return high and low value counts\n",
    "observed_expected = []\n",
    "observed_expected_dict = {}\n",
    "for term in comparison_terms:\n",
    "    count = term_count(term)\n",
    "    observed_expected.append(count)\n",
    "    observed_expected_dict[term] = count\n",
    "    print(\"Term Used: \",term)\n",
    "    print(\"Count(High,Low): \", count)\n",
    "    print('-'*25)"
   ]
  },
  {
   "cell_type": "markdown",
   "metadata": {},
   "source": [
    "Here we have the observed counts for the terms randomly picked.  Now we can compute the expected counts and then the chi-squared value."
   ]
  },
  {
   "cell_type": "code",
   "execution_count": 17,
   "metadata": {},
   "outputs": [
    {
     "name": "stdout",
     "output_type": "stream",
     "text": [
      "Category:  leslie\n",
      "Power_divergenceResult(statistic=0.05272886616881538, pvalue=0.818381104912348)\n",
      "---------------------------------------------------------------------------\n",
      "Category:  condemned\n",
      "Power_divergenceResult(statistic=0.02636443308440769, pvalue=0.871013484688921)\n",
      "---------------------------------------------------------------------------\n",
      "Category:  replayed\n",
      "Power_divergenceResult(statistic=0.401962846126884, pvalue=0.5260772985705469)\n",
      "---------------------------------------------------------------------------\n",
      "Category:  palauan\n",
      "Power_divergenceResult(statistic=2.487792117195675, pvalue=0.11473257634454047)\n",
      "---------------------------------------------------------------------------\n",
      "Category:  granth\n",
      "Power_divergenceResult(statistic=0.401962846126884, pvalue=0.5260772985705469)\n",
      "---------------------------------------------------------------------------\n",
      "Category:  bernadette\n",
      "Power_divergenceResult(statistic=0.401962846126884, pvalue=0.5260772985705469)\n",
      "---------------------------------------------------------------------------\n",
      "Category:  rising\n",
      "Power_divergenceResult(statistic=0.19895489749611328, pvalue=0.6555657483351991)\n",
      "---------------------------------------------------------------------------\n",
      "Category:  ionesco\n",
      "Power_divergenceResult(statistic=2.487792117195675, pvalue=0.11473257634454047)\n",
      "---------------------------------------------------------------------------\n",
      "Category:  habibie\n",
      "Power_divergenceResult(statistic=2.487792117195675, pvalue=0.11473257634454047)\n",
      "---------------------------------------------------------------------------\n",
      "Category:  wessex\n",
      "Power_divergenceResult(statistic=0.803925692253768, pvalue=0.3699222378079571)\n",
      "---------------------------------------------------------------------------\n"
     ]
    }
   ],
   "source": [
    "#run chi-square test to calculate p-values\n",
    "from scipy.stats import chisquare\n",
    "import numpy as np\n",
    "\n",
    "high_value_count = jeopardy[jeopardy['high_value'] == 1].shape[0]\n",
    "low_value_count = jeopardy[jeopardy['high_value'] == 0].shape[0]\n",
    "\n",
    "chi_squared = []\n",
    "for category, observed in observed_expected_dict.items():\n",
    "    total = sum(observed)\n",
    "    total_prop = total / jeopardy.shape[0]\n",
    "    high_value_expected = total_prop * high_value_count\n",
    "    low_value_expected = total_prop * low_value_count\n",
    "    \n",
    "    observed_final = np.array([observed[0],observed[1]])\n",
    "    expected_final = np.array([high_value_expected,low_value_expected])\n",
    "    chi_square = chisquare(observed_final,expected_final)\n",
    "    print('Category: ', category)\n",
    "    print(chi_square)\n",
    "    print('-'*75)\n",
    "    chi_squared.append(chi_square)"
   ]
  },
  {
   "cell_type": "markdown",
   "metadata": {},
   "source": [
    "Since the p_value is way higher than the standard threshold of 5%, we fail to reject the null hypotheis.  It seems that there is no significance in the actual term used between high vs low values."
   ]
  },
  {
   "cell_type": "markdown",
   "metadata": {
    "collapsed": true
   },
   "source": [
    "### Highest Value Categories and Rounds\n",
    "Since focusing on just terms used doesn't seem too helpful with studying, we should take a look at the overall categories and how they relate to the Jeopardy rounds.  If we can narrow down to a few categories that might net us the highest value, these would be good categories for a broad study guide."
   ]
  },
  {
   "cell_type": "code",
   "execution_count": 18,
   "metadata": {},
   "outputs": [
    {
     "data": {
      "text/plain": [
       "Jeopardy!           9901\n",
       "Double Jeopardy!    9762\n",
       "Final Jeopardy!      335\n",
       "Tiebreaker             1\n",
       "Name: Round, dtype: int64"
      ]
     },
     "execution_count": 18,
     "metadata": {},
     "output_type": "execute_result"
    }
   ],
   "source": [
    "#Frequency of Rounds\n",
    "jeopardy['Round'].value_counts()"
   ]
  },
  {
   "cell_type": "code",
   "execution_count": 19,
   "metadata": {},
   "outputs": [
    {
     "data": {
      "text/html": [
       "<div>\n",
       "<style scoped>\n",
       "    .dataframe tbody tr th:only-of-type {\n",
       "        vertical-align: middle;\n",
       "    }\n",
       "\n",
       "    .dataframe tbody tr th {\n",
       "        vertical-align: top;\n",
       "    }\n",
       "\n",
       "    .dataframe thead th {\n",
       "        text-align: right;\n",
       "    }\n",
       "</style>\n",
       "<table border=\"1\" class=\"dataframe\">\n",
       "  <thead>\n",
       "    <tr style=\"text-align: right;\">\n",
       "      <th>high_value</th>\n",
       "      <th>0</th>\n",
       "      <th>1</th>\n",
       "    </tr>\n",
       "    <tr>\n",
       "      <th>Round</th>\n",
       "      <th></th>\n",
       "      <th></th>\n",
       "    </tr>\n",
       "  </thead>\n",
       "  <tbody>\n",
       "    <tr>\n",
       "      <th>Double Jeopardy!</th>\n",
       "      <td>5340</td>\n",
       "      <td>4422</td>\n",
       "    </tr>\n",
       "    <tr>\n",
       "      <th>Final Jeopardy!</th>\n",
       "      <td>335</td>\n",
       "      <td>0</td>\n",
       "    </tr>\n",
       "    <tr>\n",
       "      <th>Jeopardy!</th>\n",
       "      <td>8589</td>\n",
       "      <td>1312</td>\n",
       "    </tr>\n",
       "    <tr>\n",
       "      <th>Tiebreaker</th>\n",
       "      <td>1</td>\n",
       "      <td>0</td>\n",
       "    </tr>\n",
       "  </tbody>\n",
       "</table>\n",
       "</div>"
      ],
      "text/plain": [
       "high_value           0     1\n",
       "Round                       \n",
       "Double Jeopardy!  5340  4422\n",
       "Final Jeopardy!    335     0\n",
       "Jeopardy!         8589  1312\n",
       "Tiebreaker           1     0"
      ]
     },
     "execution_count": 19,
     "metadata": {},
     "output_type": "execute_result"
    }
   ],
   "source": [
    "#create a cross table to count high vs low value questions per round\n",
    "cross_table = pd.crosstab(jeopardy['Round'],jeopardy['high_value'])\n",
    "cross_table"
   ]
  },
  {
   "cell_type": "code",
   "execution_count": 20,
   "metadata": {},
   "outputs": [
    {
     "data": {
      "text/plain": [
       "<matplotlib.legend.Legend at 0x12e521e20>"
      ]
     },
     "execution_count": 20,
     "metadata": {},
     "output_type": "execute_result"
    },
    {
     "data": {
      "image/png": "[encoded data removed]",
      "text/plain": [
       "<Figure size 864x576 with 1 Axes>"
      ]
     },
     "metadata": {
      "needs_background": "light"
     },
     "output_type": "display_data"
    }
   ],
   "source": [
    "#visualize the difference\n",
    "import matplotlib.pyplot as plt\n",
    "cross_table.plot.bar(figsize = (12,8), rot = 0)\n",
    "plt.ylabel('Questions')\n",
    "plt.legend(['Low Level','High Level'])"
   ]
  },
  {
   "cell_type": "code",
   "execution_count": 21,
   "metadata": {},
   "outputs": [],
   "source": [
    "from scipy.stats import chi2_contingency"
   ]
  },
  {
   "cell_type": "code",
   "execution_count": 22,
   "metadata": {},
   "outputs": [
    {
     "data": {
      "text/plain": [
       "0.0"
      ]
     },
     "execution_count": 22,
     "metadata": {},
     "output_type": "execute_result"
    }
   ],
   "source": [
    "#run chi-square on the cross table\n",
    "chi_sq,p_value,dof,expected = chi2_contingency(cross_table)\n",
    "p_value"
   ]
  },
  {
   "cell_type": "markdown",
   "metadata": {},
   "source": [
    "Looking at the cross table and bar plot, it seems that Double Jeopardy has the most high value questions and running a chi-squared test, we can see that the p-value is rounded to 0.  This means we can reject the null hypothesis of this happening by chance.  We can assume that focusing on Double Jeopardy questions may net us the most points.\n",
    "\n",
    "Let's take a look at the categories now."
   ]
  },
  {
   "cell_type": "code",
   "execution_count": 23,
   "metadata": {},
   "outputs": [
    {
     "data": {
      "text/plain": [
       "TELEVISION          51\n",
       "U.S. GEOGRAPHY      50\n",
       "LITERATURE          45\n",
       "BEFORE & AFTER      40\n",
       "HISTORY             40\n",
       "AMERICAN HISTORY    40\n",
       "AUTHORS             39\n",
       "WORD ORIGINS        38\n",
       "WORLD CAPITALS      37\n",
       "SPORTS              36\n",
       "BODIES OF WATER     36\n",
       "RHYME TIME          35\n",
       "MAGAZINES           35\n",
       "SCIENCE             35\n",
       "SCIENCE & NATURE    35\n",
       "WORLD GEOGRAPHY     33\n",
       "WORLD HISTORY       32\n",
       "HISTORIC NAMES      32\n",
       "ANNUAL EVENTS       32\n",
       "BIRDS               31\n",
       "Name: Category, dtype: int64"
      ]
     },
     "execution_count": 23,
     "metadata": {},
     "output_type": "execute_result"
    }
   ],
   "source": [
    "#Top 20 Categories\n",
    "jeopardy['Category'].value_counts().head(20)"
   ]
  },
  {
   "cell_type": "code",
   "execution_count": 24,
   "metadata": {},
   "outputs": [],
   "source": [
    "#create function to count high vs low value count based on category\n",
    "def category_count(cat):\n",
    "    low_count = 0\n",
    "    high_count = 0\n",
    "    for i,row in jeopardy.iterrows():\n",
    "        if cat in row['Category']:\n",
    "            if row['high_value'] == 1:\n",
    "                high_count += 1\n",
    "            else:\n",
    "                low_count += 1\n",
    "    return high_count, low_count"
   ]
  },
  {
   "cell_type": "code",
   "execution_count": 25,
   "metadata": {},
   "outputs": [
    {
     "name": "stdout",
     "output_type": "stream",
     "text": [
      "Category:  TELEVISION\n",
      "Count(High,Low):  (9, 56)\n",
      "-------------------------\n",
      "Category:  U.S. GEOGRAPHY\n",
      "Count(High,Low):  (14, 36)\n",
      "-------------------------\n",
      "Category:  LITERATURE\n",
      "Count(High,Low):  (45, 113)\n",
      "-------------------------\n",
      "Category:  BEFORE & AFTER\n",
      "Count(High,Low):  (28, 25)\n",
      "-------------------------\n",
      "Category:  HISTORY\n",
      "Count(High,Low):  (69, 210)\n",
      "-------------------------\n",
      "Category:  AMERICAN HISTORY\n",
      "Count(High,Low):  (12, 28)\n",
      "-------------------------\n",
      "Category:  AUTHORS\n",
      "Count(High,Low):  (33, 85)\n",
      "-------------------------\n",
      "Category:  WORD ORIGINS\n",
      "Count(High,Low):  (12, 26)\n",
      "-------------------------\n",
      "Category:  WORLD CAPITALS\n",
      "Count(High,Low):  (8, 29)\n",
      "-------------------------\n",
      "Category:  SPORTS\n",
      "Count(High,Low):  (38, 156)\n",
      "-------------------------\n",
      "Category:  BODIES OF WATER\n",
      "Count(High,Low):  (11, 40)\n",
      "-------------------------\n",
      "Category:  RHYME TIME\n",
      "Count(High,Low):  (36, 99)\n",
      "-------------------------\n",
      "Category:  MAGAZINES\n",
      "Count(High,Low):  (7, 38)\n",
      "-------------------------\n",
      "Category:  SCIENCE\n",
      "Count(High,Low):  (97, 126)\n",
      "-------------------------\n",
      "Category:  SCIENCE & NATURE\n",
      "Count(High,Low):  (14, 21)\n",
      "-------------------------\n",
      "Category:  WORLD GEOGRAPHY\n",
      "Count(High,Low):  (6, 27)\n",
      "-------------------------\n",
      "Category:  WORLD HISTORY\n",
      "Count(High,Low):  (7, 25)\n",
      "-------------------------\n",
      "Category:  HISTORIC NAMES\n",
      "Count(High,Low):  (10, 22)\n",
      "-------------------------\n",
      "Category:  ANNUAL EVENTS\n",
      "Count(High,Low):  (7, 25)\n",
      "-------------------------\n",
      "Category:  BIRDS\n",
      "Count(High,Low):  (7, 44)\n",
      "-------------------------\n"
     ]
    }
   ],
   "source": [
    "#using top 20 categories, return high vs low value count\n",
    "top_20_categories = jeopardy['Category'].value_counts().head(20).index\n",
    "observed_expected_cat = []\n",
    "observed_expected_cat_dict = {}\n",
    "for category in top_20_categories:\n",
    "    count = category_count(category)\n",
    "    observed_expected_cat.append(count)\n",
    "    observed_expected_cat_dict[category] = count\n",
    "    print(\"Category: \",category)\n",
    "    print(\"Count(High,Low): \", count)\n",
    "    print('-'*25)"
   ]
  },
  {
   "cell_type": "code",
   "execution_count": 26,
   "metadata": {},
   "outputs": [
    {
     "name": "stdout",
     "output_type": "stream",
     "text": [
      "Category:  TELEVISION\n",
      "Power_divergenceResult(statistic=6.9856407222578145, pvalue=0.008216623309889584)\n",
      "--------------------------------------------------------------------------------\n",
      "Category:  U.S. GEOGRAPHY\n",
      "Power_divergenceResult(statistic=0.011022071015878569, pvalue=0.9163868768161757)\n",
      "--------------------------------------------------------------------------------\n",
      "Category:  LITERATURE\n",
      "Power_divergenceResult(statistic=0.0028013893381219745, pvalue=0.9577891532938911)\n",
      "--------------------------------------------------------------------------------\n",
      "Category:  BEFORE & AFTER\n",
      "Power_divergenceResult(statistic=15.125581107749277, pvalue=0.00010059095507507294)\n",
      "--------------------------------------------------------------------------------\n",
      "Category:  HISTORY\n",
      "Power_divergenceResult(statistic=2.118063742523984, pvalue=0.145570478361707)\n",
      "--------------------------------------------------------------------------------\n",
      "Category:  AMERICAN HISTORY\n",
      "Power_divergenceResult(statistic=0.034523405991355754, pvalue=0.8525978776056389)\n",
      "--------------------------------------------------------------------------------\n",
      "Category:  AUTHORS\n",
      "Power_divergenceResult(statistic=0.028704905871413305, pvalue=0.8654621859373524)\n",
      "--------------------------------------------------------------------------------\n",
      "Category:  WORD ORIGINS\n",
      "Power_divergenceResult(statistic=0.15707760152502, pvalue=0.6918614751677927)\n",
      "--------------------------------------------------------------------------------\n",
      "Category:  WORLD CAPITALS\n",
      "Power_divergenceResult(statistic=0.8991742998170983, pvalue=0.34300320821440916)\n",
      "--------------------------------------------------------------------------------\n",
      "Category:  SPORTS\n",
      "Power_divergenceResult(statistic=7.827523920486618, pvalue=0.0051456542118282)\n",
      "--------------------------------------------------------------------------------\n",
      "Category:  BODIES OF WATER\n",
      "Power_divergenceResult(statistic=1.2581058820331579, pvalue=0.26200992599914713)\n",
      "--------------------------------------------------------------------------------\n",
      "Category:  RHYME TIME\n",
      "Power_divergenceResult(statistic=0.2653069538902564, pvalue=0.6064974248306672)\n",
      "--------------------------------------------------------------------------------\n",
      "Category:  MAGAZINES\n",
      "Power_divergenceResult(statistic=3.785248078884634, pvalue=0.05170624507696433)\n",
      "--------------------------------------------------------------------------------\n",
      "Category:  SCIENCE\n",
      "Power_divergenceResult(statistic=23.969498546208595, pvalue=9.787401654172916e-07)\n",
      "--------------------------------------------------------------------------------\n",
      "Category:  SCIENCE & NATURE\n",
      "Power_divergenceResult(statistic=2.196367717494517, pvalue=0.13833637046236152)\n",
      "--------------------------------------------------------------------------------\n",
      "Category:  WORLD GEOGRAPHY\n",
      "Power_divergenceResult(statistic=1.775497910470992, pvalue=0.1827031302971643)\n",
      "--------------------------------------------------------------------------------\n",
      "Category:  WORLD HISTORY\n",
      "Power_divergenceResult(statistic=0.72276851787158, pvalue=0.3952372839325481)\n",
      "--------------------------------------------------------------------------------\n",
      "Category:  HISTORIC NAMES\n",
      "Power_divergenceResult(statistic=0.10403841390560437, pvalue=0.7470361694584846)\n",
      "--------------------------------------------------------------------------------\n",
      "Category:  ANNUAL EVENTS\n",
      "Power_divergenceResult(statistic=0.72276851787158, pvalue=0.3952372839325481)\n",
      "--------------------------------------------------------------------------------\n",
      "Category:  BIRDS\n",
      "Power_divergenceResult(statistic=5.570625173416382, pvalue=0.018264238582166005)\n",
      "--------------------------------------------------------------------------------\n"
     ]
    }
   ],
   "source": [
    "#Run chi-square test on categories\n",
    "chi_squared_2 = []\n",
    "for category,observed in observed_expected_cat_dict.items():\n",
    "    total = sum(observed)\n",
    "    total_prop = total / jeopardy.shape[0]\n",
    "    high_value_expected = total_prop * high_value_count\n",
    "    low_value_expected = total_prop * low_value_count\n",
    "    \n",
    "    observed_final = np.array([observed[0],observed[1]])\n",
    "    expected_final = np.array([high_value_expected,low_value_expected])\n",
    "    chi_square = chisquare(observed_final,expected_final)\n",
    "    print('Category: ',category)\n",
    "    print(chi_square)\n",
    "    print('-'*80)\n",
    "    chi_squared_2.append(chisquare(observed_final,expected_final))"
   ]
  },
  {
   "cell_type": "markdown",
   "metadata": {},
   "source": [
    "Looking at the p-values, the ones that are below the 5% threshold are the following:\n",
    "- Television\n",
    "- Before & After\n",
    "- Sports \n",
    "- Science\n",
    "- Birds\n",
    "\n",
    "Let's visualize this further"
   ]
  },
  {
   "cell_type": "code",
   "execution_count": 27,
   "metadata": {},
   "outputs": [
    {
     "data": {
      "text/html": [
       "<div>\n",
       "<style scoped>\n",
       "    .dataframe tbody tr th:only-of-type {\n",
       "        vertical-align: middle;\n",
       "    }\n",
       "\n",
       "    .dataframe tbody tr th {\n",
       "        vertical-align: top;\n",
       "    }\n",
       "\n",
       "    .dataframe thead th {\n",
       "        text-align: right;\n",
       "    }\n",
       "</style>\n",
       "<table border=\"1\" class=\"dataframe\">\n",
       "  <thead>\n",
       "    <tr style=\"text-align: right;\">\n",
       "      <th>high_value</th>\n",
       "      <th>0</th>\n",
       "      <th>1</th>\n",
       "    </tr>\n",
       "    <tr>\n",
       "      <th>Category</th>\n",
       "      <th></th>\n",
       "      <th></th>\n",
       "    </tr>\n",
       "  </thead>\n",
       "  <tbody>\n",
       "    <tr>\n",
       "      <th>BEFORE &amp; AFTER</th>\n",
       "      <td>21</td>\n",
       "      <td>19</td>\n",
       "    </tr>\n",
       "    <tr>\n",
       "      <th>BIRDS</th>\n",
       "      <td>29</td>\n",
       "      <td>2</td>\n",
       "    </tr>\n",
       "    <tr>\n",
       "      <th>SCIENCE</th>\n",
       "      <td>20</td>\n",
       "      <td>15</td>\n",
       "    </tr>\n",
       "    <tr>\n",
       "      <th>SPORTS</th>\n",
       "      <td>30</td>\n",
       "      <td>6</td>\n",
       "    </tr>\n",
       "    <tr>\n",
       "      <th>TELEVISION</th>\n",
       "      <td>45</td>\n",
       "      <td>6</td>\n",
       "    </tr>\n",
       "  </tbody>\n",
       "</table>\n",
       "</div>"
      ],
      "text/plain": [
       "high_value       0   1\n",
       "Category              \n",
       "BEFORE & AFTER  21  19\n",
       "BIRDS           29   2\n",
       "SCIENCE         20  15\n",
       "SPORTS          30   6\n",
       "TELEVISION      45   6"
      ]
     },
     "execution_count": 27,
     "metadata": {},
     "output_type": "execute_result"
    }
   ],
   "source": [
    "#Filter based on categories and create cross table of high vs low value question count\n",
    "cats = ['TELEVISION','BEFORE & AFTER','SPORTS','SCIENCE','BIRDS']\n",
    "filtered_cats = jeopardy[jeopardy['Category'].isin(cats)]\n",
    "cats_cross_table = pd.crosstab(filtered_cats['Category'],filtered_cats['high_value'])\n",
    "cats_cross_table"
   ]
  },
  {
   "cell_type": "code",
   "execution_count": 28,
   "metadata": {},
   "outputs": [
    {
     "data": {
      "text/plain": [
       "<matplotlib.legend.Legend at 0x12e60e940>"
      ]
     },
     "execution_count": 28,
     "metadata": {},
     "output_type": "execute_result"
    },
    {
     "data": {
      "image/png": "[encoded data removed]",
      "text/plain": [
       "<Figure size 864x576 with 1 Axes>"
      ]
     },
     "metadata": {
      "needs_background": "light"
     },
     "output_type": "display_data"
    }
   ],
   "source": [
    "#visulaize the cross table\n",
    "cats_cross_table.plot.bar(rot=0,figsize=(12,8))\n",
    "plt.ylabel('Questions')\n",
    "plt.legend(['Low Level','High Level'])"
   ]
  },
  {
   "cell_type": "markdown",
   "metadata": {},
   "source": [
    "Ultimately, if we want to focus on the categories that have the potential to net us the highest value, we should focus on <code>'Science'</code> and <code>'Before & After'</code>."
   ]
  },
  {
   "cell_type": "markdown",
   "metadata": {},
   "source": [
    "Out of curiousity, we can see which rounds the top 2 High Value categories appear in."
   ]
  },
  {
   "cell_type": "code",
   "execution_count": 29,
   "metadata": {},
   "outputs": [],
   "source": [
    "#filter based on category\n",
    "b_and_a = filtered_cats[filtered_cats['Category'] == 'BEFORE & AFTER']\n",
    "science = filtered_cats[filtered_cats['Category'] == 'SCIENCE']"
   ]
  },
  {
   "cell_type": "code",
   "execution_count": 30,
   "metadata": {},
   "outputs": [
    {
     "data": {
      "text/plain": [
       "Double Jeopardy!    30\n",
       "Jeopardy!           10\n",
       "Name: Round, dtype: int64"
      ]
     },
     "execution_count": 30,
     "metadata": {},
     "output_type": "execute_result"
    }
   ],
   "source": [
    "#round frequency for before & after\n",
    "b_and_a['Round'].value_counts()"
   ]
  },
  {
   "cell_type": "code",
   "execution_count": 31,
   "metadata": {},
   "outputs": [
    {
     "data": {
      "text/plain": [
       "Double Jeopardy!    25\n",
       "Jeopardy!           10\n",
       "Name: Round, dtype: int64"
      ]
     },
     "execution_count": 31,
     "metadata": {},
     "output_type": "execute_result"
    }
   ],
   "source": [
    "#round frequency for science\n",
    "science['Round'].value_counts()"
   ]
  },
  {
   "cell_type": "markdown",
   "metadata": {},
   "source": [
    "As expeceted, most of the questions are in Double Jeopardy.  This is the round that offers the highest value questions."
   ]
  },
  {
   "cell_type": "markdown",
   "metadata": {},
   "source": [
    "# Conclusion\n",
    "Winning at Jeopardy is definitely a skill and those who are very good are more than likely an expert in numerous categories.  Analayzing a small portion of a larger dataset, we found that it's very tough to gain an advantage through looking at patterns in the types of questions via terminology used.  We were however able to find a couple of categories that are used frequently and have the potential to net higher values.  These were <code>'Science'</code> and <code>'Before & After'</code>.  Also, Double Jeopardy had the highest amount of high value questions as well.  The contestant can use that knowledge to gain an advantage.\n",
    "\n",
    "A great place for a contestant to study, would be to focus on frequently used categories and the categories that offer high value questions."
   ]
  },
  {
   "cell_type": "code",
   "execution_count": null,
   "metadata": {},
   "outputs": [],
   "source": []
  }
 ],
 "metadata": {
  "kernelspec": {
   "display_name": "Python 3",
   "language": "python",
   "name": "python3"
  },
  "language_info": {
   "codemirror_mode": {
    "name": "ipython",
    "version": 3
   },
   "file_extension": ".py",
   "mimetype": "text/x-python",
   "name": "python",
   "nbconvert_exporter": "python",
   "pygments_lexer": "ipython3",
   "version": "3.8.3"
  }
 },
 "nbformat": 4,
 "nbformat_minor": 1
}
