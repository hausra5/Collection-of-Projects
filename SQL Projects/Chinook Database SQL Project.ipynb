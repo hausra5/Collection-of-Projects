{
 "cells": [
  {
   "cell_type": "markdown",
   "metadata": {},
   "source": [
    "# Analyzing the Chinook Database\n",
    "The Chinook Database is a fictional digital music shop, similar to a mini iTunes store.  We'll use SQL to query on the database and run a few different analyses.\n",
    "# The Chinook Schema\n",
    "![chinook_schema](Chinook_Schema.png)"
   ]
  },
  {
   "cell_type": "markdown",
   "metadata": {},
   "source": [
    "# Load the database into Jupyter Notebook"
   ]
  },
  {
   "cell_type": "code",
   "execution_count": 1,
   "metadata": {
    "scrolled": false
   },
   "outputs": [],
   "source": [
    "%%capture\n",
    "%load_ext sql\n",
    "%sql sqlite:///chinook.db\n",
    "from IPython.display import HTML\n",
    "%%html"
   ]
  },
  {
   "cell_type": "markdown",
   "metadata": {},
   "source": [
    "# Explore the database to see if it matches the schema above"
   ]
  },
  {
   "cell_type": "code",
   "execution_count": 2,
   "metadata": {
    "scrolled": false
   },
   "outputs": [
    {
     "name": "stdout",
     "output_type": "stream",
     "text": [
      " * sqlite:///chinook.db\n",
      "Done.\n"
     ]
    },
    {
     "data": {
      "text/html": [
       "<table>\n",
       "    <thead>\n",
       "        <tr>\n",
       "            <th>name</th>\n",
       "            <th>type</th>\n",
       "        </tr>\n",
       "    </thead>\n",
       "    <tbody>\n",
       "        <tr>\n",
       "            <td>album</td>\n",
       "            <td>table</td>\n",
       "        </tr>\n",
       "        <tr>\n",
       "            <td>artist</td>\n",
       "            <td>table</td>\n",
       "        </tr>\n",
       "        <tr>\n",
       "            <td>customer</td>\n",
       "            <td>table</td>\n",
       "        </tr>\n",
       "        <tr>\n",
       "            <td>employee</td>\n",
       "            <td>table</td>\n",
       "        </tr>\n",
       "        <tr>\n",
       "            <td>genre</td>\n",
       "            <td>table</td>\n",
       "        </tr>\n",
       "        <tr>\n",
       "            <td>invoice</td>\n",
       "            <td>table</td>\n",
       "        </tr>\n",
       "        <tr>\n",
       "            <td>invoice_line</td>\n",
       "            <td>table</td>\n",
       "        </tr>\n",
       "        <tr>\n",
       "            <td>media_type</td>\n",
       "            <td>table</td>\n",
       "        </tr>\n",
       "        <tr>\n",
       "            <td>playlist</td>\n",
       "            <td>table</td>\n",
       "        </tr>\n",
       "        <tr>\n",
       "            <td>playlist_track</td>\n",
       "            <td>table</td>\n",
       "        </tr>\n",
       "        <tr>\n",
       "            <td>track</td>\n",
       "            <td>table</td>\n",
       "        </tr>\n",
       "    </tbody>\n",
       "</table>"
      ],
      "text/plain": [
       "[('album', 'table'),\n",
       " ('artist', 'table'),\n",
       " ('customer', 'table'),\n",
       " ('employee', 'table'),\n",
       " ('genre', 'table'),\n",
       " ('invoice', 'table'),\n",
       " ('invoice_line', 'table'),\n",
       " ('media_type', 'table'),\n",
       " ('playlist', 'table'),\n",
       " ('playlist_track', 'table'),\n",
       " ('track', 'table')]"
      ]
     },
     "execution_count": 2,
     "metadata": {},
     "output_type": "execute_result"
    }
   ],
   "source": [
    "%%sql\n",
    "SELECT name,type\n",
    "FROM sqlite_master\n",
    "WHERE type in ('table','view');"
   ]
  },
  {
   "cell_type": "markdown",
   "metadata": {},
   "source": [
    "# USA Best Selling Genres\n",
    "We're tasked with finding the first three albums from a list of four Artists to be added to the online store.  All we currently know about the Artist's is the Genre.  They are as following:\n",
    "\n",
    "| Artist Name | Genre |\n",
    "| --- | --- |\n",
    "| Regal | Hip-Hop |\n",
    "| Red Tone | Punk |\n",
    "| Meteor and the Girls | Pop |\n",
    "| Slim Jim Bites | Blues |"
   ]
  },
  {
   "cell_type": "markdown",
   "metadata": {},
   "source": [
    "We are interested in finding each Genre and returning the number of tracks sold in the USA by absolute numbers and percentages.  This way we can make a recommendation on which Albums to add based on best selling Genres"
   ]
  },
  {
   "cell_type": "code",
   "execution_count": 3,
   "metadata": {
    "scrolled": false
   },
   "outputs": [
    {
     "name": "stdout",
     "output_type": "stream",
     "text": [
      " * sqlite:///chinook.db\n",
      "Done.\n"
     ]
    },
    {
     "data": {
      "text/html": [
       "<table>\n",
       "    <thead>\n",
       "        <tr>\n",
       "            <th>genre</th>\n",
       "            <th>invoice_quantity</th>\n",
       "            <th>percent_of_total_tracks</th>\n",
       "        </tr>\n",
       "    </thead>\n",
       "    <tbody>\n",
       "        <tr>\n",
       "            <td>Rock</td>\n",
       "            <td>561</td>\n",
       "            <td>53.38%</td>\n",
       "        </tr>\n",
       "        <tr>\n",
       "            <td>Alternative &amp; Punk</td>\n",
       "            <td>130</td>\n",
       "            <td>12.37%</td>\n",
       "        </tr>\n",
       "        <tr>\n",
       "            <td>Metal</td>\n",
       "            <td>124</td>\n",
       "            <td>11.8%</td>\n",
       "        </tr>\n",
       "        <tr>\n",
       "            <td>R&amp;B/Soul</td>\n",
       "            <td>53</td>\n",
       "            <td>5.04%</td>\n",
       "        </tr>\n",
       "        <tr>\n",
       "            <td>Blues</td>\n",
       "            <td>36</td>\n",
       "            <td>3.43%</td>\n",
       "        </tr>\n",
       "        <tr>\n",
       "            <td>Alternative</td>\n",
       "            <td>35</td>\n",
       "            <td>3.33%</td>\n",
       "        </tr>\n",
       "        <tr>\n",
       "            <td>Latin</td>\n",
       "            <td>22</td>\n",
       "            <td>2.09%</td>\n",
       "        </tr>\n",
       "        <tr>\n",
       "            <td>Pop</td>\n",
       "            <td>22</td>\n",
       "            <td>2.09%</td>\n",
       "        </tr>\n",
       "        <tr>\n",
       "            <td>Hip Hop/Rap</td>\n",
       "            <td>20</td>\n",
       "            <td>1.9%</td>\n",
       "        </tr>\n",
       "        <tr>\n",
       "            <td>Jazz</td>\n",
       "            <td>14</td>\n",
       "            <td>1.33%</td>\n",
       "        </tr>\n",
       "    </tbody>\n",
       "</table>"
      ],
      "text/plain": [
       "[('Rock', 561, '53.38%'),\n",
       " ('Alternative & Punk', 130, '12.37%'),\n",
       " ('Metal', 124, '11.8%'),\n",
       " ('R&B/Soul', 53, '5.04%'),\n",
       " ('Blues', 36, '3.43%'),\n",
       " ('Alternative', 35, '3.33%'),\n",
       " ('Latin', 22, '2.09%'),\n",
       " ('Pop', 22, '2.09%'),\n",
       " ('Hip Hop/Rap', 20, '1.9%'),\n",
       " ('Jazz', 14, '1.33%')]"
      ]
     },
     "execution_count": 3,
     "metadata": {},
     "output_type": "execute_result"
    }
   ],
   "source": [
    "%%sql\n",
    "WITH\n",
    "    total as (\n",
    "            SELECT \n",
    "                i.invoice_id as invoice_id, \n",
    "                i.billing_country as country,\n",
    "                il.track_id as track_id,\n",
    "                SUM(il.quantity) as invoice_quantity,\n",
    "                t.genre_id,\n",
    "                g.name as genre\n",
    "            FROM invoice as i\n",
    "            INNER JOIN invoice_line as il ON il.invoice_id = i.invoice_id\n",
    "            INNER JOIN track as t ON t.track_id = il.track_id\n",
    "            INNER JOIN genre as g ON g.genre_id = t.genre_id\n",
    "            WHERE country ='USA'\n",
    "            GROUP BY g.name\n",
    "            )\n",
    "SELECT \n",
    "    genre,\n",
    "    invoice_quantity,\n",
    "    round((CAST(invoice_quantity as Float) \n",
    "               / CAST(\n",
    "                       (SELECT \n",
    "                            sum(invoice_quantity) \n",
    "                            FROM total) \n",
    "                        as Float)) * 100,2) \n",
    "                            || '%' AS percent_of_total_tracks\n",
    "    FROM total\n",
    "    ORDER BY invoice_quantity DESC\n",
    "    LIMIT 10;"
   ]
  },
  {
   "cell_type": "markdown",
   "metadata": {},
   "source": [
    "As we can see, the top three from the four Artists in question to be added to the marketplace should be in order Red Tone (Punk), Slim Jim Bites (Blues), and Meteor and the Girls (Pop).  However, the most popular Genre is 'Rock' so we should try our best to focus on securing Rock Artists."
   ]
  },
  {
   "cell_type": "markdown",
   "metadata": {},
   "source": [
    "# Top Performing Sales Reps\n",
    "Now we are tasked with finding how the Sales Reps are performing.  We can find this data by aggregating total sales for each employee name.  If we also include hire date, we can make assumptions on if length of employement may account for total sales."
   ]
  },
  {
   "cell_type": "code",
   "execution_count": 4,
   "metadata": {
    "scrolled": false
   },
   "outputs": [
    {
     "name": "stdout",
     "output_type": "stream",
     "text": [
      " * sqlite:///chinook.db\n",
      "Done.\n"
     ]
    },
    {
     "data": {
      "text/html": [
       "<table>\n",
       "    <thead>\n",
       "        <tr>\n",
       "            <th>employee_name</th>\n",
       "            <th>total_sales</th>\n",
       "            <th>hire_date</th>\n",
       "        </tr>\n",
       "    </thead>\n",
       "    <tbody>\n",
       "        <tr>\n",
       "            <td>Jane Peacock</td>\n",
       "            <td>$1731</td>\n",
       "            <td>2017-04-01 00:00:00</td>\n",
       "        </tr>\n",
       "        <tr>\n",
       "            <td>Margaret Park</td>\n",
       "            <td>$1584</td>\n",
       "            <td>2017-05-03 00:00:00</td>\n",
       "        </tr>\n",
       "        <tr>\n",
       "            <td>Steve Johnson</td>\n",
       "            <td>$1393</td>\n",
       "            <td>2017-10-17 00:00:00</td>\n",
       "        </tr>\n",
       "    </tbody>\n",
       "</table>"
      ],
      "text/plain": [
       "[('Jane Peacock', '$1731', '2017-04-01 00:00:00'),\n",
       " ('Margaret Park', '$1584', '2017-05-03 00:00:00'),\n",
       " ('Steve Johnson', '$1393', '2017-10-17 00:00:00')]"
      ]
     },
     "execution_count": 4,
     "metadata": {},
     "output_type": "execute_result"
    }
   ],
   "source": [
    "%%sql\n",
    "    WITH\n",
    "        sales as (\n",
    "            SELECT\n",
    "                e.employee_id,\n",
    "                e.birthdate,\n",
    "                e.hire_date,\n",
    "                e.state,\n",
    "                e.title,\n",
    "                e.first_name || \" \" || e.last_name as employee_name,\n",
    "                c.customer_id,\n",
    "                \"$\" || CAST(SUM(i.total) as Int) AS total_sales\n",
    "            FROM employee as e\n",
    "            INNER JOIN customer as c ON c.support_rep_id = e.employee_id\n",
    "            INNER JOIN invoice as i ON i.customer_id = c.customer_id\n",
    "            WHERE title = 'Sales Support Agent'\n",
    "            GROUP BY employee_id\n",
    "                )\n",
    "SELECT\n",
    "    employee_name,\n",
    "    total_sales,\n",
    "    hire_date\n",
    "FROM sales;\n"
   ]
  },
  {
   "cell_type": "markdown",
   "metadata": {},
   "source": [
    "Although Jane Peacock has the most total sales, she also has been with the company the longest.   The length of employment seems to be the most likely reason any employee is performing better than the next. "
   ]
  },
  {
   "cell_type": "markdown",
   "metadata": {},
   "source": [
    "# Purchases from Different Countries\n",
    "We are now tasked with finding data from each country.  We want to know of any potential countries that might be lucrative to advertise to that will give us the best bang for our buck.  In order to discover this, we'd like to know the following for each country:\n",
    "- Total number of customers\n",
    "- Total value of sales\n",
    "- Average value of sales per customer\n",
    "- average order value\n",
    "\n",
    "If a country only has one customer, we'll add them to a new group named \"Other\".  This will help organize the data in a more meaningful way"
   ]
  },
  {
   "cell_type": "code",
   "execution_count": 5,
   "metadata": {
    "scrolled": false
   },
   "outputs": [
    {
     "name": "stdout",
     "output_type": "stream",
     "text": [
      " * sqlite:///chinook.db\n",
      "Done.\n"
     ]
    },
    {
     "data": {
      "text/html": [
       "<table>\n",
       "    <thead>\n",
       "        <tr>\n",
       "            <th>country</th>\n",
       "            <th>customers</th>\n",
       "            <th>total_sales</th>\n",
       "            <th>avg_order_value</th>\n",
       "            <th>avg_customer_total</th>\n",
       "        </tr>\n",
       "    </thead>\n",
       "    <tbody>\n",
       "        <tr>\n",
       "            <td>USA</td>\n",
       "            <td>13</td>\n",
       "            <td>$1040.49</td>\n",
       "            <td>$7.94</td>\n",
       "            <td>$80.04</td>\n",
       "        </tr>\n",
       "        <tr>\n",
       "            <td>Canada</td>\n",
       "            <td>8</td>\n",
       "            <td>$535.59</td>\n",
       "            <td>$7.05</td>\n",
       "            <td>$66.95</td>\n",
       "        </tr>\n",
       "        <tr>\n",
       "            <td>Brazil</td>\n",
       "            <td>5</td>\n",
       "            <td>$427.68</td>\n",
       "            <td>$7.01</td>\n",
       "            <td>$85.54</td>\n",
       "        </tr>\n",
       "        <tr>\n",
       "            <td>France</td>\n",
       "            <td>5</td>\n",
       "            <td>$389.07</td>\n",
       "            <td>$7.78</td>\n",
       "            <td>$77.81</td>\n",
       "        </tr>\n",
       "        <tr>\n",
       "            <td>Germany</td>\n",
       "            <td>4</td>\n",
       "            <td>$334.62</td>\n",
       "            <td>$8.16</td>\n",
       "            <td>$83.66</td>\n",
       "        </tr>\n",
       "        <tr>\n",
       "            <td>Czech Republic</td>\n",
       "            <td>2</td>\n",
       "            <td>$273.24</td>\n",
       "            <td>$9.11</td>\n",
       "            <td>$136.62</td>\n",
       "        </tr>\n",
       "        <tr>\n",
       "            <td>United Kingdom</td>\n",
       "            <td>3</td>\n",
       "            <td>$245.52</td>\n",
       "            <td>$8.77</td>\n",
       "            <td>$81.84</td>\n",
       "        </tr>\n",
       "        <tr>\n",
       "            <td>Portugal</td>\n",
       "            <td>2</td>\n",
       "            <td>$185.13</td>\n",
       "            <td>$6.38</td>\n",
       "            <td>$92.57</td>\n",
       "        </tr>\n",
       "        <tr>\n",
       "            <td>India</td>\n",
       "            <td>2</td>\n",
       "            <td>$183.15</td>\n",
       "            <td>$8.72</td>\n",
       "            <td>$91.58</td>\n",
       "        </tr>\n",
       "        <tr>\n",
       "            <td>Other</td>\n",
       "            <td>15</td>\n",
       "            <td>$1094.94</td>\n",
       "            <td>$7.45</td>\n",
       "            <td>$73.0</td>\n",
       "        </tr>\n",
       "    </tbody>\n",
       "</table>"
      ],
      "text/plain": [
       "[('USA', 13, '$1040.49', '$7.94', '$80.04'),\n",
       " ('Canada', 8, '$535.59', '$7.05', '$66.95'),\n",
       " ('Brazil', 5, '$427.68', '$7.01', '$85.54'),\n",
       " ('France', 5, '$389.07', '$7.78', '$77.81'),\n",
       " ('Germany', 4, '$334.62', '$8.16', '$83.66'),\n",
       " ('Czech Republic', 2, '$273.24', '$9.11', '$136.62'),\n",
       " ('United Kingdom', 3, '$245.52', '$8.77', '$81.84'),\n",
       " ('Portugal', 2, '$185.13', '$6.38', '$92.57'),\n",
       " ('India', 2, '$183.15', '$8.72', '$91.58'),\n",
       " ('Other', 15, '$1094.94', '$7.45', '$73.0')]"
      ]
     },
     "execution_count": 5,
     "metadata": {},
     "output_type": "execute_result"
    }
   ],
   "source": [
    "%%sql\n",
    "    WITH \n",
    "        country_sales as (\n",
    "            SELECT\n",
    "                c.customer_id,\n",
    "                CASE\n",
    "                    WHEN (\n",
    "                          SELECT COUNT(*)\n",
    "                          FROM customer\n",
    "                          where country = c.country\n",
    "                        ) = 1 THEN 'Other'\n",
    "                    ELSE c.country\n",
    "                END AS country,\n",
    "                i.total\n",
    "            FROM customer as c\n",
    "            INNER JOIN invoice as i ON i.customer_id = c.customer_id\n",
    "            ),\n",
    "        country_totals as (\n",
    "            SELECT\n",
    "                country,\n",
    "                SUM(total) as total_sales,\n",
    "                AVG(total) as avg_order_country\n",
    "            FROM country_sales\n",
    "            GROUP BY country\n",
    "            ),\n",
    "        country_total_customers as (\n",
    "            SELECT \n",
    "                country,\n",
    "                COUNT(customer_id) as country_customers\n",
    "            FROM (SELECT * FROM country_sales\n",
    "                  GROUP BY customer_id\n",
    "                 ) \n",
    "            GROUP BY country\n",
    "            ),\n",
    "        overall_totals as (\n",
    "            SELECT \n",
    "                ct.country,\n",
    "                ctc.country_customers AS customers,\n",
    "                ct.total_sales,\n",
    "                ct.total_sales / ctc.country_customers AS avg_customer_total,\n",
    "                ct.avg_order_country as avg_order_value\n",
    "\n",
    "            FROM country_totals as ct\n",
    "            INNER JOIN country_total_customers as ctc ON ctc.country = ct.country\n",
    "            GROUP BY ct.country\n",
    "            ORDER BY ct.total_sales DESC\n",
    "            )\n",
    "\n",
    "SELECT\n",
    "    country,\n",
    "    customers,\n",
    "    '$' || ROUND(total_sales,2) as total_sales,\n",
    "    '$' || ROUND(avg_order_value,2) as avg_order_value,\n",
    "    '$' || ROUND(avg_customer_total,2) as avg_customer_total\n",
    "FROM (\n",
    "    SELECT\n",
    "        ot.*,\n",
    "        CASE\n",
    "            WHEN ot.country = 'Other' THEN 1\n",
    "            ELSE 0\n",
    "        END AS SORT\n",
    "    FROM overall_totals as ot)\n",
    "ORDER BY sort ASC;"
   ]
  },
  {
   "cell_type": "markdown",
   "metadata": {},
   "source": [
    "# Importing the above SQL query to a pandas DataFrame\n",
    "We can do this to help with visualizations"
   ]
  },
  {
   "cell_type": "code",
   "execution_count": 6,
   "metadata": {
    "scrolled": false
   },
   "outputs": [],
   "source": [
    "import pandas as pd\n",
    "import sqlite3\n",
    "country_sales = pd.read_sql(\"\"\"WITH \n",
    "        country_sales as (\n",
    "            SELECT\n",
    "                c.customer_id,\n",
    "                CASE\n",
    "                    WHEN (\n",
    "                          SELECT COUNT(*)\n",
    "                          FROM customer\n",
    "                          where country = c.country\n",
    "                        ) = 1 THEN 'Other'\n",
    "                    ELSE c.country\n",
    "                END AS country,\n",
    "                i.total\n",
    "            FROM customer as c\n",
    "            INNER JOIN invoice as i ON i.customer_id = c.customer_id\n",
    "            ),\n",
    "        country_totals as (\n",
    "            SELECT\n",
    "                country,\n",
    "                SUM(total) as total_sales,\n",
    "                AVG(total) as avg_order_country\n",
    "            FROM country_sales\n",
    "            GROUP BY country\n",
    "            ),\n",
    "        country_total_customers as (\n",
    "            SELECT \n",
    "                country,\n",
    "                COUNT(customer_id) as country_customers\n",
    "            FROM (SELECT * FROM country_sales\n",
    "                  GROUP BY customer_id\n",
    "                 ) \n",
    "            GROUP BY country\n",
    "            ),\n",
    "        overall_totals as (\n",
    "            SELECT \n",
    "                ct.country,\n",
    "                ctc.country_customers AS customers,\n",
    "                ct.total_sales,\n",
    "                ct.total_sales / ctc.country_customers AS avg_customer_total,\n",
    "                ct.avg_order_country as avg_order_value\n",
    "\n",
    "            FROM country_totals as ct\n",
    "            INNER JOIN country_total_customers as ctc ON ctc.country = ct.country\n",
    "            GROUP BY ct.country\n",
    "            ORDER BY ct.total_sales DESC\n",
    "            )\n",
    "\n",
    "SELECT\n",
    "    country,\n",
    "    customers,\n",
    "    ROUND(total_sales,2) as total_sales,\n",
    "    ROUND(avg_order_value,2) as avg_order_value,\n",
    "    ROUND(avg_customer_total,2) as avg_customer_total\n",
    "FROM (\n",
    "    SELECT\n",
    "        ot.*,\n",
    "        CASE\n",
    "            WHEN ot.country = 'Other' THEN 1\n",
    "            ELSE 0\n",
    "        END AS SORT\n",
    "    FROM overall_totals as ot)\n",
    "ORDER BY sort ASC;\"\"\", con = sqlite3.connect('chinook.db'))\n",
    "                     "
   ]
  },
  {
   "cell_type": "code",
   "execution_count": 7,
   "metadata": {
    "scrolled": false
   },
   "outputs": [],
   "source": [
    "country_sales.set_index('country',inplace=True)"
   ]
  },
  {
   "cell_type": "code",
   "execution_count": 8,
   "metadata": {
    "scrolled": false
   },
   "outputs": [],
   "source": [
    "columns = ['total_sales','avg_order_value','avg_customer_total']\n",
    "for c in columns:\n",
    "    country_sales[c] = pd.to_numeric(country_sales[c],errors=\"coerce\")"
   ]
  },
  {
   "cell_type": "code",
   "execution_count": 9,
   "metadata": {
    "scrolled": false
   },
   "outputs": [
    {
     "data": {
      "text/plain": [
       "<matplotlib.axes._subplots.AxesSubplot at 0x11a5114f0>"
      ]
     },
     "execution_count": 9,
     "metadata": {},
     "output_type": "execute_result"
    },
    {
     "data": {
      "image/png": "[encoded data removed]",
      "text/plain": [
       "<Figure size 720x360 with 1 Axes>"
      ]
     },
     "metadata": {
      "needs_background": "light"
     },
     "output_type": "display_data"
    }
   ],
   "source": [
    "country_sales = country_sales.sort_values(by='customers')\n",
    "country_sales[['avg_order_value','customers']].plot.bar(figsize = (10,5))"
   ]
  },
  {
   "cell_type": "markdown",
   "metadata": {},
   "source": [
    "Since we're looking for new countries to advertise into, we should focus on countries that don't have a lot of customers yet.  Rather than just using that as the only metric, we can look at average customer total.  This will help us decide that these customers might be more willing to spend more money for tracks.  The top three would be in order Czech Republic, United Kingdom, and India.  Portugal has the least amount of customers, but the average order value is lower."
   ]
  },
  {
   "cell_type": "markdown",
   "metadata": {},
   "source": [
    "# Album Purchasing Habits\n",
    "We're now tasked with helping management decide if they should they should focus only on purchasing the most popular tracks from each album instead of full albums.\n",
    "\n",
    "We can help them make this decision by finding out the percentage of purchases that are individual tracks vs entire albums.  Some albums are only one song, so we'll filter these out into a new category."
   ]
  },
  {
   "cell_type": "code",
   "execution_count": 10,
   "metadata": {
    "scrolled": false
   },
   "outputs": [
    {
     "name": "stdout",
     "output_type": "stream",
     "text": [
      " * sqlite:///chinook.db\n",
      "Done.\n"
     ]
    },
    {
     "data": {
      "text/html": [
       "<table>\n",
       "    <thead>\n",
       "        <tr>\n",
       "            <th>type</th>\n",
       "            <th>invoices</th>\n",
       "            <th>percentage_of_all_invoices</th>\n",
       "            <th>total_tracks</th>\n",
       "        </tr>\n",
       "    </thead>\n",
       "    <tbody>\n",
       "        <tr>\n",
       "            <td>Full Album Purchase</td>\n",
       "            <td>111</td>\n",
       "            <td>18.08%</td>\n",
       "            <td>1473</td>\n",
       "        </tr>\n",
       "        <tr>\n",
       "            <td>Partial Album Purchase</td>\n",
       "            <td>497</td>\n",
       "            <td>80.94%</td>\n",
       "            <td>3186</td>\n",
       "        </tr>\n",
       "        <tr>\n",
       "            <td>Whole Album a Single</td>\n",
       "            <td>6</td>\n",
       "            <td>0.98%</td>\n",
       "            <td>98</td>\n",
       "        </tr>\n",
       "    </tbody>\n",
       "</table>"
      ],
      "text/plain": [
       "[('Full Album Purchase', 111, '18.08%', 1473),\n",
       " ('Partial Album Purchase', 497, '80.94%', 3186),\n",
       " ('Whole Album a Single', 6, '0.98%', 98)]"
      ]
     },
     "execution_count": 10,
     "metadata": {},
     "output_type": "execute_result"
    }
   ],
   "source": [
    "%%sql\n",
    "WITH \n",
    "    invoice as (\n",
    "        SELECT \n",
    "            il.invoice_id, \n",
    "            il.track_id, \n",
    "            t.album_id \n",
    "        FROM invoice_line as il\n",
    "        INNER JOIN track as t ON t.track_id = il.track_id\n",
    "    ),\n",
    "    album_track_count AS (\n",
    "        SELECT album_id,\n",
    "        COUNT(track_id) as count_track\n",
    "        FROM track\n",
    "        GROUP BY album_id\n",
    "    ),\n",
    "    album_purchased as (\n",
    "        SELECT \n",
    "            atc.count_track, \n",
    "            COUNT(i.track_id) as tracks_purchased,\n",
    "            i.invoice_id, \n",
    "            i.album_id,\n",
    "            CASE\n",
    "                WHEN atc.count_track = 1 THEN 'Whole Album a Single'\n",
    "                WHEN COUNT(i.track_id) = atc.count_track THEN 'Full Album Purchase'\n",
    "                ELSE 'Partial Album Purchase'\n",
    "                END AS type_of_purchase\n",
    "        FROM invoice as i\n",
    "        INNER JOIN album_track_count AS atc ON atc.album_id = i.album_id\n",
    "        GROUP BY i.invoice_id, i.album_id\n",
    "    ),\n",
    "    invoice_count_albums as (\n",
    "        SELECT\n",
    "            COUNT(invoice_ID) as invoice_count,\n",
    "            type_of_purchase\n",
    "        FROM(\n",
    "            SELECT\n",
    "                type_of_purchase,\n",
    "                invoice_id  \n",
    "            FROM album_purchased \n",
    "            GROUP BY invoice_id)\n",
    "        GROUP BY type_of_purchase\n",
    "    ),\n",
    "    album_purchased_stats as (\n",
    "        SELECT \n",
    "            ap.type_of_purchase as type,\n",
    "            ica.invoice_count as invoices,\n",
    "                ROUND(CAST(ica.invoice_count as Float) / \n",
    "                (SELECT SUM(invoice_count) FROM invoice_count_albums) * 100,2)\n",
    "                || '%'\n",
    "                AS percentage_of_all_invoices,\n",
    "            SUM(ap.tracks_purchased) as total_tracks \n",
    "        FROM album_purchased as ap\n",
    "        INNER JOIN invoice_count_albums as ica ON ica.type_of_purchase = ap.type_of_purchase\n",
    "        GROUP by ap.type_of_purchase)\n",
    "\n",
    "SELECT * from album_purchased_stats\n",
    "\n"
   ]
  },
  {
   "cell_type": "markdown",
   "metadata": {},
   "source": [
    "Based on these numbers, buying only individual tracks from record companies would cost them at minimum 18% in revenue.  Since this is almost a fifth of their revenue, I would strongly advocate against their new potential strategy.  Albums that are only a single won't account for much of a difference in either category so filtering them out doesn't make a big difference."
   ]
  },
  {
   "cell_type": "markdown",
   "metadata": {},
   "source": [
    "# Most Popular Artist\n",
    "It may be interesting to see the top 5 most popular artists based on being used in the most playlists"
   ]
  },
  {
   "cell_type": "code",
   "execution_count": 11,
   "metadata": {
    "scrolled": false
   },
   "outputs": [
    {
     "name": "stdout",
     "output_type": "stream",
     "text": [
      " * sqlite:///chinook.db\n",
      "Done.\n"
     ]
    },
    {
     "data": {
      "text/html": [
       "<table>\n",
       "    <thead>\n",
       "        <tr>\n",
       "            <th>Artist_Name</th>\n",
       "            <th>Playlist_Count</th>\n",
       "        </tr>\n",
       "    </thead>\n",
       "    <tbody>\n",
       "        <tr>\n",
       "            <td>Eugene Ormandy</td>\n",
       "            <td>7</td>\n",
       "        </tr>\n",
       "        <tr>\n",
       "            <td>The King&#x27;s Singers</td>\n",
       "            <td>6</td>\n",
       "        </tr>\n",
       "        <tr>\n",
       "            <td>English Concert &amp; Trevor Pinnock</td>\n",
       "            <td>6</td>\n",
       "        </tr>\n",
       "        <tr>\n",
       "            <td>Berliner Philharmoniker &amp; Herbert Von Karajan</td>\n",
       "            <td>6</td>\n",
       "        </tr>\n",
       "        <tr>\n",
       "            <td>Academy of St. Martin in the Fields &amp; Sir Neville Marriner</td>\n",
       "            <td>6</td>\n",
       "        </tr>\n",
       "    </tbody>\n",
       "</table>"
      ],
      "text/plain": [
       "[('Eugene Ormandy', 7),\n",
       " (\"The King's Singers\", 6),\n",
       " ('English Concert & Trevor Pinnock', 6),\n",
       " ('Berliner Philharmoniker & Herbert Von Karajan', 6),\n",
       " ('Academy of St. Martin in the Fields & Sir Neville Marriner', 6)]"
      ]
     },
     "execution_count": 11,
     "metadata": {},
     "output_type": "execute_result"
    }
   ],
   "source": [
    "%%sql\n",
    "with playlist as (\n",
    "                SELECT \n",
    "                    pt.playlist_id,\n",
    "                    pt.track_id,\n",
    "                    t.album_id,\n",
    "                    a.name \n",
    "                FROM playlist_track as pt\n",
    "                    INNER JOIN track as t on t.track_id = pt.track_id\n",
    "                    INNER JOIN album as al on al.album_id = t.album_id \n",
    "                    INNER JOIN artist as a on a.artist_id = al.artist_id\n",
    "                )\n",
    "SELECT \n",
    "    name as Artist_Name,\n",
    "    count(name) as Playlist_Count\n",
    "FROM\n",
    "(SELECT \n",
    "     DISTINCT name,\n",
    "     playlist_id \n",
    " from playlist)\n",
    "    GROUP BY name\n",
    "    ORDER by Playlist_Count DESC\n",
    "    LIMIT 5;"
   ]
  },
  {
   "cell_type": "markdown",
   "metadata": {},
   "source": [
    "It seems that the top 5 srtists that appear on the most different playlists are predominately classical music.  However, if we're most interested in the artists that appears the most frequently, regardless of playlist, we can group them in a different way.  "
   ]
  },
  {
   "cell_type": "code",
   "execution_count": 12,
   "metadata": {
    "scrolled": true
   },
   "outputs": [
    {
     "name": "stdout",
     "output_type": "stream",
     "text": [
      " * sqlite:///chinook.db\n",
      "Done.\n"
     ]
    },
    {
     "data": {
      "text/html": [
       "<table>\n",
       "    <thead>\n",
       "        <tr>\n",
       "            <th>name</th>\n",
       "            <th>count(name)</th>\n",
       "        </tr>\n",
       "    </thead>\n",
       "    <tbody>\n",
       "        <tr>\n",
       "            <td>Iron Maiden</td>\n",
       "            <td>516</td>\n",
       "        </tr>\n",
       "        <tr>\n",
       "            <td>U2</td>\n",
       "            <td>333</td>\n",
       "        </tr>\n",
       "        <tr>\n",
       "            <td>Metallica</td>\n",
       "            <td>296</td>\n",
       "        </tr>\n",
       "        <tr>\n",
       "            <td>Led Zeppelin</td>\n",
       "            <td>252</td>\n",
       "        </tr>\n",
       "        <tr>\n",
       "            <td>Deep Purple</td>\n",
       "            <td>226</td>\n",
       "        </tr>\n",
       "        <tr>\n",
       "            <td>Lost</td>\n",
       "            <td>184</td>\n",
       "        </tr>\n",
       "        <tr>\n",
       "            <td>Pearl Jam</td>\n",
       "            <td>177</td>\n",
       "        </tr>\n",
       "        <tr>\n",
       "            <td>Faith No More</td>\n",
       "            <td>145</td>\n",
       "        </tr>\n",
       "        <tr>\n",
       "            <td>Eric Clapton</td>\n",
       "            <td>145</td>\n",
       "        </tr>\n",
       "        <tr>\n",
       "            <td>Lenny Kravitz</td>\n",
       "            <td>143</td>\n",
       "        </tr>\n",
       "        <tr>\n",
       "            <td>Red Hot Chili Peppers</td>\n",
       "            <td>128</td>\n",
       "        </tr>\n",
       "        <tr>\n",
       "            <td>Van Halen</td>\n",
       "            <td>122</td>\n",
       "        </tr>\n",
       "        <tr>\n",
       "            <td>Os Paralamas Do Sucesso</td>\n",
       "            <td>119</td>\n",
       "        </tr>\n",
       "        <tr>\n",
       "            <td>Titãs</td>\n",
       "            <td>114</td>\n",
       "        </tr>\n",
       "        <tr>\n",
       "            <td>Guns N&#x27; Roses</td>\n",
       "            <td>114</td>\n",
       "        </tr>\n",
       "        <tr>\n",
       "            <td>Various Artists</td>\n",
       "            <td>112</td>\n",
       "        </tr>\n",
       "        <tr>\n",
       "            <td>The Rolling Stones</td>\n",
       "            <td>111</td>\n",
       "        </tr>\n",
       "        <tr>\n",
       "            <td>Chico Science &amp; Nação Zumbi</td>\n",
       "            <td>108</td>\n",
       "        </tr>\n",
       "        <tr>\n",
       "            <td>The Office</td>\n",
       "            <td>106</td>\n",
       "        </tr>\n",
       "        <tr>\n",
       "            <td>Kiss</td>\n",
       "            <td>104</td>\n",
       "        </tr>\n",
       "    </tbody>\n",
       "</table>"
      ],
      "text/plain": [
       "[('Iron Maiden', 516),\n",
       " ('U2', 333),\n",
       " ('Metallica', 296),\n",
       " ('Led Zeppelin', 252),\n",
       " ('Deep Purple', 226),\n",
       " ('Lost', 184),\n",
       " ('Pearl Jam', 177),\n",
       " ('Faith No More', 145),\n",
       " ('Eric Clapton', 145),\n",
       " ('Lenny Kravitz', 143),\n",
       " ('Red Hot Chili Peppers', 128),\n",
       " ('Van Halen', 122),\n",
       " ('Os Paralamas Do Sucesso', 119),\n",
       " ('Titãs', 114),\n",
       " (\"Guns N' Roses\", 114),\n",
       " ('Various Artists', 112),\n",
       " ('The Rolling Stones', 111),\n",
       " ('Chico Science & Nação Zumbi', 108),\n",
       " ('The Office', 106),\n",
       " ('Kiss', 104)]"
      ]
     },
     "execution_count": 12,
     "metadata": {},
     "output_type": "execute_result"
    }
   ],
   "source": [
    "%%sql\n",
    "with playlist as (\n",
    "                SELECT \n",
    "                    pt.playlist_id,\n",
    "                    pt.track_id,\n",
    "                    t.album_id,\n",
    "                    a.name \n",
    "                FROM playlist_track as pt\n",
    "                    INNER JOIN track as t on t.track_id = pt.track_id\n",
    "                    INNER JOIN album as al on al.album_id = t.album_id \n",
    "                    INNER JOIN artist as a on a.artist_id = al.artist_id\n",
    "                )\n",
    "SELECT name, count(name) FROM playlist group by name order by count(name) desc LIMIT 20;"
   ]
  },
  {
   "cell_type": "markdown",
   "metadata": {},
   "source": [
    "Here we can see that Iron Maiden is by far the most frequent and that even looking at the top 20, it's predeominantely Rock which makes more sense as we learned earlier that Rock accounts for over 50% of tracks in the store."
   ]
  },
  {
   "cell_type": "markdown",
   "metadata": {},
   "source": [
    "# Quantity of tracks purchased vs not purchased?\n",
    "Here we can see potentially the amount of tracks that haven't been purchased."
   ]
  },
  {
   "cell_type": "code",
   "execution_count": 13,
   "metadata": {
    "scrolled": true
   },
   "outputs": [
    {
     "name": "stdout",
     "output_type": "stream",
     "text": [
      " * sqlite:///chinook.db\n",
      "Done.\n"
     ]
    },
    {
     "data": {
      "text/html": [
       "<table>\n",
       "    <thead>\n",
       "        <tr>\n",
       "            <th>purchased_track_count</th>\n",
       "            <th>total_track_count</th>\n",
       "            <th>purchased_percent</th>\n",
       "            <th>not_purchased_percent</th>\n",
       "        </tr>\n",
       "    </thead>\n",
       "    <tbody>\n",
       "        <tr>\n",
       "            <td>1806</td>\n",
       "            <td>3503</td>\n",
       "            <td>0.52</td>\n",
       "            <td>0.48</td>\n",
       "        </tr>\n",
       "    </tbody>\n",
       "</table>"
      ],
      "text/plain": [
       "[(1806, 3503, 0.52, 0.48)]"
      ]
     },
     "execution_count": 13,
     "metadata": {},
     "output_type": "execute_result"
    }
   ],
   "source": [
    "%%sql\n",
    "    with purchased_tracks as (\n",
    "                            SELECT \n",
    "                                count(DISTINCT il.track_id) as purchased_track_count,\n",
    "                                (SELECT count(DISTINCT track_id) FROM track) as total_track_count\n",
    "                            FROM invoice_line as il\n",
    "    )\n",
    "SELECT \n",
    "    *,\n",
    "    round(CAST(purchased_track_count as float) / CAST(total_track_count as float),2) as purchased_percent,\n",
    "    round(1 - CAST(purchased_track_count as float) / CAST(total_track_count as float),2) as not_purchased_percent\n",
    "FROM purchased_tracks"
   ]
  },
  {
   "cell_type": "markdown",
   "metadata": {},
   "source": [
    "Almost 50% of the entire store has not been purchased.  There could be an oppurtunity to consolidate the store into more frequently purchased tracks if the store is paying any upfront fees for having the non purchased tracks."
   ]
  },
  {
   "cell_type": "markdown",
   "metadata": {},
   "source": [
    "# Conclusion\n",
    "In this project we used SQL to run a lot of different analyses on the Chinook music store.  If management had ideas for consolidation or boosting revenues, we were able to show whether or not their ideas would help or be a detriment."
   ]
  }
 ],
 "metadata": {
  "kernelspec": {
   "display_name": "Python 3",
   "language": "python",
   "name": "python3"
  },
  "language_info": {
   "codemirror_mode": {
    "name": "ipython",
    "version": 3
   },
   "file_extension": ".py",
   "mimetype": "text/x-python",
   "name": "python",
   "nbconvert_exporter": "python",
   "pygments_lexer": "ipython3",
   "version": "3.8.3"
  }
 },
 "nbformat": 4,
 "nbformat_minor": 2
}
